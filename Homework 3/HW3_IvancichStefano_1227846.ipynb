{
 "cells": [
  {
   "cell_type": "markdown",
   "metadata": {},
   "source": [
    "# Ivancich Stefano 1227846\n",
    "# HOMEWORK 3 - Deep Reinforcement Learning\n",
    "\n",
    "**Done:**\n",
    " - ...\n",
    "\n",
    "**Doing:**\n",
    " - ...\n",
    " \n",
    "**TODO:**\n",
    " - 2 pt: extend the notebook used in Lab 07, in order to study how the exploration profile (either using eps-greedy or softmax) impacts the learning curve. Try to **tune the model hyperparameters** or **tweak the reward function** in order to **speed-up learning convergence** (i.e., reach the same accuracy with fewer training episodes).\n",
    " - 3 pt: extend the notebook used in Lab 07, in order to learn to control the CartPole environment using directly the screen pixels, rather than the compact state representation used during the Lab (cart position, cart velocity, pole angle, pole angular velocity). This will require to change the “observation_space”.\n",
    " - 3 pt: train a deep RL agent on a different Gym environment. You are free to choose whatever Gym environment you like from the available list, or even explore other simulation platforms: https://gym.openai.com/envs\n",
    " "
   ]
  },
  {
   "cell_type": "code",
   "execution_count": 1,
   "metadata": {},
   "outputs": [],
   "source": [
    "import random\n",
    "import torch\n",
    "import numpy as np\n",
    "import gym\n",
    "import matplotlib.pyplot as plt\n",
    "from tqdm.notebook import tqdm\n",
    "\n",
    "from torch import nn\n",
    "from collections import deque # this python module implements exactly what we need for the replay memeory"
   ]
  },
  {
   "cell_type": "code",
   "execution_count": null,
   "metadata": {},
   "outputs": [],
   "source": []
  },
  {
   "cell_type": "markdown",
   "metadata": {},
   "source": [
    "# 1) CartPole gym environment"
   ]
  },
  {
   "cell_type": "markdown",
   "metadata": {},
   "source": [
    "## 1.1) Experience replay (Replay Memory)"
   ]
  },
  {
   "cell_type": "code",
   "execution_count": 2,
   "metadata": {},
   "outputs": [],
   "source": [
    "class ReplayMemory(object):\n",
    "\n",
    "    def __init__(self, capacity):\n",
    "        self.memory = deque(maxlen=capacity) # Define a queue with maxlen \"capacity\"\n",
    "\n",
    "    def push(self, state, action, next_state, reward):\n",
    "        self.memory.append( (state, action, next_state, reward) ) # Add the tuple (state, action, next_state, reward) to the queue\n",
    "\n",
    "    def sample(self, batch_size):\n",
    "        batch_size = min(batch_size, len(self)) # Get all the samples if the requested batch_size is higher than the number of sample currently in the memory\n",
    "        return random.sample(self.memory, batch_size) # Randomly select \"batch_size\" samples\n",
    "\n",
    "    def __len__(self):\n",
    "        return len(self.memory) # Return the number of samples currently stored in the memory"
   ]
  },
  {
   "cell_type": "code",
   "execution_count": 3,
   "metadata": {},
   "outputs": [
    {
     "name": "stdout",
     "output_type": "stream",
     "text": [
      "CURRENT MEMORY SIZE: 0\n",
      "CURRENT MEMORY SIZE: 1\n",
      "CURRENT MEMORY SIZE: 2\n",
      "CURRENT MEMORY SIZE: 3\n",
      "CURRENT MEMORY SIZE: 3\n",
      "CURRENT MEMORY SIZE: 3\n",
      "\n",
      "CONTENT OF THE MEMORY\n",
      "deque([(3, 3, 3, 3), (4, 4, 4, 4), (5, 5, 5, 5)], maxlen=3)\n",
      "\n",
      "RANDOM SAMPLING\n",
      "[(3, 3, 3, 3), (4, 4, 4, 4)]\n",
      "[(3, 3, 3, 3), (5, 5, 5, 5)]\n",
      "[(4, 4, 4, 4), (5, 5, 5, 5)]\n",
      "[(3, 3, 3, 3), (5, 5, 5, 5)]\n",
      "[(4, 4, 4, 4), (3, 3, 3, 3)]\n"
     ]
    }
   ],
   "source": [
    "######## TEST IF THE MEMORY WORKS ###########à\n",
    "# Define the replay memory\n",
    "replay_mem = ReplayMemory(capacity=3)\n",
    "\n",
    "# Push some samples\n",
    "print(f\"CURRENT MEMORY SIZE: {len(replay_mem)}\")\n",
    "replay_mem.push(1,1,1,1)\n",
    "print(f\"CURRENT MEMORY SIZE: {len(replay_mem)}\")\n",
    "replay_mem.push(2,2,2,2)\n",
    "print(f\"CURRENT MEMORY SIZE: {len(replay_mem)}\")\n",
    "replay_mem.push(3,3,3,3)\n",
    "print(f\"CURRENT MEMORY SIZE: {len(replay_mem)}\")\n",
    "replay_mem.push(4,4,4,4)\n",
    "print(f\"CURRENT MEMORY SIZE: {len(replay_mem)}\")\n",
    "replay_mem.push(5,5,5,5)\n",
    "print(f\"CURRENT MEMORY SIZE: {len(replay_mem)}\")\n",
    "\n",
    "# Check the content of the memory\n",
    "print('\\nCONTENT OF THE MEMORY')\n",
    "print(replay_mem.memory)\n",
    "\n",
    "# Random sample\n",
    "print('\\nRANDOM SAMPLING')\n",
    "for i in range(5):\n",
    "  print(replay_mem.sample(2)) # Select 2 samples randomly from the memory"
   ]
  },
  {
   "cell_type": "markdown",
   "metadata": {},
   "source": [
    "## 1.2) Policy network\n",
    "The policy network takes a state as input, and provides the Q-value for each of the possible actions.\n",
    "\n",
    "Let's define a simple generic fully-connected feed forward network with `state_space_dim` inputs and `action_space_dim` outputs (e.g. 2 hidden layers with 64 neurons each). \n",
    "\n",
    "Be sure to keep a linear output activation."
   ]
  },
  {
   "cell_type": "code",
   "execution_count": 4,
   "metadata": {},
   "outputs": [],
   "source": [
    "class DQN(nn.Module):\n",
    "\n",
    "    def __init__(self, state_space_dim, action_space_dim):\n",
    "        super().__init__()\n",
    "\n",
    "        self.linear = nn.Sequential(\n",
    "                nn.Linear(state_space_dim, 128),\n",
    "                nn.Tanh(),\n",
    "                nn.Linear(128, 128),\n",
    "                nn.Tanh(),\n",
    "                nn.Linear(128, action_space_dim)\n",
    "                )\n",
    "\n",
    "    def forward(self, x):\n",
    "        return self.linear(x)"
   ]
  },
  {
   "cell_type": "code",
   "execution_count": 5,
   "metadata": {},
   "outputs": [],
   "source": [
    "# Define an example network\n",
    "net = DQN(state_space_dim=4, action_space_dim=2)"
   ]
  },
  {
   "cell_type": "markdown",
   "metadata": {},
   "source": [
    "## 1.3) Exploration Policy\n",
    "Starting from the estimated Q-values, we need to choose the proper action. This action may be the one expected to provide the highest long term reward (exploitation), or maybe we want to find a better policy by choosing a different action (exploration).\n",
    "\n",
    "The exploration policy controls this behavior, typically by varying a single parameter.\n",
    "\n",
    "Since our Q-values estimates are far from the true values at the beginning of the training, a high exploration is preferred in the initial phase.\n",
    "\n",
    "The steps are:\n",
    "\n",
    "`Current state -> Policy network -> Q-values -> Exploration Policy -> Action`"
   ]
  },
  {
   "cell_type": "markdown",
   "metadata": {},
   "source": [
    "### 1.3.1) Epsilon-greedy policy\n",
    "Choose a non optimal action with probability epsilon, otherwise choose the best action (the one corresponding to the highest Q-value)."
   ]
  },
  {
   "cell_type": "code",
   "execution_count": 6,
   "metadata": {},
   "outputs": [],
   "source": [
    "def choose_action_epsilon_greedy(net, state, epsilon):\n",
    "    \n",
    "    if epsilon > 1 or epsilon < 0:\n",
    "        raise Exception('The epsilon value must be between 0 and 1')\n",
    "                \n",
    "    # Evaluate the network output from the current state\n",
    "    with torch.no_grad():\n",
    "        net.eval()\n",
    "        state = torch.tensor(state, dtype=torch.float32) # Convert the state to tensor\n",
    "        net_out = net(state)\n",
    "\n",
    "    # Get the best action (argmax of the network output)\n",
    "    best_action = int(net_out.argmax())\n",
    "    # Get the number of possible actions\n",
    "    action_space_dim = net_out.shape[-1]\n",
    "\n",
    "    # Select a non optimal action with probability epsilon, otherwise choose the best action\n",
    "    if random.random() < epsilon:\n",
    "        # List of non-optimal actions\n",
    "        non_optimal_actions = [a for a in range(action_space_dim) if a != best_action]\n",
    "        # Select randomly\n",
    "        action = random.choice(non_optimal_actions)\n",
    "    else:\n",
    "        # Select best action\n",
    "        action = best_action\n",
    "        \n",
    "    return action, net_out.numpy()"
   ]
  },
  {
   "cell_type": "code",
   "execution_count": 10,
   "metadata": {},
   "outputs": [
    {
     "name": "stdout",
     "output_type": "stream",
     "text": [
      "ACTION: 0\n",
      "Q-VALUES: [-0.00874558 -0.19933909]\n"
     ]
    }
   ],
   "source": [
    "# Test if it works as expected\n",
    "state = (0, 0, 0, 0)\n",
    "epsilon = 0.5\n",
    "chosen_action, q_values = choose_action_epsilon_greedy(net, state, epsilon)\n",
    "\n",
    "print(f\"ACTION: {chosen_action}\")\n",
    "print(f\"Q-VALUES: {q_values}\")"
   ]
  },
  {
   "cell_type": "markdown",
   "metadata": {},
   "source": [
    "### 1.3.2) Softmax policy\n",
    "With a softmax policy we choose the action based on a distribution obtained applying a softmax (with temperature  𝜏 ) to the estimated Q-values. The highest the temperature, the more the distribution will converge to a random uniform distribution. At zero temperature, instead, the policy will always choose the action with the highest Q-value."
   ]
  },
  {
   "cell_type": "code",
   "execution_count": 11,
   "metadata": {},
   "outputs": [],
   "source": [
    "def choose_action_softmax(net, state, temperature):\n",
    "    \n",
    "    if temperature < 0:\n",
    "        raise Exception('The temperature value must be greater than or equal to 0 ')\n",
    "        \n",
    "    # If the temperature is 0, just select the best action using the eps-greedy policy with epsilon = 0\n",
    "    if temperature == 0:\n",
    "        return choose_action_epsilon_greedy(net, state, 0)\n",
    "    \n",
    "    # Evaluate the network output from the current state\n",
    "    with torch.no_grad():\n",
    "        net.eval()\n",
    "        state = torch.tensor(state, dtype=torch.float32)\n",
    "        net_out = net(state)\n",
    "\n",
    "    # Apply softmax with temp\n",
    "    temperature = max(temperature, 1e-8) # set a minimum to the temperature for numerical stability\n",
    "    softmax_out = nn.functional.softmax(net_out / temperature, dim=0).numpy()\n",
    "                \n",
    "    # Sample the action using softmax output as mass pdf\n",
    "    all_possible_actions = np.arange(0, softmax_out.shape[-1])\n",
    "    action = np.random.choice(all_possible_actions, p=softmax_out) # this samples a random element from \"all_possible_actions\" with the probability distribution p (softmax_out in this case)\n",
    "    \n",
    "    return action, net_out.numpy()"
   ]
  },
  {
   "cell_type": "code",
   "execution_count": 12,
   "metadata": {},
   "outputs": [
    {
     "name": "stdout",
     "output_type": "stream",
     "text": [
      "ACTION: 1\n",
      "Q-VALUES: [-0.00874558 -0.19933909]\n"
     ]
    }
   ],
   "source": [
    "# Test if it works as expected\n",
    "state = (0, 0, 0, 0)\n",
    "temperature = 1\n",
    "chosen_action, q_values = choose_action_softmax(net, state, temperature)\n",
    "\n",
    "print(f\"ACTION: {chosen_action}\")\n",
    "print(f\"Q-VALUES: {q_values}\")"
   ]
  },
  {
   "cell_type": "markdown",
   "metadata": {},
   "source": [
    "### 1.3.3) Exploration profile\n",
    "Let's consider, for example, an exponentially decreasing exploration profile using a softmax policy.\n",
    "\n",
    "$$\n",
    "\\text{softmax_temperature}  = \\text{initial_temperature} * \\text{exp_decay}^i \\qquad \\text{for $i$ = 1, 2, ..., num_iterations } \n",
    "$$\n",
    "\n",
    "Alternatively, you can consider an epsilon greedy policy. In this case the exploration would be controlled by the epsilon parameter, for which you should consider a different initial value (max 1). "
   ]
  },
  {
   "cell_type": "code",
   "execution_count": 13,
   "metadata": {},
   "outputs": [
    {
     "data": {
      "text/plain": [
       "Text(0, 0.5, 'Exploration profile (Softmax temperature)')"
      ]
     },
     "execution_count": 13,
     "metadata": {},
     "output_type": "execute_result"
    },
    {
     "data": {
      "image/png": "[encoded data removed]",
      "text/plain": [
       "<Figure size 864x576 with 1 Axes>"
      ]
     },
     "metadata": {
      "needs_background": "light"
     },
     "output_type": "display_data"
    }
   ],
   "source": [
    "### Define exploration profile\n",
    "initial_value = 5\n",
    "#num_iterations = 1000\n",
    "num_iterations = 100\n",
    "exp_decay = np.exp(-np.log(initial_value) / num_iterations * 6) # We compute the exponential decay in such a way the shape of the exploration profile does not depend on the number of iterations\n",
    "exploration_profile = [initial_value * (exp_decay ** i) for i in range(num_iterations)]\n",
    "\n",
    "### Plot exploration profile\n",
    "plt.figure(figsize=(12,8))\n",
    "plt.plot(exploration_profile)\n",
    "plt.grid()\n",
    "plt.xlabel('Iteration')\n",
    "plt.ylabel('Exploration profile (Softmax temperature)')"
   ]
  },
  {
   "cell_type": "markdown",
   "metadata": {},
   "source": [
    "## 1.4) Gym Environment (CartPole-v1)\n",
    "A pole is attached by an un-actuated joint to a cart, which moves along a frictionless track. The system is controlled by applying a force of +1 or -1 to the cart. The pendulum starts upright, and the goal is to prevent it from falling over. A reward of +1 is provided for every timestep that the pole remains upright. The episode ends when the pole is more than 15 degrees from vertical, or the cart moves more than 2.4 units from the center."
   ]
  },
  {
   "cell_type": "code",
   "execution_count": 14,
   "metadata": {},
   "outputs": [
    {
     "name": "stdout",
     "output_type": "stream",
     "text": [
      "STATE SPACE SIZE: 4\n",
      "ACTION SPACE SIZE: 2\n"
     ]
    }
   ],
   "source": [
    "### Create environment\n",
    "env = gym.make('CartPole-v1') # Initialize the Gym environment\n",
    "env.seed(0) # Set a random seed for the environment (reproducible results)\n",
    "\n",
    "# Get the shapes of the state space (observation_space) and action space (action_space)\n",
    "state_space_dim = env.observation_space.shape[0]\n",
    "action_space_dim = env.action_space.n\n",
    "\n",
    "print(f\"STATE SPACE SIZE: {state_space_dim}\")\n",
    "print(f\"ACTION SPACE SIZE: {action_space_dim}\")"
   ]
  },
  {
   "cell_type": "markdown",
   "metadata": {},
   "source": [
    "### 1.4.1) Test Environment with a Random Agent"
   ]
  },
  {
   "cell_type": "code",
   "execution_count": 15,
   "metadata": {},
   "outputs": [
    {
     "name": "stdout",
     "output_type": "stream",
     "text": [
      "EPISODE 1 - FINAL SCORE: 23.0\n",
      "EPISODE 2 - FINAL SCORE: 37.0\n",
      "EPISODE 3 - FINAL SCORE: 37.0\n",
      "EPISODE 4 - FINAL SCORE: 41.0\n",
      "EPISODE 5 - FINAL SCORE: 13.0\n",
      "EPISODE 6 - FINAL SCORE: 18.0\n",
      "EPISODE 7 - FINAL SCORE: 66.0\n",
      "EPISODE 8 - FINAL SCORE: 33.0\n",
      "EPISODE 9 - FINAL SCORE: 15.0\n",
      "EPISODE 10 - FINAL SCORE: 24.0\n"
     ]
    }
   ],
   "source": [
    "# Initialize the Gym environment\n",
    "env = gym.make('CartPole-v1') \n",
    "env.seed(0) # Set a random seed for the environment (reproducible results)\n",
    "\n",
    "# This is for creating the output video in Colab, not required outside Colab\n",
    "#env = wrap_env(env, video_callable=lambda episode_id: True)\n",
    "\n",
    "# Let's try for a total of 10 episodes\n",
    "for num_episode in range(10): \n",
    "    # Reset the environment and get the initial state\n",
    "    state = env.reset()\n",
    "    # Reset the score. The final score will be the total amount of steps before the pole falls\n",
    "    score = 0\n",
    "    done = False\n",
    "    # Go on until the pole falls off or the score reach 490\n",
    "    while not done and score < 490:\n",
    "      # Choose a random action\n",
    "      action = random.choice([0, 1])\n",
    "      # Apply the action and get the next state, the reward and a flag \"done\" that is True if the game is ended\n",
    "      next_state, reward, done, info = env.step(action)\n",
    "      # Visually render the environment (optional, comment this line to speed up the simulation)\n",
    "      env.render()\n",
    "      # Update the final score (+1 for each step)\n",
    "      score += reward \n",
    "      # Set the current state for the next iteration\n",
    "      state = next_state\n",
    "      # Check if the episode ended (the pole fell down)\n",
    "    # Print the final score\n",
    "    print(f\"EPISODE {num_episode + 1} - FINAL SCORE: {score}\") \n",
    "\n",
    "env.close()\n"
   ]
  },
  {
   "cell_type": "markdown",
   "metadata": {},
   "source": [
    "## 1.5) Network update"
   ]
  },
  {
   "cell_type": "markdown",
   "metadata": {},
   "source": [
    "### 1.5.1) Initialization"
   ]
  },
  {
   "cell_type": "code",
   "execution_count": 16,
   "metadata": {},
   "outputs": [],
   "source": [
    "# Set random seeds\n",
    "torch.manual_seed(0)\n",
    "np.random.seed(0)\n",
    "random.seed(0)\n",
    "\n",
    "### PARAMETERS\n",
    "gamma = 0.97   # gamma parameter for the long term reward\n",
    "replay_memory_capacity = 10000   # Replay memory capacity\n",
    "lr = 1e-2   # Optimizer learning rate\n",
    "target_net_update_steps = 10   # Number of episodes to wait before updating the target network\n",
    "batch_size = 128   # Number of samples to take from the replay memory for each update\n",
    "bad_state_penalty = 0   # Penalty to the reward when we are in a bad state (in this case when the pole falls down) \n",
    "min_samples_for_training = 1000   # Minimum samples in the replay memory to enable the training"
   ]
  },
  {
   "cell_type": "code",
   "execution_count": 17,
   "metadata": {},
   "outputs": [],
   "source": [
    "### Initialize the replay memory\n",
    "replay_mem = ReplayMemory(replay_memory_capacity)    \n",
    "\n",
    "### Initialize the policy network\n",
    "policy_net = DQN(state_space_dim, action_space_dim)\n",
    "\n",
    "### Initialize the target network with the same weights of the policy network\n",
    "target_net = DQN(state_space_dim, action_space_dim)\n",
    "target_net.load_state_dict(policy_net.state_dict()) # This will copy the weights of the policy network to the target network\n",
    "\n",
    "### Initialize the optimizer\n",
    "optimizer = torch.optim.SGD(policy_net.parameters(), lr=lr) # The optimizer will update ONLY the parameters of the policy network\n",
    "\n",
    "### Initialize the loss function (Huber loss)\n",
    "loss_fn = nn.SmoothL1Loss()"
   ]
  },
  {
   "cell_type": "markdown",
   "metadata": {},
   "source": [
    "### 1.5.2) Update function"
   ]
  },
  {
   "cell_type": "code",
   "execution_count": 18,
   "metadata": {},
   "outputs": [],
   "source": [
    "def update_step(policy_net, target_net, replay_mem, gamma, optimizer, loss_fn, batch_size):\n",
    "        \n",
    "    # Sample the data from the replay memory\n",
    "    batch = replay_mem.sample(batch_size)\n",
    "    batch_size = len(batch)\n",
    "\n",
    "    # Create tensors for each element of the batch\n",
    "    states      = torch.tensor([s[0] for s in batch], dtype=torch.float32)\n",
    "    actions     = torch.tensor([s[1] for s in batch], dtype=torch.int64)\n",
    "    rewards     = torch.tensor([s[3] for s in batch], dtype=torch.float32)\n",
    "\n",
    "    # Compute a mask of non-final states (all the elements where the next state is not None)\n",
    "    non_final_next_states = torch.tensor([s[2] for s in batch if s[2] is not None], dtype=torch.float32) # the next state can be None if the game has ended\n",
    "    non_final_mask = torch.tensor([s[2] is not None for s in batch], dtype=torch.bool)\n",
    "\n",
    "    # Compute all the Q values (forward pass)\n",
    "    policy_net.train()\n",
    "    q_values = policy_net(states)\n",
    "    # Select the proper Q value for the corresponding action taken Q(s_t, a)\n",
    "    state_action_values = q_values.gather(1, actions.unsqueeze(1))\n",
    "\n",
    "    # Compute the value function of the next states using the target network V(s_{t+1}) = max_a( Q_target(s_{t+1}, a)) )\n",
    "    with torch.no_grad():\n",
    "        target_net.eval()\n",
    "        q_values_target = target_net(non_final_next_states)\n",
    "    next_state_max_q_values = torch.zeros(batch_size)\n",
    "    next_state_max_q_values[non_final_mask] = q_values_target.max(dim=1)[0]\n",
    "\n",
    "    # Compute the expected Q values\n",
    "    expected_state_action_values = rewards + (next_state_max_q_values * gamma)\n",
    "    expected_state_action_values = expected_state_action_values.unsqueeze(1) # Set the required tensor shape\n",
    "\n",
    "    # Compute the Huber loss\n",
    "    loss = loss_fn(state_action_values, expected_state_action_values)\n",
    "\n",
    "    # Optimize the model\n",
    "    optimizer.zero_grad()\n",
    "    loss.backward()\n",
    "    # Apply gradient clipping (clip all the gradients greater than 2 for training stability)\n",
    "    nn.utils.clip_grad_norm_(policy_net.parameters(), 2)\n",
    "    optimizer.step()"
   ]
  },
  {
   "cell_type": "markdown",
   "metadata": {},
   "source": [
    "## 1.6) Training loop"
   ]
  },
  {
   "cell_type": "code",
   "execution_count": 22,
   "metadata": {},
   "outputs": [
    {
     "data": {
      "application/vnd.jupyter.widget-view+json": {
       "model_id": "b646458994d743fdb839d5b70d6e1d2c",
       "version_major": 2,
       "version_minor": 0
      },
      "text/plain": [
       "HBox(children=(FloatProgress(value=0.0), HTML(value='')))"
      ]
     },
     "metadata": {},
     "output_type": "display_data"
    },
    {
     "name": "stdout",
     "output_type": "stream",
     "text": [
      "Updating target network...\n",
      "EPISODE: 1 - FINAL SCORE: 39 - Temperature: 5.0\n",
      "EPISODE: 2 - FINAL SCORE: 20 - Temperature: 4.539748607342401\n",
      "EPISODE: 3 - FINAL SCORE: 14 - Temperature: 4.121863483573453\n",
      "EPISODE: 4 - FINAL SCORE: 16 - Temperature: 3.7424448018416157\n",
      "EPISODE: 5 - FINAL SCORE: 26 - Temperature: 3.3979517154432557\n",
      "EPISODE: 6 - FINAL SCORE: 18 - Temperature: 3.0851693136000478\n",
      "EPISODE: 7 - FINAL SCORE: 10 - Temperature: 2.801178618966266\n",
      "EPISODE: 8 - FINAL SCORE: 35 - Temperature: 2.5433293468738825\n",
      "EPISODE: 9 - FINAL SCORE: 14 - Temperature: 2.309215172096753\n",
      "EPISODE: 10 - FINAL SCORE: 36 - Temperature: 2.096651272316035\n",
      "Updating target network...\n",
      "EPISODE: 11 - FINAL SCORE: 28 - Temperature: 1.9036539387158786\n",
      "EPISODE: 12 - FINAL SCORE: 10 - Temperature: 1.728422063429457\n",
      "EPISODE: 13 - FINAL SCORE: 28 - Temperature: 1.569320331070751\n",
      "EPISODE: 14 - FINAL SCORE: 13 - Temperature: 1.4248639574905115\n",
      "EPISODE: 15 - FINAL SCORE: 20 - Temperature: 1.293704833333986\n",
      "EPISODE: 16 - FINAL SCORE: 28 - Temperature: 1.174618943088019\n",
      "EPISODE: 17 - FINAL SCORE: 21 - Temperature: 1.0664949422083674\n",
      "EPISODE: 18 - FINAL SCORE: 26 - Temperature: 0.9683237857256298\n",
      "EPISODE: 19 - FINAL SCORE: 25 - Temperature: 0.8791893115408899\n",
      "EPISODE: 20 - FINAL SCORE: 32 - Temperature: 0.7982596905316157\n",
      "Updating target network...\n",
      "EPISODE: 21 - FINAL SCORE: 31 - Temperature: 0.7247796636776955\n",
      "EPISODE: 22 - FINAL SCORE: 29 - Temperature: 0.6580634937621823\n",
      "EPISODE: 23 - FINAL SCORE: 44 - Temperature: 0.5974885658699483\n",
      "EPISODE: 24 - FINAL SCORE: 25 - Temperature: 0.5424895769622212\n",
      "EPISODE: 25 - FINAL SCORE: 49 - Temperature: 0.4925532603024023\n",
      "EPISODE: 26 - FINAL SCORE: 27 - Temperature: 0.4472135954999579\n",
      "EPISODE: 27 - FINAL SCORE: 33 - Temperature: 0.4060474594711044\n",
      "EPISODE: 28 - FINAL SCORE: 25 - Temperature: 0.36867067772977313\n",
      "EPISODE: 29 - FINAL SCORE: 140 - Temperature: 0.33473443915834333\n",
      "EPISODE: 30 - FINAL SCORE: 156 - Temperature: 0.3039220407997257\n",
      "Updating target network...\n",
      "EPISODE: 31 - FINAL SCORE: 45 - Temperature: 0.27594593229224296\n",
      "EPISODE: 32 - FINAL SCORE: 38 - Temperature: 0.25054503236510206\n",
      "EPISODE: 33 - FINAL SCORE: 85 - Temperature: 0.22748229235120573\n",
      "EPISODE: 34 - FINAL SCORE: 24 - Temperature: 0.2065424839792886\n",
      "EPISODE: 35 - FINAL SCORE: 32 - Temperature: 0.18753019080040312\n",
      "EPISODE: 36 - FINAL SCORE: 76 - Temperature: 0.17026798450415692\n",
      "EPISODE: 37 - FINAL SCORE: 34 - Temperature: 0.15459476910554876\n",
      "EPISODE: 38 - FINAL SCORE: 71 - Temperature: 0.140364277549867\n",
      "EPISODE: 39 - FINAL SCORE: 31 - Temperature: 0.12744370670552616\n",
      "EPISODE: 40 - FINAL SCORE: 64 - Temperature: 0.11571247800619314\n",
      "Updating target network...\n",
      "EPISODE: 41 - FINAL SCORE: 85 - Temperature: 0.10506111217615069\n",
      "EPISODE: 42 - FINAL SCORE: 36 - Temperature: 0.09539020753750475\n",
      "EPISODE: 43 - FINAL SCORE: 56 - Temperature: 0.08660951236449796\n",
      "EPISODE: 44 - FINAL SCORE: 52 - Temperature: 0.0786370826278668\n",
      "EPISODE: 45 - FINAL SCORE: 62 - Temperature: 0.07139851726906551\n",
      "EPISODE: 46 - FINAL SCORE: 41 - Temperature: 0.0648262638677105\n",
      "EPISODE: 47 - FINAL SCORE: 94 - Temperature: 0.05885898822252995\n",
      "EPISODE: 48 - FINAL SCORE: 81 - Temperature: 0.053441001962562615\n",
      "EPISODE: 49 - FINAL SCORE: 52 - Temperature: 0.04852174284690522\n",
      "EPISODE: 50 - FINAL SCORE: 56 - Temperature: 0.04405530290301281\n",
      "Updating target network...\n",
      "EPISODE: 51 - FINAL SCORE: 161 - Temperature: 0.04\n",
      "EPISODE: 52 - FINAL SCORE: 89 - Temperature: 0.03631798885873921\n",
      "EPISODE: 53 - FINAL SCORE: 60 - Temperature: 0.03297490786858762\n",
      "EPISODE: 54 - FINAL SCORE: 55 - Temperature: 0.029939558414732927\n",
      "EPISODE: 55 - FINAL SCORE: 63 - Temperature: 0.02718361372354605\n",
      "EPISODE: 56 - FINAL SCORE: 79 - Temperature: 0.024681354508800386\n",
      "EPISODE: 57 - FINAL SCORE: 55 - Temperature: 0.022409428951730127\n",
      "EPISODE: 58 - FINAL SCORE: 46 - Temperature: 0.02034663477499106\n",
      "EPISODE: 59 - FINAL SCORE: 55 - Temperature: 0.018473721376774027\n",
      "EPISODE: 60 - FINAL SCORE: 50 - Temperature: 0.016773210178528283\n",
      "Updating target network...\n",
      "EPISODE: 61 - FINAL SCORE: 57 - Temperature: 0.015229231509727029\n",
      "EPISODE: 62 - FINAL SCORE: 91 - Temperature: 0.013827376507435655\n",
      "EPISODE: 63 - FINAL SCORE: 40 - Temperature: 0.012554562648566008\n",
      "EPISODE: 64 - FINAL SCORE: 54 - Temperature: 0.011398911659924092\n",
      "EPISODE: 65 - FINAL SCORE: 54 - Temperature: 0.010349638666671889\n",
      "EPISODE: 66 - FINAL SCORE: 83 - Temperature: 0.009396951544704152\n",
      "EPISODE: 67 - FINAL SCORE: 92 - Temperature: 0.00853195953766694\n",
      "EPISODE: 68 - FINAL SCORE: 73 - Temperature: 0.007746590285805039\n",
      "EPISODE: 69 - FINAL SCORE: 73 - Temperature: 0.007033514492327119\n",
      "EPISODE: 70 - FINAL SCORE: 97 - Temperature: 0.006386077524252925\n",
      "Updating target network...\n",
      "EPISODE: 71 - FINAL SCORE: 47 - Temperature: 0.005798237309421564\n",
      "EPISODE: 72 - FINAL SCORE: 46 - Temperature: 0.005264507950097459\n",
      "EPISODE: 73 - FINAL SCORE: 64 - Temperature: 0.0047799085269595865\n",
      "EPISODE: 74 - FINAL SCORE: 56 - Temperature: 0.00433991661569777\n",
      "EPISODE: 75 - FINAL SCORE: 65 - Temperature: 0.0039404260824192185\n",
      "EPISODE: 76 - FINAL SCORE: 46 - Temperature: 0.0035777087639996636\n",
      "EPISODE: 77 - FINAL SCORE: 61 - Temperature: 0.003248379675768835\n",
      "EPISODE: 78 - FINAL SCORE: 48 - Temperature: 0.002949365421838185\n",
      "EPISODE: 79 - FINAL SCORE: 67 - Temperature: 0.0026778755132667465\n",
      "EPISODE: 80 - FINAL SCORE: 50 - Temperature: 0.0024313763263978053\n",
      "Updating target network...\n",
      "EPISODE: 81 - FINAL SCORE: 51 - Temperature: 0.002207567458337944\n",
      "EPISODE: 82 - FINAL SCORE: 97 - Temperature: 0.0020043602589208164\n",
      "EPISODE: 83 - FINAL SCORE: 69 - Temperature: 0.0018198583388096463\n",
      "EPISODE: 84 - FINAL SCORE: 57 - Temperature: 0.001652339871834309\n",
      "EPISODE: 85 - FINAL SCORE: 66 - Temperature: 0.0015002415264032249\n",
      "EPISODE: 86 - FINAL SCORE: 83 - Temperature: 0.0013621438760332556\n",
      "EPISODE: 87 - FINAL SCORE: 51 - Temperature: 0.00123675815284439\n",
      "EPISODE: 88 - FINAL SCORE: 65 - Temperature: 0.001122914220398936\n",
      "EPISODE: 89 - FINAL SCORE: 59 - Temperature: 0.0010195496536442093\n",
      "EPISODE: 90 - FINAL SCORE: 88 - Temperature: 0.0009256998240495452\n",
      "Updating target network...\n",
      "EPISODE: 91 - FINAL SCORE: 80 - Temperature: 0.0008404888974092056\n",
      "EPISODE: 92 - FINAL SCORE: 65 - Temperature: 0.0007631216603000381\n",
      "EPISODE: 93 - FINAL SCORE: 81 - Temperature: 0.0006928760989159837\n",
      "EPISODE: 94 - FINAL SCORE: 107 - Temperature: 0.0006290966610229344\n",
      "EPISODE: 95 - FINAL SCORE: 98 - Temperature: 0.0005711881381525242\n",
      "EPISODE: 96 - FINAL SCORE: 91 - Temperature: 0.000518610110941684\n",
      "EPISODE: 97 - FINAL SCORE: 58 - Temperature: 0.00047087190578023953\n",
      "EPISODE: 98 - FINAL SCORE: 130 - Temperature: 0.0004275280157005009\n",
      "EPISODE: 99 - FINAL SCORE: 155 - Temperature: 0.00038817394277524173\n",
      "EPISODE: 100 - FINAL SCORE: 87 - Temperature: 0.0003524424232241025\n",
      "\n"
     ]
    }
   ],
   "source": [
    "# Initialize the Gym environment\n",
    "env = gym.make('CartPole-v1') \n",
    "env.seed(0) # Set a random seed for the environment (reproducible results)\n",
    "\n",
    "# This is for creating the output video in Colab, not required outside Colab\n",
    "#env = wrap_env(env, video_callable=lambda episode_id: episode_id % 100 == 0) # Save a video every 100 episodes\n",
    "\n",
    "for episode_num, tau in enumerate(tqdm(exploration_profile)):\n",
    "\n",
    "    # Reset the environment and get the initial state\n",
    "    state = env.reset()\n",
    "    # Reset the score. The final score will be the total amount of steps before the pole falls\n",
    "    score = 0\n",
    "    done = False\n",
    "\n",
    "    # Go on until the pole falls off\n",
    "    while not done:\n",
    "\n",
    "        # Choose the action following the policy\n",
    "        action, q_values = choose_action_softmax(policy_net, state, temperature=tau)\n",
    "\n",
    "        # Apply the action and get the next state, the reward and a flag \"done\" that is True if the game is ended\n",
    "        next_state, reward, done, info = env.step(action)\n",
    "\n",
    "        # We apply a (linear) penalty when the cart is far from center\n",
    "        pos_weight = 1\n",
    "        reward = reward - pos_weight * np.abs(state[0]) \n",
    "\n",
    "        # Update the final score (+1 for each step)\n",
    "        score += 1\n",
    "\n",
    "        # Apply penalty for bad state\n",
    "        if done: # if the pole has fallen down \n",
    "            reward += bad_state_penalty\n",
    "            next_state = None\n",
    "\n",
    "        # Update the replay memory\n",
    "        replay_mem.push(state, action, next_state, reward)\n",
    "\n",
    "        # Update the network\n",
    "        if len(replay_mem) > min_samples_for_training: # we enable the training only if we have enough samples in the replay memory, otherwise the training will use the same samples too often\n",
    "            update_step(policy_net, target_net, replay_mem, gamma, optimizer, loss_fn, batch_size)\n",
    "\n",
    "        # Visually render the environment (disable to speed up the training)\n",
    "        env.render()\n",
    "\n",
    "        # Set the current state for the next iteration\n",
    "        state = next_state\n",
    "\n",
    "    # Update the target network every target_net_update_steps episodes\n",
    "    if episode_num % target_net_update_steps == 0:\n",
    "        print('Updating target network...')\n",
    "        target_net.load_state_dict(policy_net.state_dict()) # This will copy the weights of the policy network to the target network\n",
    "\n",
    "    # Print the final score\n",
    "    print(f\"EPISODE: {episode_num + 1} - FINAL SCORE: {score} - Temperature: {tau}\") # Print the final score\n",
    "\n",
    "env.close()"
   ]
  },
  {
   "cell_type": "markdown",
   "metadata": {},
   "source": [
    "## 1.7) Final test"
   ]
  },
  {
   "cell_type": "code",
   "execution_count": 23,
   "metadata": {},
   "outputs": [
    {
     "name": "stdout",
     "output_type": "stream",
     "text": [
      "EPISODE 1 - FINAL SCORE: 65.0\n",
      "EPISODE 2 - FINAL SCORE: 52.0\n",
      "EPISODE 3 - FINAL SCORE: 129.0\n",
      "EPISODE 4 - FINAL SCORE: 142.0\n",
      "EPISODE 5 - FINAL SCORE: 134.0\n",
      "EPISODE 6 - FINAL SCORE: 144.0\n",
      "EPISODE 7 - FINAL SCORE: 69.0\n",
      "EPISODE 8 - FINAL SCORE: 143.0\n",
      "EPISODE 9 - FINAL SCORE: 84.0\n",
      "EPISODE 10 - FINAL SCORE: 137.0\n"
     ]
    }
   ],
   "source": [
    "# Initialize the Gym environment\n",
    "env = gym.make('CartPole-v1') \n",
    "env.seed(1) # Set a random seed for the environment (reproducible results)\n",
    "\n",
    "# This is for creating the output video in Colab, not required outside Colab\n",
    "#env = wrap_env(env, video_callable=lambda episode_id: True) # Save a video every episode\n",
    "\n",
    "# Let's try for a total of 10 episodes\n",
    "for num_episode in range(10): \n",
    "    # Reset the environment and get the initial state\n",
    "    state = env.reset()\n",
    "    # Reset the score. The final score will be the total amount of steps before the pole falls\n",
    "    score = 0\n",
    "    done = False\n",
    "    # Go on until the pole falls off or the score reach 490\n",
    "    while not done:\n",
    "        # Choose the best action (temperature 0)\n",
    "        action, q_values = choose_action_softmax(policy_net, state, temperature=0)\n",
    "        # Apply the action and get the next state, the reward and a flag \"done\" that is True if the game is ended\n",
    "        next_state, reward, done, info = env.step(action)\n",
    "        # Visually render the environment\n",
    "        env.render()\n",
    "        # Update the final score (+1 for each step)\n",
    "        score += reward \n",
    "        # Set the current state for the next iteration\n",
    "        state = next_state\n",
    "        # Check if the episode ended (the pole fell down)\n",
    "    # Print the final score\n",
    "    print(f\"EPISODE {num_episode + 1} - FINAL SCORE: {score}\") \n",
    "env.close()"
   ]
  },
  {
   "cell_type": "code",
   "execution_count": null,
   "metadata": {},
   "outputs": [],
   "source": []
  },
  {
   "cell_type": "code",
   "execution_count": null,
   "metadata": {},
   "outputs": [],
   "source": []
  },
  {
   "cell_type": "code",
   "execution_count": null,
   "metadata": {},
   "outputs": [],
   "source": []
  },
  {
   "cell_type": "code",
   "execution_count": null,
   "metadata": {},
   "outputs": [],
   "source": []
  },
  {
   "cell_type": "code",
   "execution_count": null,
   "metadata": {},
   "outputs": [],
   "source": []
  },
  {
   "cell_type": "markdown",
   "metadata": {},
   "source": [
    "# 2) Control CartPole using screen pixels"
   ]
  },
  {
   "cell_type": "code",
   "execution_count": null,
   "metadata": {},
   "outputs": [],
   "source": []
  },
  {
   "cell_type": "code",
   "execution_count": null,
   "metadata": {},
   "outputs": [],
   "source": []
  },
  {
   "cell_type": "code",
   "execution_count": null,
   "metadata": {},
   "outputs": [],
   "source": []
  },
  {
   "cell_type": "code",
   "execution_count": null,
   "metadata": {},
   "outputs": [],
   "source": []
  },
  {
   "cell_type": "code",
   "execution_count": null,
   "metadata": {},
   "outputs": [],
   "source": []
  },
  {
   "cell_type": "markdown",
   "metadata": {},
   "source": [
    "# 3) ??? gym environment"
   ]
  },
  {
   "cell_type": "code",
   "execution_count": null,
   "metadata": {},
   "outputs": [],
   "source": []
  },
  {
   "cell_type": "code",
   "execution_count": null,
   "metadata": {},
   "outputs": [],
   "source": []
  },
  {
   "cell_type": "code",
   "execution_count": null,
   "metadata": {},
   "outputs": [],
   "source": []
  },
  {
   "cell_type": "code",
   "execution_count": null,
   "metadata": {},
   "outputs": [],
   "source": []
  },
  {
   "cell_type": "code",
   "execution_count": null,
   "metadata": {},
   "outputs": [],
   "source": []
  },
  {
   "cell_type": "code",
   "execution_count": null,
   "metadata": {},
   "outputs": [],
   "source": []
  },
  {
   "cell_type": "code",
   "execution_count": null,
   "metadata": {},
   "outputs": [],
   "source": []
  },
  {
   "cell_type": "code",
   "execution_count": null,
   "metadata": {},
   "outputs": [],
   "source": []
  },
  {
   "cell_type": "code",
   "execution_count": null,
   "metadata": {},
   "outputs": [],
   "source": []
  },
  {
   "cell_type": "code",
   "execution_count": null,
   "metadata": {},
   "outputs": [],
   "source": []
  },
  {
   "cell_type": "code",
   "execution_count": null,
   "metadata": {},
   "outputs": [],
   "source": []
  },
  {
   "cell_type": "code",
   "execution_count": null,
   "metadata": {},
   "outputs": [],
   "source": []
  }
 ],
 "metadata": {
  "kernelspec": {
   "display_name": "gputest",
   "language": "python",
   "name": "gputest"
  },
  "language_info": {
   "codemirror_mode": {
    "name": "ipython",
    "version": 3
   },
   "file_extension": ".py",
   "mimetype": "text/x-python",
   "name": "python",
   "nbconvert_exporter": "python",
   "pygments_lexer": "ipython3",
   "version": "3.7.7"
  }
 },
 "nbformat": 4,
 "nbformat_minor": 4
}
