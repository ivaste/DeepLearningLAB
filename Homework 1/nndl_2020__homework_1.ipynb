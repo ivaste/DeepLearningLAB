{
  "nbformat": 4,
  "nbformat_minor": 0,
  "metadata": {
    "colab": {
      "name": "nndl_2020__homework_1.ipynb",
      "provenance": [],
      "collapsed_sections": [],
      "toc_visible": true
    },
    "kernelspec": {
      "name": "python3",
      "display_name": "Python 3"
    }
  },
  "cells": [
    {
      "cell_type": "markdown",
      "metadata": {
        "id": "zYncZVOyF8Rb"
      },
      "source": [
        "#NEURAL NETWORKS AND DEEP LEARNING\n",
        "> M.Sc. ICT FOR LIFE AND HEALTH\n",
        "> \n",
        "> Department of Information Engineering\n",
        "\n",
        "> M.Sc. COMPUTER ENGINEERING\n",
        ">\n",
        "> Department of Information Engineering\n",
        "\n",
        "> M.Sc. AUTOMATION ENGINEERING\n",
        ">\n",
        "> Department of Information Engineering\n",
        " \n",
        "> M.Sc. PHYSICS OF DATA\n",
        ">\n",
        "> Department of Physics and Astronomy\n",
        " \n",
        "> M.Sc. COGNITIVE NEUROSCIENCE AND CLINICAL NEUROPSYCHOLOGY\n",
        ">\n",
        "> Department of General Psychology\n",
        "\n",
        "---\n",
        "A.A. 2020/21 (6 CFU) - Dr. Alberto Testolin, Dr. Matteo Gadaleta\n",
        "---\n"
      ]
    },
    {
      "cell_type": "markdown",
      "metadata": {
        "id": "AgHJFDwYvgHg"
      },
      "source": [
        "# Homework 1 - Supervised Deep Learning"
      ]
    },
    {
      "cell_type": "markdown",
      "metadata": {
        "id": "bNENm7RHGFMd"
      },
      "source": [
        "## General overview\n",
        "In this homework you will learn how to implement and test simple neural network models for solving supervised problems. It is divided in two tasks.\n",
        "\n",
        "* **Regression task**: \n",
        "the regression model will consist in a simple function approximation problem, similar to the one discussed during the Lab practices. \n",
        "\n",
        "* **Classification task**: \n",
        "the classification model will consist in a simple image recognition problem, where the goal is to correctly classify images of handwritten digits (MNIST). \n",
        "\n",
        "In both cases, but especially for the classification problem, you should explore the use of advanced optimizers and regularization methods (e.g., initialization scheme, momentum, ADAM, early stopping, L2, L1 / sparsity, dropout…) to improve convergence of stochastic gradient descent and promote generalization. Learning hyperparameters should be tuned using appropriate search procedures, and final accuracy should be evaluated using a cross-validation setup. For the image classification task, you can also implement more advanced convolutional architectures and explore feature visualization techniques to better understand how the deep network is encoding information at different processing layers.\n"
      ]
    },
    {
      "cell_type": "markdown",
      "metadata": {
        "id": "bZGjMokMvk2h"
      },
      "source": [
        "\n",
        "## Technical notes\n",
        "The homework should be implemented in Python using the PyTorch framework. The student can explore additional libraries and tools to implement the models; however, please make sure you understand the code you are writing because during the exam you might receive specific questions related to your implementation. The entire source code required to run the homework must be uploaded as a compressed archive in a Moodle section dedicated to the homework.If your code will be entirely included in a single Python notebook, just upload the notebook file.\n",
        "\n"
      ]
    },
    {
      "cell_type": "markdown",
      "metadata": {
        "id": "UYZUBEMCvlpB"
      },
      "source": [
        "\n",
        "## Final report\n",
        "Along with the source code, you must separately upload a PDF file containing a brief report of your homework. The report should include a brief Introduction on which you explain the homework goals and the main implementation strategies you choose, a brief Method section where you describe your model architectures and hyperparameters, and a Result section where you present the simulation results. Total length should not exceed 6 pages, though you can include additional tables and figures in a final Appendix (optional).\n",
        "\n"
      ]
    },
    {
      "cell_type": "markdown",
      "metadata": {
        "id": "RchPc7G6vmRB"
      },
      "source": [
        "\n",
        "## Grade\n",
        "The maximum grade for this homework will be **8 points**. Points will be assigned based on the correct implementation of the following items:\n",
        "*\t2 pt: implement basic regression and classification tasks\n",
        "*\t2 pt: explore advanced optimizers and regularization methods \n",
        "*\t1 pt: optimize hyperparameters using grid/random search and cross-validation\n",
        "*\t2 pt: implement CNN for classification task\n",
        "*\t1 pt: visualize weight histograms, activation profiles and receptive fields\n"
      ]
    },
    {
      "cell_type": "markdown",
      "metadata": {
        "id": "LYE6Cjhgvm3B"
      },
      "source": [
        "\n",
        "## Deadline\n",
        "The complete homework (notebook + report) must be submitted through Moodle at least 10 days before the chosen exam date.\n"
      ]
    },
    {
      "cell_type": "markdown",
      "metadata": {
        "id": "rZCClsi8vrYi"
      },
      "source": [
        "# Regression task"
      ]
    },
    {
      "cell_type": "markdown",
      "metadata": {
        "id": "pHeLKNYayXKO"
      },
      "source": [
        "## Guidelines"
      ]
    },
    {
      "cell_type": "markdown",
      "metadata": {
        "id": "zs0AM6W_yoMs"
      },
      "source": [
        "* The goal is to train a neural network to approximate an unknown function:\n",
        "$$ \n",
        "f:\\mathbb{R}→\\mathbb{R} \\\\\n",
        "x↦y=f(x) \\\\\n",
        "\\text{network}(x) \\approx f(x)\n",
        "$$\n",
        "* As training point, you only have noisy measures from the target function.\n",
        "$$\n",
        "\\hat{y} = f(x) + noise\n",
        "$$\n",
        "* Consider to create a validation set from you training data, or use a k-fold cross-validation strategy. You may find useful these functions from the `scikit-learn` library:\n",
        "    - [train_test_split](https://scikit-learn.org/stable/modules/generated/sklearn.model_selection.train_test_split.html)\n",
        "    - [KFold](https://scikit-learn.org/stable/modules/generated/sklearn.model_selection.KFold.html#sklearn.model_selection.KFold) "
      ]
    },
    {
      "cell_type": "markdown",
      "metadata": {
        "id": "JpHoPt5nyocz"
      },
      "source": [
        "## Dataset"
      ]
    },
    {
      "cell_type": "code",
      "metadata": {
        "id": "3ViQh-gfzxNH"
      },
      "source": [
        "import pandas as pd\n",
        "import matplotlib.pyplot as plt"
      ],
      "execution_count": null,
      "outputs": []
    },
    {
      "cell_type": "markdown",
      "metadata": {
        "id": "OjV_JeRcwrLC"
      },
      "source": [
        "The following cell of code will download the dataset and make it available in the local folder `regression_dataset`. There are two files:\n",
        "\n",
        "* `regression_dataset/train_data.csv`\n",
        "* `regression_dataset/test_data.csv`\n",
        "\n",
        "Use them to train and test your model. Each row contains two values, respactively the input and the target (label)."
      ]
    },
    {
      "cell_type": "code",
      "metadata": {
        "id": "QXCqDgEsvt96"
      },
      "source": [
        "!wget -P regression_dataset https://gitlab.dei.unipd.it/gadaleta/nnld-2020-21-lab-resources/-/raw/master/homework_1_regression_dataset/train_data.csv\n",
        "!wget -P regression_dataset https://gitlab.dei.unipd.it/gadaleta/nnld-2020-21-lab-resources/-/raw/master/homework_1_regression_dataset/test_data.csv "
      ],
      "execution_count": null,
      "outputs": []
    },
    {
      "cell_type": "markdown",
      "metadata": {
        "id": "FJRxVBksxsBw"
      },
      "source": [
        "How to load the data:"
      ]
    },
    {
      "cell_type": "code",
      "metadata": {
        "id": "a-FdEP-JxwEu"
      },
      "source": [
        "train_df = pd.read_csv('regression_dataset/train_data.csv')"
      ],
      "execution_count": null,
      "outputs": []
    },
    {
      "cell_type": "markdown",
      "metadata": {
        "id": "UgH9AOL8yAak"
      },
      "source": [
        "How to get a specific sample:"
      ]
    },
    {
      "cell_type": "code",
      "metadata": {
        "id": "Gz8mOEUcyJdw"
      },
      "source": [
        "sample_index = 0\n",
        "input = train_df.iloc[sample_index]['input']\n",
        "label = train_df.iloc[sample_index]['label']\n",
        "\n",
        "print(f\"SAMPLE AT INDEX {sample_index}\")\n",
        "print(f\"INPUT: {input}\")\n",
        "print(f\"LABEL: {label}\")"
      ],
      "execution_count": null,
      "outputs": []
    },
    {
      "cell_type": "markdown",
      "metadata": {
        "id": "o4FMs2rmzXps"
      },
      "source": [
        "All training points:"
      ]
    },
    {
      "cell_type": "code",
      "metadata": {
        "id": "EXc_6w24zFEB"
      },
      "source": [
        "fig = plt.figure(figsize=(12,8))\n",
        "plt.scatter(train_df.input, train_df.label, label='Training points')\n",
        "plt.xlabel('input')\n",
        "plt.ylabel('label')\n",
        "plt.legend()\n",
        "plt.show()"
      ],
      "execution_count": null,
      "outputs": []
    },
    {
      "cell_type": "markdown",
      "metadata": {
        "id": "SxW5QfJRvWV9"
      },
      "source": [
        "# Classification task"
      ]
    },
    {
      "cell_type": "markdown",
      "metadata": {
        "id": "cPTFyWeOyiR-"
      },
      "source": [
        "## Guidelines"
      ]
    },
    {
      "cell_type": "markdown",
      "metadata": {
        "id": "m8E-82AGylxj"
      },
      "source": [
        "* The goal is to train a neural network that maps an input image (hand-written digit) to one of ten classes (multi-class classification problem with mutually exclusive classes).\n",
        "* Define a proper loss (e.g. [torch.nn.CrossEntropyLoss](https://pytorch.org/docs/stable/generated/torch.nn.CrossEntropyLoss.html#torch.nn.CrossEntropyLoss))\n",
        "* Also here, consider to create a validation set from you training data, or use a k-fold cross-validation strategy.\n",
        "* Pay attention to the shape, data type and output values range. If needed, modify them accordingly to your implementation (read carefully the documentation of the layers that you use, e.g. [torch.nn.Conv2d](https://pytorch.org/docs/stable/generated/torch.nn.Conv2d.html)).\n",
        "* Explore different optimizers, acivation functions, network architectures. Analyze the effect of different regularization methods, such as dropout layers, random transformations (image rotation, scaling, add noise...) or L2 regularization (weight decay)."
      ]
    },
    {
      "cell_type": "markdown",
      "metadata": {
        "id": "rsvBiTw7ykT5"
      },
      "source": [
        "## Dataset"
      ]
    },
    {
      "cell_type": "code",
      "metadata": {
        "id": "lrkanzKpwaFJ"
      },
      "source": [
        "import torch\n",
        "import torchvision\n",
        "import matplotlib.pyplot as plt\n",
        "import numpy as np"
      ],
      "execution_count": null,
      "outputs": []
    },
    {
      "cell_type": "markdown",
      "metadata": {
        "id": "EYaGs-I_zRk-"
      },
      "source": [
        "Download the dataset:"
      ]
    },
    {
      "cell_type": "code",
      "metadata": {
        "id": "6wRuRn08zVO9"
      },
      "source": [
        "train_dataset = torchvision.datasets.MNIST('classifier_data', train=True, download=True)\n",
        "test_dataset  = torchvision.datasets.MNIST('classifier_data', train=False, download=True)"
      ],
      "execution_count": null,
      "outputs": []
    },
    {
      "cell_type": "markdown",
      "metadata": {
        "id": "IUIZu5YpzMT9"
      },
      "source": [
        "How to get an image and the corresponding label:"
      ]
    },
    {
      "cell_type": "code",
      "metadata": {
        "id": "SGXmy4mNwfk4"
      },
      "source": [
        "sample_index = 0\n",
        "image = train_dataset[sample_index][0]\n",
        "label = train_dataset[sample_index][1]\n",
        "\n",
        "fig = plt.figure(figsize=(8,8))\n",
        "plt.imshow(image, cmap='Greys')\n",
        "print(f\"SAMPLE AT INDEX {sample_index}\")\n",
        "print(f\"LABEL: {label}\")"
      ],
      "execution_count": null,
      "outputs": []
    },
    {
      "cell_type": "markdown",
      "metadata": {
        "id": "1SesSIfKyzMJ"
      },
      "source": [
        "The output of the dataset is a PIL Image, a python object specifically developed to manage and process images. PyTorch supports this format, and there are useful transforms available natively in the framework: https://pytorch.org/docs/stable/torchvision/transforms.html\n",
        "\n",
        "If you want, you can easily convert a PIL image to a numpy array and entirely ignore the PIL object:"
      ]
    },
    {
      "cell_type": "code",
      "metadata": {
        "id": "ezDSC_cCxK6y"
      },
      "source": [
        "image_numpy = np.array(image)\n",
        "\n",
        "print(f'Numpy array shape: {image_numpy.shape}')\n",
        "print(f'Numpy array type: {image_numpy.dtype}')"
      ],
      "execution_count": null,
      "outputs": []
    },
    {
      "cell_type": "markdown",
      "metadata": {
        "id": "cq4D90vE2cxm"
      },
      "source": [
        "To transform a PIL Image directly to a PyTorch tensor, instead:"
      ]
    },
    {
      "cell_type": "code",
      "metadata": {
        "id": "tCFlk263x0Aa"
      },
      "source": [
        "to_tensor = torchvision.transforms.ToTensor()\n",
        "image_tensor = to_tensor(image)\n",
        "\n",
        "print(f'PyTorch tensor shape: {image_tensor.shape}')\n",
        "print(f'PyTorch tensor type: {image_tensor.dtype}')"
      ],
      "execution_count": null,
      "outputs": []
    }
  ]
}