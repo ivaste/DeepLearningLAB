{
 "cells": [
  {
   "cell_type": "code",
   "execution_count": 1,
   "metadata": {},
   "outputs": [],
   "source": [
    "import pandas as pd\n",
    "import numpy as np\n",
    "import matplotlib.pyplot as plt\n",
    "\n",
    "import torch\n",
    "import torch.nn as nn\n",
    "import torch.optim as optim\n",
    "import torchvision\n",
    "from torchvision import transforms"
   ]
  },
  {
   "cell_type": "markdown",
   "metadata": {},
   "source": [
    "## 1) Dataset"
   ]
  },
  {
   "cell_type": "code",
   "execution_count": 2,
   "metadata": {},
   "outputs": [
    {
     "data": {
      "text/plain": [
       "((52500, 1, 28, 28), (52500,), (17500, 1, 28, 28), (17500,))"
      ]
     },
     "execution_count": 2,
     "metadata": {},
     "output_type": "execute_result"
    }
   ],
   "source": [
    "from sklearn.datasets import fetch_openml\n",
    "from sklearn.model_selection import train_test_split\n",
    "\n",
    "mnist = fetch_openml('mnist_784', cache=True)\n",
    "\n",
    "X = mnist.data.astype('float32')\n",
    "y = mnist.target.astype('int64')\n",
    "\n",
    "#Nomralization of the value between 0 and 1\n",
    "X /= 255.0\n",
    "\n",
    "#Dataset for Cnn model\n",
    "X = X.reshape(-1, 1, 28, 28) #Comment if you want to use the FC model\n",
    "\n",
    "#Train - test split\n",
    "X_train, X_test, y_train, y_test = train_test_split(X, y, test_size=0.25, random_state=42)\n",
    "X_train.shape, y_train.shape, X_test.shape, y_test.shape"
   ]
  },
  {
   "cell_type": "markdown",
   "metadata": {},
   "source": [
    "## 2) Models"
   ]
  },
  {
   "cell_type": "markdown",
   "metadata": {},
   "source": [
    "### 2.1) Fully Connected"
   ]
  },
  {
   "cell_type": "code",
   "execution_count": 3,
   "metadata": {},
   "outputs": [],
   "source": [
    "#FULLY CONNECTED\n",
    "class BasicNet(nn.Module):\n",
    "    \n",
    "    def __init__(self, Ni, Nh1, Nh2, No):\n",
    "        \"\"\"\n",
    "        Ni - Input size\n",
    "        Nh1 - Neurons in the 1st hidden layer\n",
    "        Nh2 - Neurons in the 2nd hidden layer\n",
    "        No - Output size\n",
    "        \"\"\"\n",
    "        super().__init__()\n",
    "        \n",
    "        self.fc1 = nn.Linear(in_features=Ni, out_features=Nh1)\n",
    "        self.fc2 = nn.Linear(in_features=Nh1, out_features=Nh2)\n",
    "        self.out = nn.Linear(in_features=Nh2, out_features=No)\n",
    "        self.soft = nn.Softmax()\n",
    "        \n",
    "        self.relu= nn.ReLU()\n",
    "        self.dropout = nn.Dropout(0.5)\n",
    "        self.name=\"BasicNet\"\n",
    "\n",
    "        print('Network initialized')\n",
    "        \n",
    "    def forward(self, input, additional_out=False):\n",
    "        x=input\n",
    "        x = self.relu(self.fc1(x))\n",
    "        x = self.relu(self.fc2(x))\n",
    "        x = self.dropout(x)\n",
    "        x = self.out(x)\n",
    "        x= self.soft(x)\n",
    "        return x"
   ]
  },
  {
   "cell_type": "markdown",
   "metadata": {},
   "source": [
    "### 2.2) Convolutional Network"
   ]
  },
  {
   "cell_type": "code",
   "execution_count": 4,
   "metadata": {},
   "outputs": [
    {
     "data": {
      "text/plain": [
       "'\\nConv2d:\\n    kernel_size\\n    padding: default =0\\n    stride: default=1\\n    \\nmax_pool2d:\\n    kernel_size=2\\n    padding: default=0\\n    stride: default=kernel_size\\n    \\n    \\nDimensions:\\n\\nconv1=32, conv2=64\\n    - Input= 28x28x3\\n    - Conv1= 26x26x32\\n    - MaxPo= 13x13x32\\n    - Conv2= 11x11x64\\n    - Maxpo= 5x5x64\\n    - flatten= 1600\\n    - Fc1=....\\n\\n\\n'"
      ]
     },
     "execution_count": 4,
     "metadata": {},
     "output_type": "execute_result"
    }
   ],
   "source": [
    "#CONVOLUTIONAL NN\n",
    "import torch.nn.functional as F\n",
    "class Cnn(nn.Module):\n",
    "    def __init__(self, dropout=0.5,conv1=32,conv2=64,fc1=128):\n",
    "        super().__init__()\n",
    "        \n",
    "        self.conv1 = nn.Conv2d(1, conv1, kernel_size=3)\n",
    "        self.conv2 = nn.Conv2d(conv1, conv2, kernel_size=3)\n",
    "        self.conv2_drop = nn.Dropout2d(p=dropout)\n",
    "        \n",
    "        flatten_dim=conv2*5*5 # number channels * width * height\n",
    "        \n",
    "        self.fc1 = nn.Linear(flatten_dim, fc1) \n",
    "        self.fc2 = nn.Linear(fc1, 10)\n",
    "        self.fc1_drop = nn.Dropout(p=dropout)\n",
    "\n",
    "    def forward(self, x):\n",
    "        x = torch.relu(F.max_pool2d(self.conv1(x), 2))\n",
    "        x = torch.relu(F.max_pool2d(self.conv2_drop(self.conv2(x)), 2))\n",
    "        \n",
    "        # flatten over channel, height and width = 1600\n",
    "        x = x.view(-1, x.size(1) * x.size(2) * x.size(3))\n",
    "        \n",
    "        x = torch.relu(self.fc1_drop(self.fc1(x)))\n",
    "        x = torch.softmax(self.fc2(x), dim=-1)\n",
    "        return x\n",
    "    \n",
    "    \n",
    "\"\"\"\n",
    "Conv2d:\n",
    "    kernel_size\n",
    "    padding: default =0\n",
    "    stride: default=1\n",
    "    \n",
    "max_pool2d:\n",
    "    kernel_size=2\n",
    "    padding: default=0\n",
    "    stride: default=kernel_size\n",
    "    \n",
    "    \n",
    "Dimensions:\n",
    "\n",
    "After Conv: (input_size - kernel_size + 2*padding)/stride +1\n",
    "After Maxpool:(input_size - kernel_size + 2*padding)/stride +1\n",
    "\n",
    "conv1=32, conv2=64\n",
    "    - Input= 28x28x3\n",
    "    - Conv1= 26x26x32\n",
    "    - MaxPo= 13x13x32\n",
    "    - Conv2= 11x11x64\n",
    "    - Maxpo= 5x5x64\n",
    "    - flatten= 1600\n",
    "    - Fc1=....\n",
    "\n",
    "\n",
    "\"\"\""
   ]
  },
  {
   "cell_type": "markdown",
   "metadata": {},
   "source": [
    "## 3) Training"
   ]
  },
  {
   "cell_type": "markdown",
   "metadata": {},
   "source": [
    "### 3.1) Initialization"
   ]
  },
  {
   "cell_type": "code",
   "execution_count": 5,
   "metadata": {},
   "outputs": [
    {
     "name": "stdout",
     "output_type": "stream",
     "text": [
      "Training device: cuda\n"
     ]
    }
   ],
   "source": [
    "# Check if the GPU is available\n",
    "device = torch.device(\"cuda\") if torch.cuda.is_available() else torch.device(\"cpu\")\n",
    "print(f\"Training device: {device}\")\n",
    "\n",
    "# Define the loss function\n",
    "loss_function = nn.CrossEntropyLoss()\n",
    "\n",
    "#Early Stopping\n",
    "from skorch.callbacks import EarlyStopping\n",
    "\n",
    "my_early = EarlyStopping(\n",
    "    monitor='valid_loss',\n",
    "    patience=10,\n",
    "    threshold=0.0001,\n",
    "    threshold_mode='rel',\n",
    "    lower_is_better=True)\n",
    "\n",
    "#Model initialization\n",
    "from skorch import NeuralNetClassifier\n",
    "\n",
    "#FULLY CONNECTED\n",
    "net = NeuralNetClassifier(\n",
    "    module=BasicNet,\n",
    "    module__Ni= 784,\n",
    "    module__Nh1 = 8,\n",
    "    module__Nh2 = 48,\n",
    "    module__No = 10,\n",
    "    max_epochs=50,\n",
    "    \n",
    "    device=device,  # uncomment this to train with CUDA\n",
    "    #lr=0.1,\n",
    "    #optimizer = optim.SGD,\n",
    "    optimizer = optim.Adam,\n",
    "    optimizer__lr=0.001,\n",
    "    optimizer__weight_decay=1e-5, #L2 norm\n",
    "    criterion=nn.CrossEntropyLoss,\n",
    "    callbacks = [my_early],\n",
    "    #verbose=0\n",
    ")\n",
    "\n",
    "#CNN\n",
    "net = NeuralNetClassifier(\n",
    "    module=Cnn,\n",
    "    module__conv1=32,\n",
    "    module__conv2=32,\n",
    "    module__fc1=32,\n",
    "    max_epochs=50,\n",
    "    #lr=0.002,\n",
    "    device=device,\n",
    "    optimizer = optim.Adam,\n",
    "    optimizer__lr=0.002,\n",
    "    optimizer__weight_decay=1e-5, #L2 norm\n",
    "    criterion=nn.CrossEntropyLoss,\n",
    "    callbacks = [my_early],\n",
    ")"
   ]
  },
  {
   "cell_type": "markdown",
   "metadata": {},
   "source": [
    "### 3.2) Grid Search and Cross Validation"
   ]
  },
  {
   "cell_type": "code",
   "execution_count": null,
   "metadata": {},
   "outputs": [],
   "source": [
    "from sklearn.model_selection import GridSearchCV\n",
    "\n",
    "#FULLY CONNECTED\n",
    "params = {\n",
    "    'module__Nh1': [8,16,32,48],\n",
    "    'module__Nh2': [8,16,32,48],\n",
    "    'max_epochs': [1500],\n",
    "    'optimizer__lr':[0.1, 0.01, 0.001],\n",
    "    'optimizer__weight_decay':[1e-3,1e-4,1e-5] #L2 norm,\n",
    "}\n",
    "\n",
    "#CNN\n",
    "params = {\n",
    "    'module__Nh1': [8,48],\n",
    "    'module__Nh2': [8,48],\n",
    "    'max_epochs': [1500],\n",
    "    'optimizer__lr':[0.01, 0.001],\n",
    "    'optimizer__weight_decay':[1e-4,1e-5] #L2 norm,\n",
    "}\n",
    "\n",
    "\n",
    "gs = GridSearchCV(net, params, refit=True, cv=3, scoring=\"neg_mean_squared_error\",verbose=10)\n",
    "\n",
    "gs.fit(X_train, y_train)\n",
    "\n",
    "print(gs.best_score_, gs.best_params_)\n",
    "net=gs.best_estimator_"
   ]
  },
  {
   "cell_type": "markdown",
   "metadata": {},
   "source": [
    "### 3.3) Normal Training"
   ]
  },
  {
   "cell_type": "code",
   "execution_count": 6,
   "metadata": {},
   "outputs": [
    {
     "name": "stdout",
     "output_type": "stream",
     "text": [
      "  epoch    train_loss    valid_acc    valid_loss     dur\n",
      "-------  ------------  -----------  ------------  ------\n",
      "      1        \u001b[36m1.9095\u001b[0m       \u001b[32m0.8310\u001b[0m        \u001b[35m1.6308\u001b[0m  4.1013\n",
      "      2        \u001b[36m1.7484\u001b[0m       \u001b[32m0.9250\u001b[0m        \u001b[35m1.5364\u001b[0m  3.0293\n",
      "      3        \u001b[36m1.6782\u001b[0m       \u001b[32m0.9362\u001b[0m        \u001b[35m1.5247\u001b[0m  3.1280\n",
      "      4        \u001b[36m1.6381\u001b[0m       \u001b[32m0.9419\u001b[0m        \u001b[35m1.5192\u001b[0m  3.1258\n",
      "      5        \u001b[36m1.6184\u001b[0m       \u001b[32m0.9509\u001b[0m        \u001b[35m1.5108\u001b[0m  3.0698\n",
      "      6        \u001b[36m1.6063\u001b[0m       \u001b[32m0.9556\u001b[0m        \u001b[35m1.5055\u001b[0m  3.1099\n",
      "      7        \u001b[36m1.5974\u001b[0m       0.9523        1.5083  3.1183\n",
      "      8        \u001b[36m1.5955\u001b[0m       \u001b[32m0.9564\u001b[0m        \u001b[35m1.5047\u001b[0m  3.1465\n",
      "      9        \u001b[36m1.5851\u001b[0m       \u001b[32m0.9596\u001b[0m        \u001b[35m1.5012\u001b[0m  3.0228\n",
      "     10        \u001b[36m1.5780\u001b[0m       \u001b[32m0.9616\u001b[0m        \u001b[35m1.4994\u001b[0m  3.0145\n",
      "     11        \u001b[36m1.5747\u001b[0m       \u001b[32m0.9650\u001b[0m        \u001b[35m1.4963\u001b[0m  3.0953\n",
      "     12        \u001b[36m1.5686\u001b[0m       \u001b[32m0.9654\u001b[0m        \u001b[35m1.4952\u001b[0m  3.0502\n",
      "     13        \u001b[36m1.5637\u001b[0m       \u001b[32m0.9655\u001b[0m        \u001b[35m1.4948\u001b[0m  3.1153\n",
      "     14        1.5639       \u001b[32m0.9664\u001b[0m        1.4948  3.1125\n",
      "     15        1.5647       \u001b[32m0.9670\u001b[0m        \u001b[35m1.4946\u001b[0m  3.0846\n",
      "     16        \u001b[36m1.5633\u001b[0m       \u001b[32m0.9682\u001b[0m        \u001b[35m1.4928\u001b[0m  3.0239\n",
      "     17        \u001b[36m1.5572\u001b[0m       \u001b[32m0.9701\u001b[0m        \u001b[35m1.4914\u001b[0m  3.0857\n",
      "     18        \u001b[36m1.5557\u001b[0m       0.9692        1.4918  3.1705\n",
      "     19        1.5563       \u001b[32m0.9724\u001b[0m        \u001b[35m1.4890\u001b[0m  3.2011\n",
      "     20        \u001b[36m1.5528\u001b[0m       0.9690        1.4919  3.1988\n",
      "     21        \u001b[36m1.5473\u001b[0m       0.9722        1.4891  3.2151\n",
      "     22        1.5486       0.9717        1.4893  3.0965\n",
      "     23        \u001b[36m1.5454\u001b[0m       0.9696        1.4911  3.1063\n",
      "     24        \u001b[36m1.5432\u001b[0m       0.9713        1.4896  3.1011\n",
      "     25        \u001b[36m1.5408\u001b[0m       \u001b[32m0.9743\u001b[0m        \u001b[35m1.4870\u001b[0m  3.0725\n",
      "     26        \u001b[36m1.5392\u001b[0m       \u001b[32m0.9746\u001b[0m        \u001b[35m1.4865\u001b[0m  3.0904\n",
      "     27        1.5426       0.9746        1.4867  3.0359\n",
      "     28        1.5406       0.9735        1.4876  3.0974\n",
      "     29        \u001b[36m1.5384\u001b[0m       \u001b[32m0.9748\u001b[0m        \u001b[35m1.4864\u001b[0m  3.0790\n",
      "     30        \u001b[36m1.5361\u001b[0m       0.9748        \u001b[35m1.4863\u001b[0m  3.1257\n",
      "     31        \u001b[36m1.5357\u001b[0m       0.9748        \u001b[35m1.4862\u001b[0m  3.2212\n",
      "     32        1.5369       \u001b[32m0.9759\u001b[0m        \u001b[35m1.4854\u001b[0m  3.1523\n",
      "     33        \u001b[36m1.5354\u001b[0m       0.9757        \u001b[35m1.4854\u001b[0m  3.1515\n",
      "     34        1.5370       \u001b[32m0.9760\u001b[0m        \u001b[35m1.4852\u001b[0m  3.0680\n",
      "     35        \u001b[36m1.5335\u001b[0m       \u001b[32m0.9764\u001b[0m        \u001b[35m1.4848\u001b[0m  3.1005\n",
      "     36        \u001b[36m1.5317\u001b[0m       0.9745        1.4867  3.0793\n",
      "     37        \u001b[36m1.5282\u001b[0m       0.9760        1.4850  3.0958\n",
      "     38        1.5320       0.9758        1.4853  3.1772\n",
      "     39        1.5324       0.9753        1.4853  3.0772\n",
      "     40        1.5310       0.9756        1.4854  3.1446\n",
      "     41        1.5291       \u001b[32m0.9776\u001b[0m        \u001b[35m1.4835\u001b[0m  3.1637\n",
      "     42        1.5303       0.9767        1.4846  3.2367\n",
      "     43        1.5292       0.9776        \u001b[35m1.4832\u001b[0m  3.1284\n",
      "     44        \u001b[36m1.5277\u001b[0m       0.9760        1.4851  3.0885\n",
      "     45        1.5293       0.9752        1.4858  3.0755\n",
      "     46        \u001b[36m1.5273\u001b[0m       0.9765        1.4844  3.0966\n",
      "     47        1.5286       0.9770        1.4839  3.1538\n",
      "     48        1.5273       \u001b[32m0.9785\u001b[0m        \u001b[35m1.4828\u001b[0m  3.1014\n",
      "     49        \u001b[36m1.5261\u001b[0m       \u001b[32m0.9790\u001b[0m        \u001b[35m1.4820\u001b[0m  3.2212\n",
      "     50        1.5270       0.9788        1.4824  3.0971\n"
     ]
    },
    {
     "data": {
      "text/plain": [
       "<class 'skorch.classifier.NeuralNetClassifier'>[initialized](\n",
       "  module_=Cnn(\n",
       "    (conv1): Conv2d(1, 32, kernel_size=(3, 3), stride=(1, 1))\n",
       "    (conv2): Conv2d(32, 32, kernel_size=(3, 3), stride=(1, 1))\n",
       "    (conv2_drop): Dropout2d(p=0.5, inplace=False)\n",
       "    (fc1): Linear(in_features=800, out_features=32, bias=True)\n",
       "    (fc2): Linear(in_features=32, out_features=10, bias=True)\n",
       "    (fc1_drop): Dropout(p=0.5, inplace=False)\n",
       "  ),\n",
       ")"
      ]
     },
     "execution_count": 6,
     "metadata": {},
     "output_type": "execute_result"
    }
   ],
   "source": [
    "net.fit(X_train, y_train)"
   ]
  },
  {
   "cell_type": "markdown",
   "metadata": {},
   "source": [
    "### 3.4) Plot Losses"
   ]
  },
  {
   "cell_type": "code",
   "execution_count": 7,
   "metadata": {},
   "outputs": [
    {
     "data": {
      "image/png": "[encoded data removed]",
      "text/plain": [
       "<Figure size 864x576 with 1 Axes>"
      ]
     },
     "metadata": {
      "needs_background": "light"
     },
     "output_type": "display_data"
    }
   ],
   "source": [
    "import datetime\n",
    "save_name=\"Classification_\"+datetime.datetime.now().strftime(\"%Y-%m-%d_%H-%M\")\n",
    "\n",
    "# get train losses from all epochs, a list of floats\n",
    "history = net.history\n",
    "train_loss_log=history[:, 'train_loss']\n",
    "val_loss_log=history[:, 'valid_loss']\n",
    "\n",
    "# Plot losses\n",
    "plt.figure(figsize=(12,8))\n",
    "plt.plot(train_loss_log)\n",
    "plt.plot(val_loss_log)\n",
    "plt.title('Model loss')\n",
    "plt.ylabel('loss')\n",
    "plt.xlabel('epoch')\n",
    "plt.legend(['Train loss', 'Validation loss'], loc='upper right')\n",
    "plt.savefig(\"models/\"+save_name+\"_Losses\", dpi=400)\n",
    "plt.show()"
   ]
  },
  {
   "cell_type": "markdown",
   "metadata": {},
   "source": [
    "## 4) Test the model"
   ]
  },
  {
   "cell_type": "code",
   "execution_count": 8,
   "metadata": {},
   "outputs": [
    {
     "name": "stdout",
     "output_type": "stream",
     "text": [
      "0.9769142857142857\n"
     ]
    }
   ],
   "source": [
    "from sklearn.metrics import accuracy_score\n",
    "y_pred = net.predict(X_test)\n",
    "\n",
    "test_acc = accuracy_score(y_test, y_pred)\n",
    "print(test_acc)"
   ]
  },
  {
   "cell_type": "markdown",
   "metadata": {},
   "source": [
    "## 5) Metrics Summary"
   ]
  },
  {
   "cell_type": "code",
   "execution_count": 9,
   "metadata": {},
   "outputs": [],
   "source": [
    "import itertools\n",
    "def plot_confusion_matrix(cm, classes,\n",
    "                          normalize=False,\n",
    "                          title='Confusion matrix',\n",
    "                          cmap=plt.cm.Blues,\n",
    "\t\t\t\t\t\t  save_path='models/'):\n",
    "    \"\"\"\n",
    "    This function prints and plots the confusion matrix.\n",
    "    Normalization can be applied by setting `normalize=True`.\n",
    "    \"\"\"\n",
    "    if normalize:\n",
    "        cm = cm.astype('float') / cm.sum(axis=1)[:, np.newaxis]\n",
    "        #print(\"Normalized confusion matrix\")\n",
    "    #else:\n",
    "        #print('Confusion matrix, without normalization')\n",
    "\n",
    "    plt.figure(figsize=(15, 15))\n",
    "    plt.imshow(cm, interpolation='nearest', cmap=cmap)\n",
    "    plt.title(title, fontsize=30)\n",
    "    plt.colorbar()\n",
    "    tick_marks = np.arange(len(classes))\n",
    "    plt.xticks(tick_marks, classes, rotation=45, fontsize=15)\n",
    "    plt.yticks(tick_marks, classes, fontsize=15)\n",
    "\n",
    "    fmt = '.3f' if normalize else 'd'\n",
    "    thresh = cm.max() / 2.\n",
    "    for i, j in itertools.product(range(cm.shape[0]), range(cm.shape[1])):\n",
    "        plt.text(j, i, format(cm[i, j], fmt), size=11,\n",
    "                 horizontalalignment=\"center\",\n",
    "                 color=\"white\" if cm[i, j] > thresh else \"black\")\n",
    "\n",
    "    plt.ylabel('True label', fontsize=30)\n",
    "    plt.xlabel('Predicted label', fontsize=30)\n",
    "    plt.savefig(save_path+\"_picConfMatrix.png\", dpi=400)\n",
    "    plt.tight_layout()"
   ]
  },
  {
   "cell_type": "code",
   "execution_count": 10,
   "metadata": {},
   "outputs": [
    {
     "name": "stdout",
     "output_type": "stream",
     "text": [
      "Val Acc:\t 0.979\n",
      "Test Acc:\t 0.977\n",
      "Precision:\t 0.977\n",
      "Recall:\t\t 0.977\n",
      "F1:\t\t 0.977\n"
     ]
    },
    {
     "data": {
      "image/png": "[encoded data removed]",
      "text/plain": [
       "<Figure size 1080x1080 with 2 Axes>"
      ]
     },
     "metadata": {
      "needs_background": "light"
     },
     "output_type": "display_data"
    }
   ],
   "source": [
    "#Accuracy\n",
    "val_acc=history[:, 'valid_acc'][-1]\n",
    "val_loss=history[:, 'valid_loss'][-1]\n",
    "train_loss=history[:, 'train_loss'][-1]\n",
    "\n",
    "print(\"Val Acc:\\t\",round(val_acc,3))\n",
    "print(\"Test Acc:\\t\",round(float(test_acc),3))\n",
    "\n",
    "# Precision and Recall(sensitivity/true positive rate)\n",
    "from sklearn.metrics import precision_score, recall_score\n",
    "prec=precision_score(y_test, y_pred,average='micro')\n",
    "rec=recall_score(y_test, y_pred,average='micro')\n",
    "\n",
    "#F1 - high if both recall and precision are high.\n",
    "from sklearn.metrics import f1_score\n",
    "f1=f1_score(y_test, y_pred,average='micro')\n",
    "\n",
    "print(\"Precision:\\t\",round(prec,3))\n",
    "print(\"Recall:\\t\\t\",round(rec,3))\n",
    "print(\"F1:\\t\\t\",round(f1,3))\n",
    "\n",
    "# Confusion Matrix\n",
    "from sklearn.metrics import confusion_matrix\n",
    "cm = confusion_matrix(y_test, y_pred)\n",
    "categories=[0,1,2,3,4,5,6,7,8,9]\n",
    "plot_confusion_matrix(cm,categories, normalize=False,save_path=\"models/\"+save_name)\n"
   ]
  },
  {
   "cell_type": "markdown",
   "metadata": {},
   "source": [
    "## 6) Save the model"
   ]
  },
  {
   "cell_type": "code",
   "execution_count": 11,
   "metadata": {},
   "outputs": [],
   "source": [
    "#Saving the whole model\n",
    "import pickle\n",
    "with open(\"models/\"+save_name+\".pkl\", 'wb') as f:\n",
    "    pickle.dump(net, f)\n",
    "    \n",
    "#Load the model\n",
    "#with open(file_name, 'rb') as f:\n",
    "#    new_net = pickle.load(f)\n",
    "\n",
    "#Save Metrics to File\n",
    "f = open(\"models/\"+save_name+\"_Metrics.txt\", \"a\")\n",
    "f.write('Train loss:\\t'+ str(round(train_loss,3))+ \"\\n\")\n",
    "f.write('Val loss:\\t'+ str(round(val_loss,3))+ \"\\n\")\n",
    "f.write('Val acc:\\t'+ str(round(val_acc,3))+ \"\\n\")\n",
    "f.write('Test acc:\\t'+ str(round(test_acc,3))+ \"\\n\")\n",
    "f.write(\"Precision:\\t\"+str(round(prec,3))+ \"\\n\")\n",
    "f.write(\"Recall:\\t\\t\"+str(round(rec,3))+ \"\\n\")\n",
    "f.write(\"F1:\\t\\t\"+str(round(f1,3)))\n",
    "\n",
    "f.close()"
   ]
  },
  {
   "cell_type": "code",
   "execution_count": 12,
   "metadata": {},
   "outputs": [
    {
     "name": "stdout",
     "output_type": "stream",
     "text": [
      "40 2 - 7\n",
      "37 4 - 9\n",
      "31 2 - 3\n",
      "23 3 - 5\n",
      "21 8 - 9\n",
      "20 5 - 9\n",
      "17 7 - 9\n",
      "17 3 - 7\n",
      "16 1 - 2\n",
      "14 4 - 6\n"
     ]
    }
   ],
   "source": [
    "#Most mispredicted labels\n",
    "n_mistakes=10\n",
    "import heapq\n",
    "h=[]\n",
    "nCategories=10\n",
    "for i in range(nCategories):\n",
    "    for j in range(i+1,nCategories):\n",
    "        heapq.heappush(h,(cm[i,j]+cm[j,i],(i,j)))\n",
    "for e in heapq.nlargest(n_mistakes,h):\n",
    "    print(e[0],e[1][0],\"-\",e[1][1])\n",
    "\n",
    "f = open(\"models/\"+save_name+\"_Metrics.txt\", \"a\")\n",
    "f.write('\\n\\nMost '+str(n_mistakes)+ ' mispredicted labels\\n')\n",
    "for e in heapq.nlargest(n_mistakes,h):\n",
    "    f.write(str(e[0])+\"\\t\"+str(categories[e[1][0]])+\"-\"+str(categories[e[1][1]])+\"\\n\")\n",
    "f.close()"
   ]
  },
  {
   "cell_type": "markdown",
   "metadata": {},
   "source": [
    "## 7) Network Analysis"
   ]
  },
  {
   "cell_type": "markdown",
   "metadata": {},
   "source": [
    "### 7.1) Weights histogram"
   ]
  },
  {
   "cell_type": "markdown",
   "metadata": {},
   "source": [
    "#### 7.1.1) Fully Connected Network"
   ]
  },
  {
   "cell_type": "code",
   "execution_count": null,
   "metadata": {},
   "outputs": [],
   "source": [
    "#Access network parameters\n",
    "my_best_net = net.module_\n",
    "\n",
    "#First hidden Layer\n",
    "h1_w = my_best_net.fc1.weight.data.cpu().numpy()\n",
    "h1_b = my_best_net.fc1.bias.data.cpu().numpy()\n",
    "\n",
    "#Second hidden Layer\n",
    "h2_w = my_best_net.fc2.weight.data.cpu().numpy()\n",
    "h2_b = my_best_net.fc2.bias.data.cpu().numpy()\n",
    "\n",
    "# Output layer\n",
    "out_w = my_best_net.out.weight.data.cpu().numpy()\n",
    "out_b = my_best_net.out.bias.data.cpu().numpy()"
   ]
  },
  {
   "cell_type": "code",
   "execution_count": null,
   "metadata": {},
   "outputs": [],
   "source": [
    "# Weights histogram\n",
    "fig, axs = plt.subplots(3, 1, figsize=(12,8))\n",
    "axs[0].hist(h1_w.flatten(), 50)\n",
    "axs[0].set_title('First hidden layer weights')\n",
    "axs[1].hist(h2_w.flatten(), 50)\n",
    "axs[1].set_title('Second hidden layer weights')\n",
    "axs[2].hist(out_w.flatten(), 50)\n",
    "axs[2].set_title('Output layer weights')\n",
    "[ax.grid() for ax in axs]\n",
    "plt.tight_layout()\n",
    "plt.savefig(\"models/\"+save_name+\"_Weights-histogram\", dpi=400)\n",
    "plt.show()"
   ]
  },
  {
   "cell_type": "markdown",
   "metadata": {},
   "source": [
    "#### 7.1.2) Convolution network"
   ]
  },
  {
   "cell_type": "code",
   "execution_count": 13,
   "metadata": {},
   "outputs": [],
   "source": [
    "#Access network parameters\n",
    "my_best_net = net.module_\n",
    "\n",
    "#First hidden Layer\n",
    "h1_w = my_best_net.fc1.weight.data.cpu().numpy()\n",
    "h1_b = my_best_net.fc1.bias.data.cpu().numpy()\n",
    "\n",
    "#Second hidden Layer\n",
    "h2_w = my_best_net.fc2.weight.data.cpu().numpy()\n",
    "h2_b = my_best_net.fc2.bias.data.cpu().numpy()\n",
    "\n",
    "# Conv 1 layer\n",
    "c1_w = my_best_net.conv1.weight.data.cpu().numpy()\n",
    "c1_b = my_best_net.conv1.bias.data.cpu().numpy()\n",
    "\n",
    "# Conv 2 layer\n",
    "c2_w = my_best_net.conv2.weight.data.cpu().numpy()\n",
    "c2_b = my_best_net.conv2.bias.data.cpu().numpy()\n"
   ]
  },
  {
   "cell_type": "code",
   "execution_count": 14,
   "metadata": {},
   "outputs": [
    {
     "data": {
      "image/png": "[encoded data removed]",
      "text/plain": [
       "<Figure size 864x576 with 4 Axes>"
      ]
     },
     "metadata": {
      "needs_background": "light"
     },
     "output_type": "display_data"
    }
   ],
   "source": [
    "# Weights histogram\n",
    "fig, axs = plt.subplots(4, 1, figsize=(12,8))\n",
    "axs[0].hist(c1_w.flatten(), 50)\n",
    "axs[0].set_title('Conv1 layer weights')\n",
    "axs[1].hist(c2_w.flatten(), 50)\n",
    "axs[1].set_title('Conv2 layer weights')\n",
    "axs[2].hist(h1_w.flatten(), 50)\n",
    "axs[2].set_title('First FC layer weights')\n",
    "axs[3].hist(h2_w.flatten(), 50)\n",
    "axs[3].set_title('Second FC layer weights')\n",
    "\n",
    "[ax.grid() for ax in axs]\n",
    "plt.tight_layout()\n",
    "plt.savefig(\"models/\"+save_name+\"_Weights-histogram\", dpi=400)\n",
    "plt.show()"
   ]
  },
  {
   "cell_type": "markdown",
   "metadata": {},
   "source": [
    "### 7.2) Analyze activations"
   ]
  },
  {
   "cell_type": "markdown",
   "metadata": {},
   "source": [
    "#### 7.2.1) Fully connected"
   ]
  },
  {
   "cell_type": "code",
   "execution_count": null,
   "metadata": {},
   "outputs": [],
   "source": [
    "???\n",
    "\n",
    "\"\"\"def get_activation(layer, input, output):\n",
    "    global activation\n",
    "    #activation = torch.softmax(output)\n",
    "    activation = torch.relu(output)\n",
    "    \n",
    "### Register hook\n",
    "net=my_best_net\n",
    "hook_handle = net.fc2.register_forward_hook(get_activation)\n",
    "\n",
    "\n",
    "### Analyze activations\n",
    "net = net.to(device)\n",
    "net.eval()\n",
    "with torch.no_grad():\n",
    "    x1 = torch.from_numpy(X_train[0]).to(device)\n",
    "    y1 = net(x1)\n",
    "    z1 = activation\n",
    "    x2 = torch.tensor(X_test[1]).float().to(device)\n",
    "    y2 = net(x2)\n",
    "    z2 = activation\n",
    "    x3 = torch.tensor(X_test[2]).float().to(device)\n",
    "    y3 = net(x3)\n",
    "    z3 = activation\n",
    "\n",
    "### Remove hook\n",
    "hook_handle.remove()\n",
    "\n",
    "### Plot activations\n",
    "fig, axs = plt.subplots(3, 1, figsize=(12,6))\n",
    "axs[0].stem(z1.cpu().numpy(), use_line_collection=True)\n",
    "axs[0].set_title('Last layer activations for input x=%.2f' % x1)\n",
    "axs[1].stem(z2.cpu().numpy(), use_line_collection=True)\n",
    "axs[1].set_title('Last layer activations for input x=%.2f' % x2)\n",
    "axs[2].stem(z3.cpu().numpy(), use_line_collection=True)\n",
    "axs[2].set_title('Last layer activations for input x=%.2f' % x3)\n",
    "plt.tight_layout()\n",
    "plt.savefig(\"models/\"+save_name+\"_Activations\", dpi=400)\n",
    "plt.show()\"\"\""
   ]
  },
  {
   "cell_type": "markdown",
   "metadata": {},
   "source": [
    "#### 7.2.2) Convolution Network"
   ]
  },
  {
   "cell_type": "code",
   "execution_count": 31,
   "metadata": {},
   "outputs": [
    {
     "ename": "TypeError",
     "evalue": "tensor() takes 1 positional argument but 2 were given",
     "output_type": "error",
     "traceback": [
      "\u001b[1;31m---------------------------------------------------------------------------\u001b[0m",
      "\u001b[1;31mTypeError\u001b[0m                                 Traceback (most recent call last)",
      "\u001b[1;32m<ipython-input-31-d440b407b092>\u001b[0m in \u001b[0;36m<module>\u001b[1;34m\u001b[0m\n\u001b[0;32m     13\u001b[0m \u001b[0mnet\u001b[0m\u001b[1;33m.\u001b[0m\u001b[0meval\u001b[0m\u001b[1;33m(\u001b[0m\u001b[1;33m)\u001b[0m\u001b[1;33m\u001b[0m\u001b[1;33m\u001b[0m\u001b[0m\n\u001b[0;32m     14\u001b[0m \u001b[1;32mwith\u001b[0m \u001b[0mtorch\u001b[0m\u001b[1;33m.\u001b[0m\u001b[0mno_grad\u001b[0m\u001b[1;33m(\u001b[0m\u001b[1;33m)\u001b[0m\u001b[1;33m:\u001b[0m\u001b[1;33m\u001b[0m\u001b[1;33m\u001b[0m\u001b[0m\n\u001b[1;32m---> 15\u001b[1;33m     \u001b[0mx1\u001b[0m \u001b[1;33m=\u001b[0m \u001b[0mtorch\u001b[0m\u001b[1;33m.\u001b[0m\u001b[0mtensor\u001b[0m\u001b[1;33m(\u001b[0m\u001b[0mX_train\u001b[0m\u001b[1;33m[\u001b[0m\u001b[1;36m0\u001b[0m\u001b[1;33m]\u001b[0m\u001b[1;33m,\u001b[0m\u001b[1;36m1\u001b[0m\u001b[1;33m)\u001b[0m\u001b[1;33m.\u001b[0m\u001b[0mto\u001b[0m\u001b[1;33m(\u001b[0m\u001b[0mdevice\u001b[0m\u001b[1;33m)\u001b[0m\u001b[1;33m\u001b[0m\u001b[1;33m\u001b[0m\u001b[0m\n\u001b[0m\u001b[0;32m     16\u001b[0m     \u001b[0my1\u001b[0m \u001b[1;33m=\u001b[0m \u001b[0mnet\u001b[0m\u001b[1;33m(\u001b[0m\u001b[0mx1\u001b[0m\u001b[1;33m)\u001b[0m\u001b[1;33m\u001b[0m\u001b[1;33m\u001b[0m\u001b[0m\n\u001b[0;32m     17\u001b[0m     \u001b[0mz1\u001b[0m \u001b[1;33m=\u001b[0m \u001b[0mactivation\u001b[0m\u001b[1;33m\u001b[0m\u001b[1;33m\u001b[0m\u001b[0m\n",
      "\u001b[1;31mTypeError\u001b[0m: tensor() takes 1 positional argument but 2 were given"
     ]
    }
   ],
   "source": [
    "?????\n",
    "\n",
    "\"\"\"def get_activation(layer, input, output):\n",
    "    global activation\n",
    "    #activation = torch.softmax(output)\n",
    "    activation = torch.relu(output)\n",
    "    \n",
    "### Register hook\n",
    "net=my_best_net\n",
    "hook_handle = net.fc2.register_forward_hook(get_activation)\n",
    "\n",
    "\n",
    "### Analyze activations\n",
    "net = net.to(device)\n",
    "net.eval()\n",
    "with torch.no_grad():\n",
    "    x1 = torch.tensor(X_train[0]).to(device)\n",
    "    y1 = net(x1)\n",
    "    z1 = activation\n",
    "    x2 = torch.tensor(X_test[1]).float().to(device)\n",
    "    y2 = net(x2)\n",
    "    z2 = activation\n",
    "    x3 = torch.tensor(X_test[2]).float().to(device)\n",
    "    y3 = net(x3)\n",
    "    z3 = activation\n",
    "\n",
    "### Remove hook\n",
    "hook_handle.remove()\n",
    "\n",
    "### Plot activations\n",
    "fig, axs = plt.subplots(3, 1, figsize=(12,6))\n",
    "axs[0].stem(z1.cpu().numpy(), use_line_collection=True)\n",
    "axs[0].set_title('Last layer activations for input x=%.2f' % x1)\n",
    "axs[1].stem(z2.cpu().numpy(), use_line_collection=True)\n",
    "axs[1].set_title('Last layer activations for input x=%.2f' % x2)\n",
    "axs[2].stem(z3.cpu().numpy(), use_line_collection=True)\n",
    "axs[2].set_title('Last layer activations for input x=%.2f' % x3)\n",
    "plt.tight_layout()\n",
    "#plt.savefig(\"models/\"+save_name+\"_Activations\", dpi=400)\n",
    "plt.show()\"\"\""
   ]
  },
  {
   "cell_type": "markdown",
   "metadata": {},
   "source": [
    "### 7.3) Receptive fields"
   ]
  },
  {
   "cell_type": "code",
   "execution_count": null,
   "metadata": {},
   "outputs": [],
   "source": [
    "\n",
    "\"\"\"\n",
    "linear combination method for visualising the features discussed in class, which is straightforward for the fully-connected model. Then if you wish you can explore more sophisticated methods, such as the method that allows to create an \"optimal\" image that maximally activates the neuron. This can be \"easily\" done also for the CNN. In any case, receptive fields are meaningful only for the classification task.\n",
    "\n",
    "\"\"\""
   ]
  },
  {
   "cell_type": "markdown",
   "metadata": {},
   "source": [
    "#### 7.3.1) Fully Connected"
   ]
  },
  {
   "cell_type": "code",
   "execution_count": 16,
   "metadata": {},
   "outputs": [
    {
     "ename": "ValueError",
     "evalue": "matmul: Input operand 1 has a mismatch in its core dimension 0, with gufunc signature (n?,k),(k,m?)->(n?,m?) (size 10 is different from 3)",
     "output_type": "error",
     "traceback": [
      "\u001b[1;31m---------------------------------------------------------------------------\u001b[0m",
      "\u001b[1;31mValueError\u001b[0m                                Traceback (most recent call last)",
      "\u001b[1;32m<ipython-input-16-3d865f484d0a>\u001b[0m in \u001b[0;36m<module>\u001b[1;34m\u001b[0m\n\u001b[0;32m      2\u001b[0m \u001b[1;31m#Receptive fields of the last layer\u001b[0m\u001b[1;33m\u001b[0m\u001b[1;33m\u001b[0m\u001b[1;33m\u001b[0m\u001b[0m\n\u001b[0;32m      3\u001b[0m \u001b[1;32mfor\u001b[0m \u001b[0mii\u001b[0m \u001b[1;32min\u001b[0m \u001b[0mrange\u001b[0m\u001b[1;33m(\u001b[0m\u001b[1;36m10\u001b[0m\u001b[1;33m)\u001b[0m\u001b[1;33m:\u001b[0m\u001b[1;33m\u001b[0m\u001b[1;33m\u001b[0m\u001b[0m\n\u001b[1;32m----> 4\u001b[1;33m     \u001b[0mvis3\u001b[0m \u001b[1;33m=\u001b[0m \u001b[0mnp\u001b[0m\u001b[1;33m.\u001b[0m\u001b[0mmatmul\u001b[0m\u001b[1;33m(\u001b[0m\u001b[0mc2_w\u001b[0m\u001b[1;33m[\u001b[0m\u001b[0mii\u001b[0m\u001b[1;33m]\u001b[0m\u001b[1;33m,\u001b[0m\u001b[0mnp\u001b[0m\u001b[1;33m.\u001b[0m\u001b[0mmatmul\u001b[0m\u001b[1;33m(\u001b[0m\u001b[0mh2_w\u001b[0m\u001b[1;33m,\u001b[0m\u001b[0mh1_w\u001b[0m\u001b[1;33m)\u001b[0m\u001b[1;33m)\u001b[0m\u001b[1;33m\u001b[0m\u001b[1;33m\u001b[0m\u001b[0m\n\u001b[0m\u001b[0;32m      5\u001b[0m     \u001b[0mprint\u001b[0m\u001b[1;33m(\u001b[0m\u001b[1;34m\"\\nLabel:\"\u001b[0m\u001b[1;33m,\u001b[0m \u001b[0mii\u001b[0m\u001b[1;33m)\u001b[0m\u001b[1;33m\u001b[0m\u001b[1;33m\u001b[0m\u001b[0m\n\u001b[0;32m      6\u001b[0m     \u001b[0mplt\u001b[0m\u001b[1;33m.\u001b[0m\u001b[0mimshow\u001b[0m\u001b[1;33m(\u001b[0m\u001b[0mvis3\u001b[0m\u001b[1;33m.\u001b[0m\u001b[0mreshape\u001b[0m\u001b[1;33m(\u001b[0m\u001b[1;36m784\u001b[0m\u001b[1;33m)\u001b[0m\u001b[1;33m.\u001b[0m\u001b[0mreshape\u001b[0m\u001b[1;33m(\u001b[0m\u001b[1;36m28\u001b[0m\u001b[1;33m,\u001b[0m\u001b[1;36m28\u001b[0m\u001b[1;33m)\u001b[0m\u001b[1;33m)\u001b[0m\u001b[1;33m\u001b[0m\u001b[1;33m\u001b[0m\u001b[0m\n",
      "\u001b[1;31mValueError\u001b[0m: matmul: Input operand 1 has a mismatch in its core dimension 0, with gufunc signature (n?,k),(k,m?)->(n?,m?) (size 10 is different from 3)"
     ]
    }
   ],
   "source": [
    "#FULLY CONNECTED NET\n",
    "#Receptive fields of the last layer\n",
    "for ii in range(10):\n",
    "    vis3 = np.matmul(out_w[ii],np.matmul(h2_w,h1_w))\n",
    "    print(\"\\nLabel:\", ii)\n",
    "    plt.imshow(vis3.reshape(784).reshape(28,28))\n",
    "    plt.savefig(\"models/\"+save_name+\"_Receptive fields_\"+str(ii), dpi=400)\n",
    "    plt.show()"
   ]
  },
  {
   "cell_type": "markdown",
   "metadata": {},
   "source": [
    "#### 7.3.2) Convolution Network"
   ]
  },
  {
   "cell_type": "code",
   "execution_count": null,
   "metadata": {},
   "outputs": [],
   "source": [
    "#....."
   ]
  },
  {
   "cell_type": "code",
   "execution_count": 26,
   "metadata": {},
   "outputs": [
    {
     "name": "stdout",
     "output_type": "stream",
     "text": [
      "(32, 1, 3, 3)\n",
      "(32, 1, 3, 3)\n",
      "(32, 800)\n",
      "(10, 32)\n"
     ]
    }
   ],
   "source": [
    "\n"
   ]
  },
  {
   "cell_type": "code",
   "execution_count": 27,
   "metadata": {},
   "outputs": [
    {
     "data": {
      "text/plain": [
       "<matplotlib.image.AxesImage at 0x14145a5b308>"
      ]
     },
     "execution_count": 27,
     "metadata": {},
     "output_type": "execute_result"
    },
    {
     "data": {
      "image/png": "[encoded data removed]",
      "text/plain": [
       "<Figure size 432x288 with 1 Axes>"
      ]
     },
     "metadata": {
      "needs_background": "light"
     },
     "output_type": "display_data"
    }
   ],
   "source": []
  },
  {
   "cell_type": "code",
   "execution_count": null,
   "metadata": {},
   "outputs": [],
   "source": []
  },
  {
   "cell_type": "code",
   "execution_count": null,
   "metadata": {},
   "outputs": [],
   "source": []
  }
 ],
 "metadata": {
  "kernelspec": {
   "display_name": "gputest",
   "language": "python",
   "name": "gputest"
  },
  "language_info": {
   "codemirror_mode": {
    "name": "ipython",
    "version": 3
   },
   "file_extension": ".py",
   "mimetype": "text/x-python",
   "name": "python",
   "nbconvert_exporter": "python",
   "pygments_lexer": "ipython3",
   "version": "3.7.7"
  }
 },
 "nbformat": 4,
 "nbformat_minor": 4
}
