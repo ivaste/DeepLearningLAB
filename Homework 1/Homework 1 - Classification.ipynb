{
 "cells": [
  {
   "cell_type": "code",
   "execution_count": 1,
   "metadata": {},
   "outputs": [],
   "source": [
    "import pandas as pd\n",
    "import numpy as np\n",
    "import matplotlib.pyplot as plt\n",
    "\n",
    "import torch\n",
    "import torch.nn as nn\n",
    "import torch.optim as optim\n",
    "import torchvision\n",
    "from torchvision import transforms"
   ]
  },
  {
   "cell_type": "markdown",
   "metadata": {},
   "source": [
    "## 1) Dataset"
   ]
  },
  {
   "cell_type": "code",
   "execution_count": 2,
   "metadata": {},
   "outputs": [
    {
     "data": {
      "text/plain": [
       "\"#Load Dataset\\ntrain_dataset = torchvision.datasets.MNIST('classifier_data', train=True, download=True)\\ntest_dataset  = torchvision.datasets.MNIST('classifier_data', train=False, download=True)\\n\\n\\n#Prepare X_train, y_train, X_test, y_test\\ncomposed_transform=transforms.Compose([transforms.ToTensor()])\\nX_train=[]\\ny_train=[]\\nfor i in range(len(train_dataset)):\\n    X_train.append(torch.flatten(composed_transform(train_dataset[i][0]))) # for normal NN\\n    #X_train.append(composed_transform(train_dataset[i][0]).squeeze(0)) # for convolution\\n    y_train.append(train_dataset[i][0])\\n\\nX_test=[]\\ny_test=[]\\nfor i in range(len(test_dataset)):\\n    X_test.append(composed_transform(test_dataset[i][0]).squeeze(0))\\n    y_test.append(test_dataset[i][0])\\n    \\nprint(len(y_train),len(y_test))\""
      ]
     },
     "execution_count": 2,
     "metadata": {},
     "output_type": "execute_result"
    }
   ],
   "source": [
    "\"\"\"#Load Dataset\n",
    "train_dataset = torchvision.datasets.MNIST('classifier_data', train=True, download=True)\n",
    "test_dataset  = torchvision.datasets.MNIST('classifier_data', train=False, download=True)\n",
    "\n",
    "\n",
    "#Prepare X_train, y_train, X_test, y_test\n",
    "composed_transform=transforms.Compose([transforms.ToTensor()])\n",
    "X_train=[]\n",
    "y_train=[]\n",
    "for i in range(len(train_dataset)):\n",
    "    X_train.append(torch.flatten(composed_transform(train_dataset[i][0]))) # for normal NN\n",
    "    #X_train.append(composed_transform(train_dataset[i][0]).squeeze(0)) # for convolution\n",
    "    y_train.append(train_dataset[i][0])\n",
    "\n",
    "X_test=[]\n",
    "y_test=[]\n",
    "for i in range(len(test_dataset)):\n",
    "    X_test.append(composed_transform(test_dataset[i][0]).squeeze(0))\n",
    "    y_test.append(test_dataset[i][0])\n",
    "    \n",
    "print(len(y_train),len(y_test))\"\"\""
   ]
  },
  {
   "cell_type": "code",
   "execution_count": 3,
   "metadata": {},
   "outputs": [
    {
     "data": {
      "text/plain": [
       "((52500, 784), (52500,), (17500, 784), (17500,))"
      ]
     },
     "execution_count": 3,
     "metadata": {},
     "output_type": "execute_result"
    }
   ],
   "source": [
    "from sklearn.datasets import fetch_openml\n",
    "from sklearn.model_selection import train_test_split\n",
    "\n",
    "mnist = fetch_openml('mnist_784', cache=True)\n",
    "\n",
    "X = mnist.data.astype('float32')\n",
    "y = mnist.target.astype('int64')\n",
    "\n",
    "X /= 255.0\n",
    "X_train, X_test, y_train, y_test = train_test_split(X, y, test_size=0.25, random_state=42)\n",
    "X_train.shape, y_train.shape, X_test.shape, y_test.shape"
   ]
  },
  {
   "cell_type": "markdown",
   "metadata": {},
   "source": [
    "## 2) Models"
   ]
  },
  {
   "cell_type": "code",
   "execution_count": 51,
   "metadata": {},
   "outputs": [],
   "source": [
    "class BasicNet(nn.Module):\n",
    "    \n",
    "    def __init__(self, Ni, Nh1, Nh2, No):\n",
    "        \"\"\"\n",
    "        Ni - Input size\n",
    "        Nh1 - Neurons in the 1st hidden layer\n",
    "        Nh2 - Neurons in the 2nd hidden layer\n",
    "        No - Output size\n",
    "        \"\"\"\n",
    "        super().__init__()\n",
    "        \n",
    "        self.fc1 = nn.Linear(in_features=Ni, out_features=Nh1)\n",
    "        self.fc2 = nn.Linear(in_features=Nh1, out_features=Nh2)\n",
    "        self.out = nn.Linear(in_features=Nh2, out_features=No)\n",
    "        self.soft = nn.Softmax()\n",
    "        self.relu= nn.ReLU()\n",
    "        self.dropout = nn.Dropout(0.5)\n",
    "        self.name=\"BasicNet\"\n",
    "\n",
    "        print('Network initialized')\n",
    "        \n",
    "    def forward(self, input, additional_out=False):\n",
    "        x=input\n",
    "        x = self.relu(self.fc1(x))\n",
    "        x = self.relu(self.fc2(x))\n",
    "        #x = self.dropout(x)\n",
    "        x = self.out(x)\n",
    "        x = nn.functional.softmax(x, dim=-1)\n",
    "        return x"
   ]
  },
  {
   "cell_type": "code",
   "execution_count": null,
   "metadata": {},
   "outputs": [],
   "source": []
  },
  {
   "cell_type": "markdown",
   "metadata": {},
   "source": [
    "## 3) Training"
   ]
  },
  {
   "cell_type": "markdown",
   "metadata": {},
   "source": [
    "### 3.1) Initialization"
   ]
  },
  {
   "cell_type": "code",
   "execution_count": 53,
   "metadata": {},
   "outputs": [
    {
     "name": "stdout",
     "output_type": "stream",
     "text": [
      "Training device: cuda\n"
     ]
    }
   ],
   "source": [
    "# Check if the GPU is available\n",
    "device = torch.device(\"cuda\") if torch.cuda.is_available() else torch.device(\"cpu\")\n",
    "print(f\"Training device: {device}\")\n",
    "\n",
    "# Define the loss function\n",
    "loss_function = nn.CrossEntropyLoss()\n",
    "\n",
    "\n",
    "from skorch.callbacks import EarlyStopping\n",
    "\n",
    "my_early = EarlyStopping(\n",
    "    monitor='valid_loss',\n",
    "    patience=500,\n",
    "    threshold=0.0001,\n",
    "    threshold_mode='rel',\n",
    "    lower_is_better=True)\n",
    "\n",
    "\n",
    "from skorch import NeuralNetClassifier\n",
    "\n",
    "net = NeuralNetClassifier(\n",
    "    module=BasicNet,\n",
    "    module__Ni= 784,\n",
    "    module__Nh1 = 128,\n",
    "    module__Nh2 = 128,\n",
    "    module__No = 10,\n",
    "    max_epochs=50,\n",
    "    \n",
    "    device=device,  # uncomment this to train with CUDA\n",
    "    #lr=0.1,\n",
    "    optimizer = optim.SGD,\n",
    "    optimizer__lr=0.01,\n",
    "    #optimizer__weight_decay=1e-5, #L2 norm\n",
    "    #criterion=nn.CrossEntropyLoss(),\n",
    "    callbacks = [my_early],\n",
    "    #verbose=0\n",
    ")"
   ]
  },
  {
   "cell_type": "code",
   "execution_count": 54,
   "metadata": {},
   "outputs": [
    {
     "name": "stdout",
     "output_type": "stream",
     "text": [
      "Network initialized\n",
      "  epoch    train_loss    valid_acc    valid_loss     dur\n",
      "-------  ------------  -----------  ------------  ------\n",
      "      1        \u001b[36m2.2462\u001b[0m       \u001b[32m0.5161\u001b[0m        \u001b[35m2.1453\u001b[0m  1.2152\n",
      "      2        \u001b[36m1.8413\u001b[0m       \u001b[32m0.7158\u001b[0m        \u001b[35m1.4106\u001b[0m  1.0974\n",
      "      3        \u001b[36m1.0083\u001b[0m       \u001b[32m0.8110\u001b[0m        \u001b[35m0.7570\u001b[0m  1.1002\n",
      "      4        \u001b[36m0.6310\u001b[0m       \u001b[32m0.8492\u001b[0m        \u001b[35m0.5651\u001b[0m  1.1049\n",
      "      5        \u001b[36m0.5035\u001b[0m       \u001b[32m0.8683\u001b[0m        \u001b[35m0.4803\u001b[0m  1.1111\n",
      "      6        \u001b[36m0.4402\u001b[0m       \u001b[32m0.8786\u001b[0m        \u001b[35m0.4318\u001b[0m  1.0911\n",
      "      7        \u001b[36m0.4019\u001b[0m       \u001b[32m0.8866\u001b[0m        \u001b[35m0.4003\u001b[0m  1.1360\n",
      "      8        \u001b[36m0.3761\u001b[0m       \u001b[32m0.8929\u001b[0m        \u001b[35m0.3782\u001b[0m  1.1425\n",
      "      9        \u001b[36m0.3571\u001b[0m       \u001b[32m0.8975\u001b[0m        \u001b[35m0.3616\u001b[0m  1.1372\n",
      "     10        \u001b[36m0.3422\u001b[0m       \u001b[32m0.9012\u001b[0m        \u001b[35m0.3483\u001b[0m  1.1055\n",
      "     11        \u001b[36m0.3299\u001b[0m       \u001b[32m0.9054\u001b[0m        \u001b[35m0.3372\u001b[0m  1.2223\n",
      "     12        \u001b[36m0.3192\u001b[0m       \u001b[32m0.9084\u001b[0m        \u001b[35m0.3275\u001b[0m  1.1843\n",
      "     13        \u001b[36m0.3098\u001b[0m       \u001b[32m0.9105\u001b[0m        \u001b[35m0.3189\u001b[0m  1.2370\n",
      "     14        \u001b[36m0.3012\u001b[0m       \u001b[32m0.9132\u001b[0m        \u001b[35m0.3110\u001b[0m  1.2324\n",
      "     15        \u001b[36m0.2933\u001b[0m       \u001b[32m0.9155\u001b[0m        \u001b[35m0.3039\u001b[0m  1.0886\n",
      "     16        \u001b[36m0.2860\u001b[0m       \u001b[32m0.9166\u001b[0m        \u001b[35m0.2973\u001b[0m  1.1033\n",
      "     17        \u001b[36m0.2791\u001b[0m       \u001b[32m0.9179\u001b[0m        \u001b[35m0.2911\u001b[0m  1.2437\n",
      "     18        \u001b[36m0.2726\u001b[0m       \u001b[32m0.9193\u001b[0m        \u001b[35m0.2850\u001b[0m  1.1834\n",
      "     19        \u001b[36m0.2663\u001b[0m       \u001b[32m0.9206\u001b[0m        \u001b[35m0.2793\u001b[0m  1.1123\n",
      "     20        \u001b[36m0.2603\u001b[0m       \u001b[32m0.9217\u001b[0m        \u001b[35m0.2738\u001b[0m  1.1167\n",
      "     21        \u001b[36m0.2545\u001b[0m       \u001b[32m0.9225\u001b[0m        \u001b[35m0.2685\u001b[0m  1.1616\n",
      "     22        \u001b[36m0.2490\u001b[0m       \u001b[32m0.9242\u001b[0m        \u001b[35m0.2635\u001b[0m  1.1340\n",
      "     23        \u001b[36m0.2436\u001b[0m       \u001b[32m0.9254\u001b[0m        \u001b[35m0.2586\u001b[0m  1.2193\n",
      "     24        \u001b[36m0.2384\u001b[0m       \u001b[32m0.9270\u001b[0m        \u001b[35m0.2538\u001b[0m  1.1984\n",
      "     25        \u001b[36m0.2333\u001b[0m       \u001b[32m0.9288\u001b[0m        \u001b[35m0.2493\u001b[0m  1.2233\n",
      "     26        \u001b[36m0.2283\u001b[0m       \u001b[32m0.9300\u001b[0m        \u001b[35m0.2448\u001b[0m  1.1375\n",
      "     27        \u001b[36m0.2235\u001b[0m       \u001b[32m0.9309\u001b[0m        \u001b[35m0.2404\u001b[0m  1.2782\n",
      "     28        \u001b[36m0.2189\u001b[0m       \u001b[32m0.9319\u001b[0m        \u001b[35m0.2362\u001b[0m  1.1222\n",
      "     29        \u001b[36m0.2143\u001b[0m       \u001b[32m0.9323\u001b[0m        \u001b[35m0.2321\u001b[0m  1.1824\n",
      "     30        \u001b[36m0.2099\u001b[0m       \u001b[32m0.9332\u001b[0m        \u001b[35m0.2281\u001b[0m  1.2221\n",
      "     31        \u001b[36m0.2057\u001b[0m       \u001b[32m0.9340\u001b[0m        \u001b[35m0.2242\u001b[0m  1.2107\n",
      "     32        \u001b[36m0.2015\u001b[0m       \u001b[32m0.9362\u001b[0m        \u001b[35m0.2205\u001b[0m  1.2134\n",
      "     33        \u001b[36m0.1975\u001b[0m       \u001b[32m0.9379\u001b[0m        \u001b[35m0.2169\u001b[0m  1.2966\n",
      "     34        \u001b[36m0.1936\u001b[0m       \u001b[32m0.9392\u001b[0m        \u001b[35m0.2134\u001b[0m  1.2316\n",
      "     35        \u001b[36m0.1898\u001b[0m       \u001b[32m0.9403\u001b[0m        \u001b[35m0.2100\u001b[0m  1.1376\n",
      "     36        \u001b[36m0.1862\u001b[0m       \u001b[32m0.9415\u001b[0m        \u001b[35m0.2067\u001b[0m  1.1793\n",
      "     37        \u001b[36m0.1827\u001b[0m       \u001b[32m0.9424\u001b[0m        \u001b[35m0.2036\u001b[0m  1.1219\n",
      "     38        \u001b[36m0.1793\u001b[0m       \u001b[32m0.9435\u001b[0m        \u001b[35m0.2006\u001b[0m  1.1750\n",
      "     39        \u001b[36m0.1759\u001b[0m       \u001b[32m0.9445\u001b[0m        \u001b[35m0.1977\u001b[0m  1.1157\n",
      "     40        \u001b[36m0.1727\u001b[0m       \u001b[32m0.9454\u001b[0m        \u001b[35m0.1949\u001b[0m  1.1212\n",
      "     41        \u001b[36m0.1696\u001b[0m       \u001b[32m0.9463\u001b[0m        \u001b[35m0.1921\u001b[0m  1.0917\n",
      "     42        \u001b[36m0.1666\u001b[0m       \u001b[32m0.9467\u001b[0m        \u001b[35m0.1894\u001b[0m  1.2369\n",
      "     43        \u001b[36m0.1637\u001b[0m       \u001b[32m0.9475\u001b[0m        \u001b[35m0.1868\u001b[0m  1.1520\n",
      "     44        \u001b[36m0.1608\u001b[0m       \u001b[32m0.9479\u001b[0m        \u001b[35m0.1843\u001b[0m  1.4018\n",
      "     45        \u001b[36m0.1581\u001b[0m       \u001b[32m0.9482\u001b[0m        \u001b[35m0.1819\u001b[0m  1.1123\n",
      "     46        \u001b[36m0.1554\u001b[0m       \u001b[32m0.9490\u001b[0m        \u001b[35m0.1795\u001b[0m  1.1478\n",
      "     47        \u001b[36m0.1528\u001b[0m       \u001b[32m0.9494\u001b[0m        \u001b[35m0.1772\u001b[0m  1.1453\n",
      "     48        \u001b[36m0.1503\u001b[0m       \u001b[32m0.9498\u001b[0m        \u001b[35m0.1751\u001b[0m  1.1832\n",
      "     49        \u001b[36m0.1478\u001b[0m       \u001b[32m0.9510\u001b[0m        \u001b[35m0.1730\u001b[0m  1.1379\n",
      "     50        \u001b[36m0.1454\u001b[0m       \u001b[32m0.9511\u001b[0m        \u001b[35m0.1709\u001b[0m  1.1466\n"
     ]
    },
    {
     "data": {
      "text/plain": [
       "<class 'skorch.classifier.NeuralNetClassifier'>[initialized](\n",
       "  module_=BasicNet(\n",
       "    (fc1): Linear(in_features=784, out_features=128, bias=True)\n",
       "    (fc2): Linear(in_features=128, out_features=128, bias=True)\n",
       "    (out): Linear(in_features=128, out_features=10, bias=True)\n",
       "    (soft): Softmax(dim=None)\n",
       "    (relu): ReLU()\n",
       "    (dropout): Dropout(p=0.5, inplace=False)\n",
       "  ),\n",
       ")"
      ]
     },
     "execution_count": 54,
     "metadata": {},
     "output_type": "execute_result"
    }
   ],
   "source": [
    "net.fit(X_train, y_train)"
   ]
  },
  {
   "cell_type": "code",
   "execution_count": 55,
   "metadata": {},
   "outputs": [
    {
     "data": {
      "image/png": "[encoded data removed]",
      "text/plain": [
       "<Figure size 864x576 with 1 Axes>"
      ]
     },
     "metadata": {
      "needs_background": "light"
     },
     "output_type": "display_data"
    }
   ],
   "source": [
    "import datetime\n",
    "save_name=datetime.datetime.now().strftime(\"%Y-%m-%d_%H-%M\")\n",
    "\n",
    "# get train losses from all epochs, a list of floats\n",
    "history = net.history\n",
    "train_loss_log=history[:, 'train_loss']\n",
    "val_loss_log=history[:, 'valid_loss']\n",
    "\n",
    "# Plot losses\n",
    "plt.figure(figsize=(12,8))\n",
    "plt.plot(train_loss_log)\n",
    "plt.plot(val_loss_log)\n",
    "plt.title('Model loss')\n",
    "plt.ylabel('loss')\n",
    "plt.xlabel('epoch')\n",
    "plt.legend(['Train loss', 'Validation loss'], loc='upper right')\n",
    "#plt.savefig(\"models/\"+save_name+\"_Losses\", dpi=400)\n",
    "plt.show()"
   ]
  },
  {
   "cell_type": "code",
   "execution_count": 56,
   "metadata": {},
   "outputs": [
    {
     "data": {
      "text/plain": [
       "0.9497142857142857"
      ]
     },
     "execution_count": 56,
     "metadata": {},
     "output_type": "execute_result"
    }
   ],
   "source": [
    "from sklearn.metrics import accuracy_score\n",
    "y_pred = net.predict(X_test)\n",
    "accuracy_score(y_test, y_pred)"
   ]
  },
  {
   "cell_type": "code",
   "execution_count": null,
   "metadata": {},
   "outputs": [],
   "source": []
  },
  {
   "cell_type": "code",
   "execution_count": null,
   "metadata": {},
   "outputs": [],
   "source": []
  },
  {
   "cell_type": "code",
   "execution_count": null,
   "metadata": {},
   "outputs": [],
   "source": []
  },
  {
   "cell_type": "code",
   "execution_count": null,
   "metadata": {},
   "outputs": [],
   "source": []
  },
  {
   "cell_type": "code",
   "execution_count": null,
   "metadata": {},
   "outputs": [],
   "source": []
  },
  {
   "cell_type": "code",
   "execution_count": null,
   "metadata": {},
   "outputs": [],
   "source": []
  },
  {
   "cell_type": "code",
   "execution_count": null,
   "metadata": {},
   "outputs": [],
   "source": []
  },
  {
   "cell_type": "code",
   "execution_count": null,
   "metadata": {},
   "outputs": [],
   "source": []
  },
  {
   "cell_type": "code",
   "execution_count": null,
   "metadata": {},
   "outputs": [],
   "source": []
  }
 ],
 "metadata": {
  "kernelspec": {
   "display_name": "gputest",
   "language": "python",
   "name": "gputest"
  },
  "language_info": {
   "codemirror_mode": {
    "name": "ipython",
    "version": 3
   },
   "file_extension": ".py",
   "mimetype": "text/x-python",
   "name": "python",
   "nbconvert_exporter": "python",
   "pygments_lexer": "ipython3",
   "version": "3.7.7"
  }
 },
 "nbformat": 4,
 "nbformat_minor": 4
}
