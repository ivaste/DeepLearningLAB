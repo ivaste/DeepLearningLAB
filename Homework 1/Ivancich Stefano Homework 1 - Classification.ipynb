{
 "cells": [
  {
   "cell_type": "code",
   "execution_count": 1,
   "metadata": {},
   "outputs": [],
   "source": [
    "import pandas as pd\n",
    "import numpy as np\n",
    "import matplotlib.pyplot as plt\n",
    "\n",
    "import torch\n",
    "import torch.nn as nn\n",
    "import torch.optim as optim\n",
    "import torchvision\n",
    "from torchvision import transforms"
   ]
  },
  {
   "cell_type": "markdown",
   "metadata": {},
   "source": [
    "## 1) Dataset"
   ]
  },
  {
   "cell_type": "code",
   "execution_count": 2,
   "metadata": {},
   "outputs": [
    {
     "data": {
      "text/plain": [
       "((52500, 1, 28, 28), (52500,), (17500, 1, 28, 28), (17500,))"
      ]
     },
     "execution_count": 2,
     "metadata": {},
     "output_type": "execute_result"
    }
   ],
   "source": [
    "from sklearn.datasets import fetch_openml\n",
    "from sklearn.model_selection import train_test_split\n",
    "\n",
    "mnist = fetch_openml('mnist_784', cache=True)\n",
    "\n",
    "X = mnist.data.astype('float32')\n",
    "y = mnist.target.astype('int64')\n",
    "\n",
    "#Nomralization of the value between 0 and 1\n",
    "X /= 255.0\n",
    "\n",
    "#Dataset for Cnn model\n",
    "X = X.reshape(-1, 1, 28, 28) #Comment if you want to use the FC model\n",
    "\n",
    "#Train - test split\n",
    "X_train, X_test, y_train, y_test = train_test_split(X, y, test_size=0.25, random_state=42)\n",
    "X_train.shape, y_train.shape, X_test.shape, y_test.shape"
   ]
  },
  {
   "cell_type": "markdown",
   "metadata": {},
   "source": [
    "## 2) Models"
   ]
  },
  {
   "cell_type": "markdown",
   "metadata": {},
   "source": [
    "### 2.1) Fully Connected"
   ]
  },
  {
   "cell_type": "code",
   "execution_count": 3,
   "metadata": {},
   "outputs": [],
   "source": [
    "#FULLY CONNECTED\n",
    "class BasicNet(nn.Module):\n",
    "    \n",
    "    def __init__(self, Ni, Nh1, Nh2, No):\n",
    "        \"\"\"\n",
    "        Ni - Input size\n",
    "        Nh1 - Neurons in the 1st hidden layer\n",
    "        Nh2 - Neurons in the 2nd hidden layer\n",
    "        No - Output size\n",
    "        \"\"\"\n",
    "        super().__init__()\n",
    "        \n",
    "        self.fc1 = nn.Linear(in_features=Ni, out_features=Nh1)\n",
    "        self.fc2 = nn.Linear(in_features=Nh1, out_features=Nh2)\n",
    "        self.out = nn.Linear(in_features=Nh2, out_features=No)\n",
    "        self.soft = nn.Softmax()\n",
    "        \n",
    "        self.relu= nn.ReLU()\n",
    "        self.dropout = nn.Dropout(0.5)\n",
    "        self.name=\"BasicNet\"\n",
    "\n",
    "        print('Network initialized')\n",
    "        \n",
    "    def forward(self, input, additional_out=False):\n",
    "        x=input\n",
    "        x = self.relu(self.fc1(x))\n",
    "        x = self.relu(self.fc2(x))\n",
    "        x = self.dropout(x)\n",
    "        x = self.out(x)\n",
    "        x = self.soft(x)\n",
    "        return x"
   ]
  },
  {
   "cell_type": "markdown",
   "metadata": {},
   "source": [
    "### 2.2) Convolutional Network"
   ]
  },
  {
   "cell_type": "code",
   "execution_count": 4,
   "metadata": {},
   "outputs": [
    {
     "data": {
      "text/plain": [
       "'\\nConv2d:\\n    kernel_size\\n    padding: default =0\\n    stride: default=1\\n    \\nmax_pool2d:\\n    kernel_size=2\\n    padding: default=0\\n    stride: default=kernel_size\\n    \\n    \\nDimensions:\\n\\nAfter Conv: (input_size - kernel_size + 2*padding)/stride +1\\nAfter Maxpool:(input_size - kernel_size + 2*padding)/stride +1\\n\\nconv1=32, conv2=64\\n    - Input= 28x28x3\\n    - Conv1= 26x26x32\\n    - MaxPo= 13x13x32\\n    - Conv2= 11x11x64\\n    - Maxpo= 5x5x64\\n    - flatten= 1600\\n    - Fc1=....\\n\\n\\n'"
      ]
     },
     "execution_count": 4,
     "metadata": {},
     "output_type": "execute_result"
    }
   ],
   "source": [
    "#CONVOLUTIONAL NN\n",
    "import torch.nn.functional as F\n",
    "class Cnn(nn.Module):\n",
    "    def __init__(self, dropout=0.5,conv1=32,conv2=64,fc1=128):\n",
    "        super().__init__()\n",
    "        \n",
    "        self.conv1 = nn.Conv2d(1, conv1, kernel_size=3)\n",
    "        self.conv2 = nn.Conv2d(conv1, conv2, kernel_size=3)\n",
    "        self.conv2_drop = nn.Dropout2d(p=dropout)\n",
    "        \n",
    "        flatten_dim=conv2*5*5 # number channels * width * height\n",
    "        \n",
    "        self.fc1 = nn.Linear(flatten_dim, fc1) \n",
    "        self.fc2 = nn.Linear(fc1, 10)\n",
    "        self.fc1_drop = nn.Dropout(p=dropout)\n",
    "\n",
    "    def forward(self, x):\n",
    "        x = torch.relu(F.max_pool2d(self.conv1(x), 2))\n",
    "        x = torch.relu(F.max_pool2d(self.conv2_drop(self.conv2(x)), 2))\n",
    "        \n",
    "        # flatten over channel, height and width = 1600\n",
    "        x = x.view(-1, x.size(1) * x.size(2) * x.size(3))\n",
    "        \n",
    "        x = torch.relu(self.fc1_drop(self.fc1(x)))\n",
    "        x = torch.softmax(self.fc2(x), dim=-1)\n",
    "        return x\n",
    "    \n",
    "    \n",
    "\"\"\"\n",
    "Conv2d:\n",
    "    kernel_size\n",
    "    padding: default =0\n",
    "    stride: default=1\n",
    "    \n",
    "max_pool2d:\n",
    "    kernel_size=2\n",
    "    padding: default=0\n",
    "    stride: default=kernel_size\n",
    "    \n",
    "    \n",
    "Dimensions:\n",
    "\n",
    "After Conv: (input_size - kernel_size + 2*padding)/stride +1\n",
    "After Maxpool:(input_size - kernel_size + 2*padding)/stride +1\n",
    "\n",
    "conv1=32, conv2=64\n",
    "    - Input= 28x28x3\n",
    "    - Conv1= 26x26x32\n",
    "    - MaxPo= 13x13x32\n",
    "    - Conv2= 11x11x64\n",
    "    - Maxpo= 5x5x64\n",
    "    - flatten= 1600\n",
    "    - Fc1=....\n",
    "\n",
    "\n",
    "\"\"\""
   ]
  },
  {
   "cell_type": "markdown",
   "metadata": {},
   "source": [
    "## 3) Training"
   ]
  },
  {
   "cell_type": "markdown",
   "metadata": {},
   "source": [
    "### 3.1) Initialization"
   ]
  },
  {
   "cell_type": "code",
   "execution_count": 16,
   "metadata": {},
   "outputs": [
    {
     "name": "stdout",
     "output_type": "stream",
     "text": [
      "Training device: cuda\n"
     ]
    }
   ],
   "source": [
    "# Check if the GPU is available\n",
    "device = torch.device(\"cuda\") if torch.cuda.is_available() else torch.device(\"cpu\")\n",
    "print(f\"Training device: {device}\")\n",
    "\n",
    "# Define the loss function\n",
    "loss_function = nn.CrossEntropyLoss()\n",
    "\n",
    "#Early Stopping\n",
    "from skorch.callbacks import EarlyStopping\n",
    "\n",
    "my_early = EarlyStopping(\n",
    "    monitor='valid_loss',\n",
    "    patience=10,\n",
    "    threshold=0.0001,\n",
    "    threshold_mode='rel',\n",
    "    lower_is_better=True)\n",
    "\n",
    "#Model initialization\n",
    "from skorch import NeuralNetClassifier\n",
    "\n",
    "#FULLY CONNECTED\n",
    "net = NeuralNetClassifier(\n",
    "    module=BasicNet,\n",
    "    module__Ni= 784,\n",
    "    module__Nh1 = 8,\n",
    "    module__Nh2 = 48,\n",
    "    module__No = 10,\n",
    "    max_epochs=50,\n",
    "    \n",
    "    device=device,  # uncomment this to train with CUDA\n",
    "    #lr=0.1,\n",
    "    #optimizer = optim.SGD,\n",
    "    optimizer = optim.Adam,\n",
    "    optimizer__lr=0.001,\n",
    "    optimizer__weight_decay=1e-5, #L2 norm\n",
    "    criterion=nn.CrossEntropyLoss,\n",
    "    callbacks = [my_early],\n",
    "    #verbose=0\n",
    ")\n",
    "\n",
    "#CNN\n",
    "net = NeuralNetClassifier(\n",
    "    module=Cnn,\n",
    "    module__conv1=32,\n",
    "    module__conv2=64,\n",
    "    module__fc1=64,\n",
    "    max_epochs=50,\n",
    "    #lr=0.002,\n",
    "    device=device,\n",
    "    optimizer = optim.Adam,\n",
    "    optimizer__lr=0.001,\n",
    "    optimizer__weight_decay=1e-5, #L2 norm\n",
    "    criterion=nn.CrossEntropyLoss,\n",
    "    callbacks = [my_early],\n",
    ")"
   ]
  },
  {
   "cell_type": "markdown",
   "metadata": {},
   "source": [
    "### 3.2) Grid Search and Cross Validation"
   ]
  },
  {
   "cell_type": "code",
   "execution_count": null,
   "metadata": {},
   "outputs": [],
   "source": [
    "from sklearn.model_selection import GridSearchCV\n",
    "\n",
    "#FULLY CONNECTED\n",
    "params = {\n",
    "    'module__Nh1': [8,16,32,48],\n",
    "    'module__Nh2': [8,16,32,48],\n",
    "    'max_epochs': [1500],\n",
    "    'optimizer__lr':[0.1, 0.01, 0.001],\n",
    "    'optimizer__weight_decay':[1e-3,1e-4,1e-5] #L2 norm,\n",
    "}\n",
    "\n",
    "#CNN\n",
    "params = {\n",
    "    'module__Nh1': [8,48],\n",
    "    'module__Nh2': [8,48],\n",
    "    'max_epochs': [1500],\n",
    "    'optimizer__lr':[0.01, 0.001],\n",
    "    'optimizer__weight_decay':[1e-4,1e-5] #L2 norm,\n",
    "}\n",
    "\n",
    "\n",
    "gs = GridSearchCV(net, params, refit=True, cv=3, scoring=\"neg_mean_squared_error\",verbose=10)\n",
    "\n",
    "gs.fit(X_train, y_train)\n",
    "\n",
    "print(gs.best_score_, gs.best_params_)\n",
    "net=gs.best_estimator_"
   ]
  },
  {
   "cell_type": "markdown",
   "metadata": {},
   "source": [
    "### 3.3) Normal Training"
   ]
  },
  {
   "cell_type": "code",
   "execution_count": 17,
   "metadata": {},
   "outputs": [
    {
     "name": "stdout",
     "output_type": "stream",
     "text": [
      "  epoch    train_loss    valid_acc    valid_loss     dur\n",
      "-------  ------------  -----------  ------------  ------\n",
      "      1        \u001b[36m1.7744\u001b[0m       \u001b[32m0.9320\u001b[0m        \u001b[35m1.5323\u001b[0m  3.8487\n",
      "      2        \u001b[36m1.5635\u001b[0m       \u001b[32m0.9574\u001b[0m        \u001b[35m1.5054\u001b[0m  3.7230\n",
      "      3        \u001b[36m1.5372\u001b[0m       \u001b[32m0.9650\u001b[0m        \u001b[35m1.4968\u001b[0m  3.7169\n",
      "      4        \u001b[36m1.5273\u001b[0m       \u001b[32m0.9690\u001b[0m        \u001b[35m1.4928\u001b[0m  3.7126\n",
      "      5        \u001b[36m1.5230\u001b[0m       \u001b[32m0.9712\u001b[0m        \u001b[35m1.4902\u001b[0m  3.9140\n",
      "      6        \u001b[36m1.5186\u001b[0m       \u001b[32m0.9727\u001b[0m        \u001b[35m1.4881\u001b[0m  4.0139\n",
      "      7        \u001b[36m1.5138\u001b[0m       \u001b[32m0.9752\u001b[0m        \u001b[35m1.4865\u001b[0m  3.9392\n",
      "      8        \u001b[36m1.5101\u001b[0m       \u001b[32m0.9770\u001b[0m        \u001b[35m1.4843\u001b[0m  3.7630\n",
      "      9        \u001b[36m1.5078\u001b[0m       \u001b[32m0.9785\u001b[0m        \u001b[35m1.4830\u001b[0m  3.7746\n",
      "     10        \u001b[36m1.5057\u001b[0m       0.9784        \u001b[35m1.4830\u001b[0m  3.7109\n",
      "     11        \u001b[36m1.5051\u001b[0m       0.9774        1.4833  3.7021\n",
      "     12        \u001b[36m1.5011\u001b[0m       \u001b[32m0.9793\u001b[0m        \u001b[35m1.4819\u001b[0m  3.7120\n",
      "     13        1.5019       \u001b[32m0.9817\u001b[0m        \u001b[35m1.4795\u001b[0m  3.6982\n",
      "     14        \u001b[36m1.4997\u001b[0m       0.9811        1.4798  3.7017\n",
      "     15        1.4998       \u001b[32m0.9827\u001b[0m        \u001b[35m1.4787\u001b[0m  3.7084\n",
      "     16        \u001b[36m1.4990\u001b[0m       0.9797        1.4812  3.7683\n",
      "     17        \u001b[36m1.4984\u001b[0m       \u001b[32m0.9830\u001b[0m        \u001b[35m1.4783\u001b[0m  3.7369\n",
      "     18        1.4985       0.9806        1.4802  3.8264\n",
      "     19        \u001b[36m1.4954\u001b[0m       0.9822        1.4790  3.8231\n",
      "     20        \u001b[36m1.4945\u001b[0m       \u001b[32m0.9846\u001b[0m        \u001b[35m1.4770\u001b[0m  3.6766\n",
      "     21        1.4947       0.9838        1.4770  3.6975\n",
      "     22        \u001b[36m1.4929\u001b[0m       0.9846        \u001b[35m1.4768\u001b[0m  3.9759\n",
      "     23        \u001b[36m1.4927\u001b[0m       \u001b[32m0.9848\u001b[0m        \u001b[35m1.4764\u001b[0m  3.8854\n",
      "     24        \u001b[36m1.4920\u001b[0m       0.9845        1.4771  3.7996\n",
      "     25        1.4920       \u001b[32m0.9852\u001b[0m        \u001b[35m1.4761\u001b[0m  3.8455\n",
      "     26        \u001b[36m1.4917\u001b[0m       \u001b[32m0.9857\u001b[0m        \u001b[35m1.4760\u001b[0m  3.6843\n",
      "     27        \u001b[36m1.4912\u001b[0m       0.9849        1.4763  3.6260\n",
      "     28        1.4928       0.9852        \u001b[35m1.4759\u001b[0m  3.6710\n",
      "     29        1.4919       0.9841        1.4772  3.5677\n",
      "     30        \u001b[36m1.4909\u001b[0m       0.9848        1.4765  3.7779\n",
      "     31        \u001b[36m1.4891\u001b[0m       0.9856        \u001b[35m1.4755\u001b[0m  3.8608\n",
      "     32        1.4907       \u001b[32m0.9858\u001b[0m        \u001b[35m1.4752\u001b[0m  3.6904\n",
      "     33        1.4901       \u001b[32m0.9862\u001b[0m        \u001b[35m1.4750\u001b[0m  3.6594\n",
      "     34        1.4891       \u001b[32m0.9865\u001b[0m        1.4751  3.7074\n",
      "     35        \u001b[36m1.4888\u001b[0m       0.9851        1.4764  3.6371\n",
      "     36        1.4892       0.9854        1.4754  3.8092\n",
      "     37        \u001b[36m1.4878\u001b[0m       0.9860        1.4750  3.8597\n",
      "     38        \u001b[36m1.4872\u001b[0m       0.9865        \u001b[35m1.4747\u001b[0m  3.9016\n",
      "     39        1.4873       0.9863        1.4748  3.5291\n",
      "     40        \u001b[36m1.4871\u001b[0m       0.9849        1.4760  3.7451\n",
      "     41        1.4890       0.9853        1.4760  3.7774\n",
      "     42        1.4879       0.9849        1.4761  3.8951\n",
      "     43        \u001b[36m1.4869\u001b[0m       0.9862        1.4751  3.6526\n",
      "     44        \u001b[36m1.4864\u001b[0m       0.9865        \u001b[35m1.4742\u001b[0m  3.8523\n",
      "     45        \u001b[36m1.4857\u001b[0m       0.9852        1.4755  3.5318\n",
      "     46        1.4861       \u001b[32m0.9874\u001b[0m        \u001b[35m1.4738\u001b[0m  3.5161\n",
      "     47        1.4872       0.9854        1.4754  3.5049\n",
      "     48        1.4869       0.9874        1.4741  3.5337\n",
      "     49        1.4859       \u001b[32m0.9875\u001b[0m        1.4738  3.5393\n",
      "     50        1.4861       0.9866        1.4749  3.4988\n"
     ]
    },
    {
     "data": {
      "text/plain": [
       "<class 'skorch.classifier.NeuralNetClassifier'>[initialized](\n",
       "  module_=Cnn(\n",
       "    (conv1): Conv2d(1, 32, kernel_size=(3, 3), stride=(1, 1))\n",
       "    (conv2): Conv2d(32, 64, kernel_size=(3, 3), stride=(1, 1))\n",
       "    (conv2_drop): Dropout2d(p=0.5, inplace=False)\n",
       "    (fc1): Linear(in_features=1600, out_features=64, bias=True)\n",
       "    (fc2): Linear(in_features=64, out_features=10, bias=True)\n",
       "    (fc1_drop): Dropout(p=0.5, inplace=False)\n",
       "  ),\n",
       ")"
      ]
     },
     "execution_count": 17,
     "metadata": {},
     "output_type": "execute_result"
    }
   ],
   "source": [
    "net.fit(X_train, y_train)"
   ]
  },
  {
   "cell_type": "markdown",
   "metadata": {},
   "source": [
    "### 3.4) Plot Losses"
   ]
  },
  {
   "cell_type": "code",
   "execution_count": 18,
   "metadata": {},
   "outputs": [
    {
     "data": {
      "image/png": "[encoded data removed]",
      "text/plain": [
       "<Figure size 864x576 with 1 Axes>"
      ]
     },
     "metadata": {
      "needs_background": "light"
     },
     "output_type": "display_data"
    }
   ],
   "source": [
    "import datetime\n",
    "save_name=\"Classification_\"+datetime.datetime.now().strftime(\"%Y-%m-%d_%H-%M\")\n",
    "\n",
    "# get train losses from all epochs, a list of floats\n",
    "history = net.history\n",
    "train_loss_log=history[:, 'train_loss']\n",
    "val_loss_log=history[:, 'valid_loss']\n",
    "\n",
    "# Plot losses\n",
    "plt.figure(figsize=(12,8))\n",
    "plt.plot(train_loss_log)\n",
    "plt.plot(val_loss_log)\n",
    "plt.title('Model loss')\n",
    "plt.ylabel('loss')\n",
    "plt.xlabel('epoch')\n",
    "plt.legend(['Train loss', 'Validation loss'], loc='upper right')\n",
    "plt.savefig(\"models/\"+save_name+\"_Losses\", dpi=400)\n",
    "plt.show()"
   ]
  },
  {
   "cell_type": "markdown",
   "metadata": {},
   "source": [
    "## 4) Test the model"
   ]
  },
  {
   "cell_type": "code",
   "execution_count": 19,
   "metadata": {},
   "outputs": [
    {
     "name": "stdout",
     "output_type": "stream",
     "text": [
      "0.9850285714285715\n"
     ]
    }
   ],
   "source": [
    "from sklearn.metrics import accuracy_score\n",
    "y_pred = net.predict(X_test)\n",
    "\n",
    "test_acc = accuracy_score(y_test, y_pred)\n",
    "print(test_acc)"
   ]
  },
  {
   "cell_type": "markdown",
   "metadata": {},
   "source": [
    "## 5) Metrics Summary"
   ]
  },
  {
   "cell_type": "code",
   "execution_count": 20,
   "metadata": {},
   "outputs": [],
   "source": [
    "import itertools\n",
    "def plot_confusion_matrix(cm, classes,\n",
    "                          normalize=False,\n",
    "                          title='Confusion matrix',\n",
    "                          cmap=plt.cm.Blues,\n",
    "\t\t\t\t\t\t  save_path='models/'):\n",
    "    \"\"\"\n",
    "    This function prints and plots the confusion matrix.\n",
    "    Normalization can be applied by setting `normalize=True`.\n",
    "    \"\"\"\n",
    "    if normalize:\n",
    "        cm = cm.astype('float') / cm.sum(axis=1)[:, np.newaxis]\n",
    "        #print(\"Normalized confusion matrix\")\n",
    "    #else:\n",
    "        #print('Confusion matrix, without normalization')\n",
    "\n",
    "    plt.figure(figsize=(15, 15))\n",
    "    plt.imshow(cm, interpolation='nearest', cmap=cmap)\n",
    "    plt.title(title, fontsize=30)\n",
    "    plt.colorbar()\n",
    "    tick_marks = np.arange(len(classes))\n",
    "    plt.xticks(tick_marks, classes, rotation=45, fontsize=15)\n",
    "    plt.yticks(tick_marks, classes, fontsize=15)\n",
    "\n",
    "    fmt = '.3f' if normalize else 'd'\n",
    "    thresh = cm.max() / 2.\n",
    "    for i, j in itertools.product(range(cm.shape[0]), range(cm.shape[1])):\n",
    "        plt.text(j, i, format(cm[i, j], fmt), size=11,\n",
    "                 horizontalalignment=\"center\",\n",
    "                 color=\"white\" if cm[i, j] > thresh else \"black\")\n",
    "\n",
    "    plt.ylabel('True label', fontsize=30)\n",
    "    plt.xlabel('Predicted label', fontsize=30)\n",
    "    plt.savefig(save_path+\"_picConfMatrix.png\", dpi=400)\n",
    "    plt.tight_layout()"
   ]
  },
  {
   "cell_type": "code",
   "execution_count": 22,
   "metadata": {},
   "outputs": [
    {
     "name": "stdout",
     "output_type": "stream",
     "text": [
      "Train Loss:\t 1.486\n",
      "Val Acc:\t 0.987\n",
      "Test Acc:\t 0.985\n",
      "Precision:\t 0.985\n",
      "Recall:\t\t 0.985\n",
      "F1:\t\t 0.985\n"
     ]
    },
    {
     "data": {
      "image/png": "[encoded data removed]",
      "text/plain": [
       "<Figure size 1080x1080 with 2 Axes>"
      ]
     },
     "metadata": {
      "needs_background": "light"
     },
     "output_type": "display_data"
    }
   ],
   "source": [
    "#Accuracy\n",
    "val_acc=history[:, 'valid_acc'][-1]\n",
    "val_loss=history[:, 'valid_loss'][-1]\n",
    "train_loss=history[:, 'train_loss'][-1]\n",
    "\n",
    "print(\"Train Loss:\\t\",round(train_loss,3))\n",
    "print(\"Val Acc:\\t\",round(val_acc,3))\n",
    "print(\"Test Acc:\\t\",round(float(test_acc),3))\n",
    "\n",
    "# Precision and Recall(sensitivity/true positive rate)\n",
    "from sklearn.metrics import precision_score, recall_score\n",
    "prec=precision_score(y_test, y_pred,average='micro')\n",
    "rec=recall_score(y_test, y_pred,average='micro')\n",
    "\n",
    "#F1 - high if both recall and precision are high.\n",
    "from sklearn.metrics import f1_score\n",
    "f1=f1_score(y_test, y_pred,average='micro')\n",
    "\n",
    "print(\"Precision:\\t\",round(prec,3))\n",
    "print(\"Recall:\\t\\t\",round(rec,3))\n",
    "print(\"F1:\\t\\t\",round(f1,3))\n",
    "\n",
    "# Confusion Matrix\n",
    "from sklearn.metrics import confusion_matrix\n",
    "cm = confusion_matrix(y_test, y_pred)\n",
    "categories=[0,1,2,3,4,5,6,7,8,9]\n",
    "plot_confusion_matrix(cm,categories, normalize=False,save_path=\"models/\"+save_name)\n"
   ]
  },
  {
   "cell_type": "markdown",
   "metadata": {},
   "source": [
    "## 6) Save the model"
   ]
  },
  {
   "cell_type": "code",
   "execution_count": 23,
   "metadata": {},
   "outputs": [],
   "source": [
    "#Saving the whole model\n",
    "import pickle\n",
    "with open(\"models/\"+save_name+\".pkl\", 'wb') as f:\n",
    "    pickle.dump(net, f)\n",
    "    \n",
    "#Load the model\n",
    "#with open(file_name, 'rb') as f:\n",
    "#    new_net = pickle.load(f)\n",
    "\n",
    "#Save Metrics to File\n",
    "f = open(\"models/\"+save_name+\"_Metrics.txt\", \"a\")\n",
    "f.write('Train loss:\\t'+ str(round(train_loss,3))+ \"\\n\")\n",
    "f.write('Val loss:\\t'+ str(round(val_loss,3))+ \"\\n\")\n",
    "f.write('Val acc:\\t'+ str(round(val_acc,3))+ \"\\n\")\n",
    "f.write('Test acc:\\t'+ str(round(test_acc,3))+ \"\\n\")\n",
    "f.write(\"Precision:\\t\"+str(round(prec,3))+ \"\\n\")\n",
    "f.write(\"Recall:\\t\\t\"+str(round(rec,3))+ \"\\n\")\n",
    "f.write(\"F1:\\t\\t\"+str(round(f1,3)))\n",
    "\n",
    "f.close()"
   ]
  },
  {
   "cell_type": "code",
   "execution_count": 24,
   "metadata": {},
   "outputs": [
    {
     "name": "stdout",
     "output_type": "stream",
     "text": [
      "23 2 - 7\n",
      "17 4 - 9\n",
      "17 2 - 3\n",
      "17 1 - 2\n",
      "15 8 - 9\n",
      "14 7 - 9\n",
      "13 5 - 6\n",
      "12 3 - 5\n",
      "11 0 - 9\n",
      "10 3 - 7\n"
     ]
    }
   ],
   "source": [
    "#Most mispredicted labels\n",
    "n_mistakes=10\n",
    "import heapq\n",
    "h=[]\n",
    "nCategories=10\n",
    "for i in range(nCategories):\n",
    "    for j in range(i+1,nCategories):\n",
    "        heapq.heappush(h,(cm[i,j]+cm[j,i],(i,j)))\n",
    "for e in heapq.nlargest(n_mistakes,h):\n",
    "    print(e[0],e[1][0],\"-\",e[1][1])\n",
    "\n",
    "f = open(\"models/\"+save_name+\"_Metrics.txt\", \"a\")\n",
    "f.write('\\n\\nMost '+str(n_mistakes)+ ' mispredicted labels\\n')\n",
    "for e in heapq.nlargest(n_mistakes,h):\n",
    "    f.write(str(e[0])+\"\\t\"+str(categories[e[1][0]])+\"-\"+str(categories[e[1][1]])+\"\\n\")\n",
    "f.close()"
   ]
  },
  {
   "cell_type": "markdown",
   "metadata": {},
   "source": [
    "## 7) Network Analysis"
   ]
  },
  {
   "cell_type": "markdown",
   "metadata": {},
   "source": [
    "### 7.1) Weights histogram"
   ]
  },
  {
   "cell_type": "markdown",
   "metadata": {},
   "source": [
    "#### 7.1.1) Fully Connected Network"
   ]
  },
  {
   "cell_type": "code",
   "execution_count": null,
   "metadata": {},
   "outputs": [],
   "source": [
    "#Access network parameters\n",
    "my_best_net = net.module_\n",
    "\n",
    "#First hidden Layer\n",
    "h1_w = my_best_net.fc1.weight.data.cpu().numpy()\n",
    "h1_b = my_best_net.fc1.bias.data.cpu().numpy()\n",
    "\n",
    "#Second hidden Layer\n",
    "h2_w = my_best_net.fc2.weight.data.cpu().numpy()\n",
    "h2_b = my_best_net.fc2.bias.data.cpu().numpy()\n",
    "\n",
    "# Output layer\n",
    "out_w = my_best_net.out.weight.data.cpu().numpy()\n",
    "out_b = my_best_net.out.bias.data.cpu().numpy()"
   ]
  },
  {
   "cell_type": "code",
   "execution_count": null,
   "metadata": {},
   "outputs": [],
   "source": [
    "# Weights histogram\n",
    "fig, axs = plt.subplots(3, 1, figsize=(12,8))\n",
    "axs[0].hist(h1_w.flatten(), 50)\n",
    "axs[0].set_title('First hidden layer weights')\n",
    "axs[1].hist(h2_w.flatten(), 50)\n",
    "axs[1].set_title('Second hidden layer weights')\n",
    "axs[2].hist(out_w.flatten(), 50)\n",
    "axs[2].set_title('Output layer weights')\n",
    "[ax.grid() for ax in axs]\n",
    "plt.tight_layout()\n",
    "plt.savefig(\"models/\"+save_name+\"_Weights-histogram\", dpi=400)\n",
    "plt.show()"
   ]
  },
  {
   "cell_type": "markdown",
   "metadata": {},
   "source": [
    "#### 7.1.2) Convolution network"
   ]
  },
  {
   "cell_type": "code",
   "execution_count": 25,
   "metadata": {},
   "outputs": [],
   "source": [
    "#Access network parameters\n",
    "my_best_net = net.module_\n",
    "\n",
    "# Conv 1 layer\n",
    "c1_w = my_best_net.conv1.weight.data.cpu().numpy()\n",
    "c1_b = my_best_net.conv1.bias.data.cpu().numpy()\n",
    "\n",
    "# Conv 2 layer\n",
    "c2_w = my_best_net.conv2.weight.data.cpu().numpy()\n",
    "c2_b = my_best_net.conv2.bias.data.cpu().numpy()\n",
    "\n",
    "#First hidden Layer\n",
    "h1_w = my_best_net.fc1.weight.data.cpu().numpy()\n",
    "h1_b = my_best_net.fc1.bias.data.cpu().numpy()\n",
    "\n",
    "#Second hidden Layer\n",
    "h2_w = my_best_net.fc2.weight.data.cpu().numpy()\n",
    "h2_b = my_best_net.fc2.bias.data.cpu().numpy()"
   ]
  },
  {
   "cell_type": "code",
   "execution_count": 26,
   "metadata": {},
   "outputs": [
    {
     "data": {
      "image/png": "[encoded data removed]",
      "text/plain": [
       "<Figure size 864x576 with 4 Axes>"
      ]
     },
     "metadata": {
      "needs_background": "light"
     },
     "output_type": "display_data"
    }
   ],
   "source": [
    "# Weights histogram\n",
    "fig, axs = plt.subplots(4, 1, figsize=(12,8))\n",
    "axs[0].hist(c1_w.flatten(), 50)\n",
    "axs[0].set_title('Conv1 layer weights')\n",
    "axs[1].hist(c2_w.flatten(), 50)\n",
    "axs[1].set_title('Conv2 layer weights')\n",
    "axs[2].hist(h1_w.flatten(), 50)\n",
    "axs[2].set_title('First FC layer weights')\n",
    "axs[3].hist(h2_w.flatten(), 50)\n",
    "axs[3].set_title('Second FC layer weights')\n",
    "\n",
    "[ax.grid() for ax in axs]\n",
    "plt.tight_layout()\n",
    "plt.savefig(\"models/\"+save_name+\"_Weights-histogram\", dpi=400)\n",
    "plt.show()"
   ]
  },
  {
   "cell_type": "markdown",
   "metadata": {},
   "source": [
    "### 7.2) Analyze activations"
   ]
  },
  {
   "cell_type": "markdown",
   "metadata": {},
   "source": [
    "#### 7.2.1) Fully connected"
   ]
  },
  {
   "cell_type": "code",
   "execution_count": null,
   "metadata": {},
   "outputs": [],
   "source": [
    "#Same for CNN"
   ]
  },
  {
   "cell_type": "markdown",
   "metadata": {},
   "source": [
    "#### 7.2.2) Convolution Network"
   ]
  },
  {
   "cell_type": "code",
   "execution_count": 30,
   "metadata": {},
   "outputs": [
    {
     "data": {
      "image/png": "[encoded data removed]",
      "text/plain": [
       "<Figure size 864x432 with 3 Axes>"
      ]
     },
     "metadata": {
      "needs_background": "light"
     },
     "output_type": "display_data"
    }
   ],
   "source": [
    "def get_activation(layer, input, output):\n",
    "    global activation\n",
    "    #activation = torch.softmax(output)\n",
    "    activation = torch.relu(output)\n",
    "    \n",
    "### Register hook\n",
    "net=my_best_net\n",
    "hook_handle = net.fc1.register_forward_hook(get_activation)\n",
    "\n",
    "\n",
    "### Analyze activations\n",
    "net = net.to(device)\n",
    "net.eval()\n",
    "with torch.no_grad():\n",
    "    x1 = torch.tensor(X_train[0]).unsqueeze(0).to(device)\n",
    "    y1 = net(x1)\n",
    "    z1 = activation\n",
    "    x2 = torch.tensor(X_train[1]).unsqueeze(0).to(device)\n",
    "    y2 = net(x2)\n",
    "    z2 = activation\n",
    "    x3 = torch.tensor(X_train[2]).unsqueeze(0).to(device)\n",
    "    y3 = net(x3)\n",
    "    z3 = activation\n",
    "\n",
    "### Remove hook\n",
    "hook_handle.remove()\n",
    "\n",
    "### Plot activations\n",
    "fig, axs = plt.subplots(3, 1, figsize=(12,6))\n",
    "axs[0].stem(z1.cpu().numpy()[0], use_line_collection=True)\n",
    "axs[0].set_title('FC1 activations for input x=%.2f' % y_train[0])\n",
    "axs[1].stem(z2.cpu().numpy()[0], use_line_collection=True)\n",
    "axs[1].set_title('FC1 activations for input x=%.2f' % y_train[1])\n",
    "axs[2].stem(z3.cpu().numpy()[0], use_line_collection=True)\n",
    "axs[2].set_title('FC1 activations for input x=%.2f' % y_train[2])\n",
    "plt.tight_layout()\n",
    "plt.savefig(\"models/\"+save_name+\"_Activations\", dpi=400)\n",
    "plt.show()"
   ]
  },
  {
   "cell_type": "markdown",
   "metadata": {},
   "source": [
    "### 7.3) Receptive fields"
   ]
  },
  {
   "cell_type": "markdown",
   "metadata": {},
   "source": [
    "#### 7.3.1) Fully Connected"
   ]
  },
  {
   "cell_type": "code",
   "execution_count": null,
   "metadata": {},
   "outputs": [],
   "source": [
    "#FULLY CONNECTED NET\n",
    "#Receptive fields of the last layer\n",
    "for ii in range(10):\n",
    "    vis3 = np.matmul(out_w[ii],np.matmul(h2_w,h1_w))\n",
    "    print(\"\\nLabel:\", ii)\n",
    "    plt.imshow(vis3.reshape(784).reshape(28,28),cmap='Greys')\n",
    "    plt.savefig(\"models/\"+save_name+\"_Receptive fields_\"+str(ii), dpi=400)\n",
    "    plt.show()"
   ]
  },
  {
   "cell_type": "markdown",
   "metadata": {},
   "source": [
    "#### 7.3.2) Convolution Network"
   ]
  },
  {
   "cell_type": "code",
   "execution_count": 31,
   "metadata": {},
   "outputs": [],
   "source": [
    "def visualize_receptive_field(image):\n",
    "    input = torch.ones_like(image, requires_grad=True)\n",
    "    out = net(input)\n",
    "    sig = nn.Sigmoid()\n",
    "    \n",
    "    prediction = torch.argmax(sig(net(image)), dim=1) #prediction of the true image\n",
    "    #print(sig(out))\n",
    "\n",
    "    grad = torch.zeros_like(out, requires_grad=True)\n",
    "    grad[0][prediction] = 1\n",
    "    #print(grad)\n",
    "\n",
    "    out.backward(gradient=grad)\n",
    "    gradient_of_input = input.grad[0, 0].data.cpu().numpy()\n",
    "    gradient_of_input = gradient_of_input / np.amax(gradient_of_input)\n",
    "\n",
    "    def normalize(activations):\n",
    "        # transform activations so that all the values be in range [0, 1]\n",
    "        activations = activations - np.min(activations[:])\n",
    "        activations = activations / np.max(activations[:])\n",
    "        return activations\n",
    "\n",
    "\n",
    "    def visualize_activations(image, activations):\n",
    "        activations = normalize(activations)\n",
    "\n",
    "        # replicate the activations to go from 1 channel to 3\n",
    "        # as we have colorful input image\n",
    "        # we could use cvtColor with GRAY2BGR flag here, but it is not\n",
    "        # safe - our values are floats, but cvtColor expects 8-bit or\n",
    "        # 16-bit inttegers\n",
    "        masked_image = (image * activations)\n",
    "\n",
    "        return masked_image\n",
    "\n",
    "\n",
    "    receptive_field_mask = visualize_activations(image.cpu().numpy(), gradient_of_input)\n",
    "    plt.imshow(receptive_field_mask[0][0], cmap='Greys')\n",
    "    plt.show()\n",
    "    #return receptive_field_mask[0][0]\n",
    "    \n",
    "    "
   ]
  },
  {
   "cell_type": "code",
   "execution_count": 32,
   "metadata": {},
   "outputs": [
    {
     "data": {
      "image/png": "[encoded data removed]",
      "text/plain": [
       "<Figure size 432x288 with 1 Axes>"
      ]
     },
     "metadata": {
      "needs_background": "light"
     },
     "output_type": "display_data"
    },
    {
     "data": {
      "image/png": "[encoded data removed]",
      "text/plain": [
       "<Figure size 432x288 with 1 Axes>"
      ]
     },
     "metadata": {
      "needs_background": "light"
     },
     "output_type": "display_data"
    },
    {
     "data": {
      "image/png": "[encoded data removed]",
      "text/plain": [
       "<Figure size 432x288 with 1 Axes>"
      ]
     },
     "metadata": {
      "needs_background": "light"
     },
     "output_type": "display_data"
    }
   ],
   "source": [
    "visualize_receptive_field(x1)\n",
    "visualize_receptive_field(x2)\n",
    "visualize_receptive_field(x3)"
   ]
  },
  {
   "cell_type": "markdown",
   "metadata": {},
   "source": [
    "### 7.4) Filters and Festure Maps"
   ]
  },
  {
   "cell_type": "code",
   "execution_count": 36,
   "metadata": {},
   "outputs": [
    {
     "data": {
      "image/png": "[encoded data removed]",
      "text/plain": [
       "<Figure size 1080x360 with 8 Axes>"
      ]
     },
     "metadata": {},
     "output_type": "display_data"
    },
    {
     "data": {
      "image/png": "[encoded data removed]",
      "text/plain": [
       "<Figure size 1080x360 with 8 Axes>"
      ]
     },
     "metadata": {},
     "output_type": "display_data"
    }
   ],
   "source": [
    "#first we collect the filters of the first convolutional layer \n",
    "#these are 8 as the number of neurons of the layer\n",
    "filters_1 = my_best_net.conv1.weight\n",
    "filters_1 = torch.squeeze(filters_1,1)\n",
    "\n",
    "filters_1  = filters_1.cpu().detach().numpy()\n",
    "\n",
    "features = []\n",
    "input = torch.tensor(X_train[0]).unsqueeze(0).to(device)\n",
    "\n",
    "#define a funcion that return the squeezed output of the called layer\n",
    "def get_features_map(self, input, output):\n",
    "    features.append(output.squeeze(0))\n",
    "\n",
    "#used the method register_forward_hook to get the features maps\n",
    "hook_handle = my_best_net.conv1.register_forward_hook(get_features_map)\n",
    "my_best_net.eval()\n",
    "with torch.no_grad():\n",
    "    out = my_best_net(input)\n",
    "### Remove hook\n",
    "hook_handle.remove()\n",
    "\n",
    "#plot the filters and their relative feature maps for the first sample of the test_dataset\n",
    "plt.figure(figsize=(15,5))\n",
    "for i in range(1, 9):\n",
    "    plt.subplot(2,4,i)\n",
    "    plt.xticks([])\n",
    "    plt.yticks([])\n",
    "    plt.grid(False)\n",
    "    plt.imshow(filters_1[i-1], cmap='gray')\n",
    "plt.suptitle('Filters of the first convolutional layer') \n",
    "plt.savefig(\"models/\"+save_name+\"_Filters\", dpi=400)\n",
    "\n",
    "act = nn.ReLU()\n",
    "\n",
    "plt.figure(figsize=(15,5))\n",
    "for i in range(1, 9):\n",
    "    plt.subplot(2,4,i)\n",
    "    plt.xticks([])\n",
    "    plt.yticks([])\n",
    "    plt.grid(False)\n",
    "    plt.imshow(act(features[0][i-1]).cpu().detach().numpy(), cmap='gray')\n",
    "plt.suptitle('\\n Feature maps of the first convolutional layer')\n",
    "plt.savefig(\"models/\"+save_name+\"_FeatureMaps\", dpi=400)\n",
    "plt.show()"
   ]
  },
  {
   "cell_type": "code",
   "execution_count": null,
   "metadata": {},
   "outputs": [],
   "source": []
  },
  {
   "cell_type": "code",
   "execution_count": null,
   "metadata": {},
   "outputs": [],
   "source": []
  },
  {
   "cell_type": "code",
   "execution_count": null,
   "metadata": {},
   "outputs": [],
   "source": []
  },
  {
   "cell_type": "code",
   "execution_count": null,
   "metadata": {},
   "outputs": [],
   "source": []
  },
  {
   "cell_type": "code",
   "execution_count": null,
   "metadata": {},
   "outputs": [],
   "source": []
  }
 ],
 "metadata": {
  "kernelspec": {
   "display_name": "gputest",
   "language": "python",
   "name": "gputest"
  },
  "language_info": {
   "codemirror_mode": {
    "name": "ipython",
    "version": 3
   },
   "file_extension": ".py",
   "mimetype": "text/x-python",
   "name": "python",
   "nbconvert_exporter": "python",
   "pygments_lexer": "ipython3",
   "version": "3.7.7"
  }
 },
 "nbformat": 4,
 "nbformat_minor": 4
}
