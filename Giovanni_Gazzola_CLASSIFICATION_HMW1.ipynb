{
 "cells": [
  {
   "cell_type": "markdown",
   "metadata": {
    "id": "PtYTfkNutPYU"
   },
   "source": [
    "# NEURAL NETWORKS AND DEEP LEARNING\n",
    "# HOMEWORK 1\n",
    "\n",
    "**Giovanni Gazzola** <br>\n",
    "**mtr:1227160**"
   ]
  },
  {
   "cell_type": "markdown",
   "metadata": {
    "id": "H9wsJJz3tTY_"
   },
   "source": [
    "## Libraries"
   ]
  },
  {
   "cell_type": "code",
   "execution_count": null,
   "metadata": {
    "id": "84s-mpL8tQiB"
   },
   "outputs": [],
   "source": [
    "import numpy as np\n",
    "import csv\n",
    "import matplotlib.pyplot as plt\n",
    "import pandas as pd\n",
    "from sklearn.metrics import confusion_matrix\n",
    "import seaborn as sas\n",
    "\n",
    "import torch\n",
    "import torchvision\n",
    "import torch.nn as nn\n",
    "import torch.optim as optim\n",
    "from torch.utils.data import Dataset, DataLoader\n",
    "from torchvision import transforms\n",
    "\n"
   ]
  },
  {
   "cell_type": "code",
   "execution_count": null,
   "metadata": {
    "id": "iTqz1lGKtaMm"
   },
   "outputs": [],
   "source": [
    "import os\n",
    "os.environ['CUDA_LAUNCH_BLOCKING'] = '1'"
   ]
  },
  {
   "cell_type": "code",
   "execution_count": null,
   "metadata": {
    "id": "VqVTllXOtaWX"
   },
   "outputs": [],
   "source": [
    "#set random seeds\n",
    "torch.manual_seed(1227160)\n",
    "np.random.seed(1227160)"
   ]
  },
  {
   "cell_type": "markdown",
   "metadata": {
    "id": "af3lfv3MtgeD"
   },
   "source": [
    "# Classification task\n"
   ]
  },
  {
   "cell_type": "markdown",
   "metadata": {
    "id": "p37QMpJytgpo"
   },
   "source": [
    "##Dataset"
   ]
  },
  {
   "cell_type": "code",
   "execution_count": null,
   "metadata": {
    "id": "ONjbkUcttjqU"
   },
   "outputs": [],
   "source": [
    "#download the dataset\n",
    "train_dataset = torchvision.datasets.MNIST('classifier_data', train=True, download=True)\n",
    "test_dataset  = torchvision.datasets.MNIST('classifier_data', train=False, download=True)"
   ]
  },
  {
   "cell_type": "code",
   "execution_count": null,
   "metadata": {
    "id": "x98BnIEhuDoa"
   },
   "outputs": [],
   "source": [
    "#define the class CsvDataset to get the datasets \n",
    "class CsvDataset(Dataset):\n",
    "\n",
    "  def __init__(self, file_name = None, transform=None):\n",
    "    \n",
    "    self.transform = transform\n",
    "    # creation of DataFrames containing the whole dataset split in train and test\n",
    "    if file_name == None:\n",
    "      self.data = pd.DataFrame()\n",
    "    else:\n",
    "      self.data = pd.DataFrame(file_name)\n",
    "      self.data.rename(columns={ self.data.columns[-1]: \"Label\" }, inplace = True)\n",
    "\n",
    "  def __len__(self):\n",
    "    # return the rows of the dataset\n",
    "    return self.data.shape[0]\n",
    "\n",
    "  def __getitem__(self, index):\n",
    "    # return the specified row sample\n",
    "    sample = np.array(self.data.iloc[index])\n",
    "    \n",
    "    if self.transform:\n",
    "        sample = self.transform(sample)\n",
    "    return sample"
   ]
  },
  {
   "cell_type": "code",
   "execution_count": null,
   "metadata": {
    "colab": {
     "base_uri": "https://localhost:8080/",
     "height": 368
    },
    "id": "xYhTvc59xGKD",
    "outputId": "1c9ccca0-b503-4063-b68d-339d0aafc3f7"
   },
   "outputs": [
    {
     "name": "stdout",
     "output_type": "stream",
     "text": [
      "Shape of the train set:  (60000, 785)\n",
      "Shape of the test set:  (10000, 785) \n",
      "\n",
      "\n"
     ]
    },
    {
     "data": {
      "image/png": "[encoded data removed]",
      "text/plain": [
       "<Figure size 720x360 with 5 Axes>"
      ]
     },
     "metadata": {
      "tags": []
     },
     "output_type": "display_data"
    },
    {
     "data": {
      "image/png": "[encoded data removed]",
      "text/plain": [
       "<Figure size 720x360 with 5 Axes>"
      ]
     },
     "metadata": {
      "tags": []
     },
     "output_type": "display_data"
    }
   ],
   "source": [
    "#store all the images as a single array with size = (1,width*height)\n",
    "#the last element of the array will be the label relative to that image\n",
    "all_training_sample = []\n",
    "all_test_sample = []\n",
    "width = train_dataset[0][0].size[0]\n",
    "heigth = train_dataset[0][0].size[1]\n",
    "\n",
    "for item in train_dataset:\n",
    "  image = np.array(item[0]).reshape(1,width*heigth)/255\n",
    "  all_training_sample.append(np.append(image[0],item[1]))\n",
    "\n",
    "for item in test_dataset:\n",
    "  image = np.array(item[0]).reshape(1,width*heigth)/255\n",
    "  all_test_sample.append(np.append(image[0],item[1]))\n",
    "\n",
    "# creation of CsvDataset objects containing DataFrames for both train and test datasets\n",
    "df_train = CsvDataset(all_training_sample)\n",
    "df_test = CsvDataset(all_test_sample)\n",
    "\n",
    "#display the shape of both sets\n",
    "print(\"Shape of the train set: \", df_train.data.shape)\n",
    "print(\"Shape of the test set: \", df_test.data.shape,\"\\n\\n\")\n",
    "\n",
    "#display some samples of the training and test sets\n",
    "plt.figure(figsize=(10,5))\n",
    "\n",
    "for i in range(1, 6):\n",
    "    plt.subplot(2,5,i)\n",
    "    plt.xticks([])\n",
    "    plt.yticks([])\n",
    "    plt.title(\"Train sample\")\n",
    "    \n",
    "\n",
    "    label = df_train.__getitem__(i-1)[width*heigth]\n",
    "    plt.imshow(df_train.__getitem__(i-1)[0:width*heigth].reshape((width, heigth)), cmap='gray')\n",
    "    plt.xlabel(label)\n",
    "\n",
    "plt.figure(figsize=(10,5))\n",
    "\n",
    "for i in range(1, 6):\n",
    "    plt.subplot(2,5,i)\n",
    "    plt.xticks([])\n",
    "    plt.yticks([])\n",
    "    plt.title(\"Test sample\")\n",
    "    \n",
    "\n",
    "    label = df_test.__getitem__(i-1)[width*heigth]\n",
    "    plt.imshow(df_test.__getitem__(i-1)[0:width*heigth].reshape((width, heigth)), cmap='gray')\n",
    "    plt.xlabel(label)\n"
   ]
  },
  {
   "cell_type": "markdown",
   "metadata": {
    "id": "qKC_o-a9Dr62"
   },
   "source": [
    "##Transform"
   ]
  },
  {
   "cell_type": "code",
   "execution_count": null,
   "metadata": {
    "id": "W3U2fwOqzUKw"
   },
   "outputs": [],
   "source": [
    "#create a class to convert sample to Tensors\n",
    "class ToTensor_conv(object):\n",
    "    #Convert sample to Tensors\n",
    "    def __call__(self, sample):\n",
    "        #return the values of the images normalized and of type Float\n",
    "        x = sample[0:sample.size-1]\n",
    "        x = torch.tensor(np.array(x).reshape(width,heigth)).float() \n",
    "\n",
    "        #return the label for each image of type Long\n",
    "        y =  torch.tensor(sample[sample.size-1]).long()     \n",
    "        \n",
    "        return (x,y)\n",
    "\n",
    "\n",
    "class ToTensor_linear(object):\n",
    "    #Convert sample to Tensors\n",
    "    def __call__(self, sample):\n",
    "        x = sample[0:sample.size-1]\n",
    "        x = torch.tensor(x).float() \n",
    "        y =  torch.tensor(sample[sample.size-1]).long() \n",
    "\n",
    "        return (x,y)\n"
   ]
  },
  {
   "cell_type": "code",
   "execution_count": null,
   "metadata": {
    "id": "khlji5y92n8O"
   },
   "outputs": [],
   "source": [
    "#apply the transformation over the samples of both the datasets\n",
    "#first for CNNs\n",
    "composed_transform = transforms.Compose([ToTensor_conv()])\n",
    "#then for FFNN\n",
    "composed_transform_linear = transforms.Compose([ToTensor_linear()])\n",
    "\n",
    "#get the transformed dataset for FCNN\n",
    "train_dataset_linear = CsvDataset(all_training_sample, transform=composed_transform_linear)\n",
    "\n",
    "#get the transformed dataset for CNNs\n",
    "train_dataset = CsvDataset(all_training_sample, transform=composed_transform)\n",
    "test_dataset = CsvDataset(all_test_sample, transform=composed_transform)"
   ]
  },
  {
   "cell_type": "markdown",
   "metadata": {
    "id": "1GgIE0MEGi2Y"
   },
   "source": [
    "##Validation set and DataLoader\n",
    "\n",
    "Split the training set into training set and validation set.\n",
    "The validation set is choose to be 20% of the entire training set after shuffling it."
   ]
  },
  {
   "cell_type": "code",
   "execution_count": null,
   "metadata": {
    "colab": {
     "base_uri": "https://localhost:8080/"
    },
    "id": "EwXHFeQF3-DW",
    "outputId": "1e0021d5-0fbf-40c7-99f5-10fe3ac4e3c9"
   },
   "outputs": [
    {
     "name": "stdout",
     "output_type": "stream",
     "text": [
      "Shape of the training set without the validation set:  (48000, 785)\n",
      "Shape of the validation set:  (12000, 785)\n"
     ]
    }
   ],
   "source": [
    "alpha = 0.2\n",
    "m_training = train_dataset.__len__()\n",
    "\n",
    "#shuffle the training set\n",
    "train_dataset.data = train_dataset.data.sample(frac=1).reset_index(drop=True)\n",
    "\n",
    "#split the training set into training set and validation set\n",
    "size_val = int(alpha*m_training)\n",
    "size_tr = int(m_training - size_val)\n",
    "\n",
    "#initialize the new CsvDataset empty objects\n",
    "tr_dataset = CsvDataset(transform=composed_transform)\n",
    "val_dataset = CsvDataset(transform=composed_transform)\n",
    "\n",
    "#split\n",
    "tr_dataset.data = train_dataset.data[0:size_tr]\n",
    "val_dataset.data = train_dataset.data[m_training-size_val:m_training]\n",
    "\n",
    "print(\"Shape of the training set without the validation set: \", tr_dataset.data.shape)\n",
    "print(\"Shape of the validation set: \", val_dataset.data.shape)\n",
    "\n",
    "#repeat the procedure for the linear model\n",
    "tr_dataset_linear = CsvDataset(transform=composed_transform_linear)\n",
    "val_dataset_linear = CsvDataset(transform=composed_transform_linear)\n",
    "\n",
    "tr_dataset_linear.data = train_dataset_linear.data[0:size_tr]\n",
    "val_dataset_linear.data = train_dataset_linear.data[m_training-size_val:m_training]"
   ]
  },
  {
   "cell_type": "markdown",
   "metadata": {
    "id": "qs8JkPNlHECe"
   },
   "source": [
    "Create the DataLoader:\n",
    "\n",
    "\n",
    "*   defined batch size\n",
    "*   defined if shuffle the data"
   ]
  },
  {
   "cell_type": "code",
   "execution_count": null,
   "metadata": {
    "id": "z-P1194X2oaR"
   },
   "outputs": [],
   "source": [
    "#for CNNs\n",
    "train_dataloader = DataLoader(tr_dataset, batch_size=2000, shuffle=True, num_workers=0)\n",
    "val_dataloader  = DataLoader(val_dataset,  batch_size=val_dataset.__len__(), shuffle=False, num_workers=0)"
   ]
  },
  {
   "cell_type": "code",
   "execution_count": null,
   "metadata": {
    "id": "4AhzA-X_Y0Zv"
   },
   "outputs": [],
   "source": [
    "#for FCNN\n",
    "train_dataloader_linear = DataLoader(tr_dataset_linear, batch_size=2000, shuffle=True, num_workers=0)\n",
    "val_dataloader_linear  = DataLoader(val_dataset_linear,  batch_size=val_dataset_linear.__len__(), shuffle=False, num_workers=0)"
   ]
  },
  {
   "cell_type": "markdown",
   "metadata": {
    "id": "OtyBnHwxHMGR"
   },
   "source": [
    "## Networks Definition and Comparison"
   ]
  },
  {
   "cell_type": "markdown",
   "metadata": {
    "id": "q6EHR9sWmiTU"
   },
   "source": [
    "### Models with different architecture"
   ]
  },
  {
   "cell_type": "code",
   "execution_count": null,
   "metadata": {
    "id": "AL_m3yu0Fxph"
   },
   "outputs": [],
   "source": [
    "#class for Fully Connected Neural Network\n",
    "class Net_linear(nn.Module):\n",
    "  def __init__(self, Ni, Nh1, Nh2, No):\n",
    "        \"\"\"\n",
    "        Ni - Input size\n",
    "        Nh1 - Neurons in the 1st hidden layer\n",
    "        Nh2 - Neurons in the 2nd hidden layer\n",
    "        No - Output size\n",
    "        \"\"\"\n",
    "        super().__init__()\n",
    "        \n",
    "        print('Network initialized')\n",
    "        self.fc1 = nn.Linear(in_features=Ni, out_features=Nh1)\n",
    "        self.fc2 = nn.Linear(in_features=Nh1, out_features=Nh2)\n",
    "        self.out = nn.Linear(in_features=Nh2, out_features=No)\n",
    "        self.act = nn.ReLU()\n",
    "        \n",
    "  def forward(self, x, additional_out=False):\n",
    "        x = self.act(self.fc1(x))\n",
    "        x = self.act(self.fc2(x))\n",
    "        x = self.out(x)\n",
    "        return x\n",
    "\n",
    "#class for convolutional network with dropout layers\n",
    "class Net(nn.Module):\n",
    "  def __init__(self, Ni, Nh1, Nh2, Nl1, Nl2, No):\n",
    "        \"\"\"\n",
    "        Ni - Input size\n",
    "        Nh1 - Neurons in the 1st convolutional layer\n",
    "        Nl1 - Neurons in the 1st linear layer\n",
    "        Nl2 - Neurons in the 2nd linear layer\n",
    "        No - Output size\n",
    "        \"\"\"\n",
    "        super().__init__()\n",
    "        \n",
    "        print('Network initialized')\n",
    "        self.fc1 = nn.Conv2d(Ni, Nh1, 5, padding = 2)\n",
    "        self.max1 = nn.MaxPool2d(2, padding = 1)\n",
    "        self.drop1 = nn.Dropout(0.5)\n",
    "        self.fc2 = nn.Conv2d(Nh1, Nh2, 3, padding = 1)\n",
    "        self.max2 = nn.MaxPool2d(2, padding = 1)\n",
    "        self.drop2 = nn.Dropout(0.5)\n",
    "        self.fc3 = nn.Flatten()\n",
    "        self.fc4 = nn.Linear(in_features=Nl1, out_features=Nl2)\n",
    "        self.out = nn.Linear(in_features=Nl2, out_features=No)\n",
    "        self.act = nn.ReLU()\n",
    "        \n",
    "  def forward(self, x, additional_out=False):\n",
    "        x = self.act(self.fc1(x))\n",
    "        #print(x.shape)\n",
    "        x = self.max1(x)\n",
    "        x = self.drop1(x)\n",
    "        #print(x.shape)\n",
    "        x = self.act(self.fc2(x))\n",
    "        x = self.max2(x)\n",
    "        x = self.drop2(x)\n",
    "        #print(x.shape)\n",
    "        x = self.act(self.fc3(x))\n",
    "        #print(x.shape)\n",
    "        x = self.act(self.fc4(x))\n",
    "        x = self.out(x)\n",
    "        return x\n",
    "\n",
    "#class for convolutional network without dropout layers\n",
    "class Net_no_drop(nn.Module):\n",
    "  def __init__(self, Ni, Nh1, Nh2, Nl1, Nl2, No):\n",
    "        \"\"\"\n",
    "        Ni - Input size\n",
    "        Nh1 - Neurons in the 1st convolutional layer \n",
    "        Nl1 - Neurons in the 1st linear layer\n",
    "        Nl2 - Neurons in the 2nd linear layer\n",
    "        No - Output size\n",
    "        \"\"\"\n",
    "        super().__init__()\n",
    "        \n",
    "        print('Network initialized')\n",
    "        self.fc1 = nn.Conv2d(Ni, Nh1, 5, padding = 1)\n",
    "        self.max1 = nn.MaxPool2d(2, padding = 1)\n",
    "        self.fc2 = nn.Conv2d(Nh1, Nh2, 3, padding = 1)\n",
    "        self.max2 = nn.MaxPool2d(2, padding = 1)\n",
    "        self.fc3 = nn.Flatten()\n",
    "        self.fc4 = nn.Linear(in_features=Nl1, out_features=Nl2)\n",
    "        self.out = nn.Linear(in_features=Nl2, out_features=No)\n",
    "        self.act = nn.ReLU()\n",
    "        \n",
    "  def forward(self, x, additional_out=False):\n",
    "        x = self.act(self.fc1(x))\n",
    "        #print(x.shape)\n",
    "        x = self.max1(x)\n",
    "        x = self.act(self.fc2(x))\n",
    "        x = self.max2(x)\n",
    "        #print(x.shape)\n",
    "        x = self.act(self.fc3(x))\n",
    "        #print(x.shape)\n",
    "        x = self.act(self.fc4(x))\n",
    "        x = self.out(x)\n",
    "        return x"
   ]
  },
  {
   "cell_type": "code",
   "execution_count": null,
   "metadata": {
    "colab": {
     "base_uri": "https://localhost:8080/"
    },
    "id": "nBEF30xZGJWK",
    "outputId": "e1a2ae57-98d7-48c8-8429-044681712b58"
   },
   "outputs": [
    {
     "name": "stdout",
     "output_type": "stream",
     "text": [
      "Network initialized\n",
      "Network initialized\n",
      "Network initialized\n",
      "Training device: cuda\n"
     ]
    }
   ],
   "source": [
    "#initialize FCNN network\n",
    "Ni = width*heigth\n",
    "Nh1 = 64\n",
    "Nh2 = 128\n",
    "No = 10\n",
    "\n",
    "linear = Net_linear(Ni, Nh1, Nh2, No)\n",
    "\n",
    "#initialize CNN networks\n",
    "Ni = 1\n",
    "Nh1 = 8\n",
    "Nh2 = 16\n",
    "Nl1 = Nh2*8*8 \n",
    "Nl2 = 64\n",
    "No = 10\n",
    "\n",
    "conv_drop = Net(Ni, Nh1, Nh2, Nl1, Nl2, No)\n",
    "conv_no_drop = Net_no_drop(Ni, Nh1, Nh2, Nl1, Nl2, No)\n",
    "\n",
    "# Check if the GPU is available\n",
    "device = torch.device(\"cuda\") if torch.cuda.is_available() else torch.device(\"cpu\")\n",
    "print(f\"Training device: {device}\")\n",
    "\n",
    "linear.to(device)\n",
    "conv_drop.to(device)\n",
    "conv_no_drop.to(device)\n",
    "\n",
    "# Define the loss function\n",
    "loss_fn = nn.CrossEntropyLoss()\n",
    "\n",
    "# Define the optimizer\n",
    "optimizer_linear =  optim.Adam(linear.parameters(), lr=1e-3)\n",
    "optimizer_conv_drop = optim.Adam(conv_drop.parameters(), lr=1e-3)\n",
    "optimizer_conv_no_drop = optim.Adam(conv_no_drop.parameters(), lr=1e-3)\n",
    "\n",
    "#create a list which elements point to one of the network created\n",
    "networks = [linear, conv_drop, conv_no_drop]\n",
    "\n",
    "#create a list containing the optimizer for each model\n",
    "optimizers = [optimizer_linear, optimizer_conv_drop, optimizer_conv_no_drop]"
   ]
  },
  {
   "cell_type": "code",
   "execution_count": null,
   "metadata": {
    "colab": {
     "base_uri": "https://localhost:8080/"
    },
    "id": "PeaqRr59Neex",
    "outputId": "e168ff79-fb48-4a9c-f7bc-6d40b5d0e39d"
   },
   "outputs": [
    {
     "name": "stdout",
     "output_type": "stream",
     "text": [
      "MODEL 1 \n",
      "\n",
      "Epoch 1 = Average train loss:[ 1.9060684 ]  Accuracy train:[ 0.54944 ]  Average validation loss: [ 1.200346 ] Accuracy validation:[ 0.79208 ]\n",
      "Epoch 2 = Average train loss:[ 0.74599546 ]  Accuracy train:[ 0.82996 ]  Average validation loss: [ 0.43400443 ] Accuracy validation:[ 0.88158 ]\n",
      "Epoch 3 = Average train loss:[ 0.3912997 ]  Accuracy train:[ 0.89044 ]  Average validation loss: [ 0.31647676 ] Accuracy validation:[ 0.90992 ]\n",
      "Epoch 4 = Average train loss:[ 0.3146828 ]  Accuracy train:[ 0.91042 ]  Average validation loss: [ 0.27526593 ] Accuracy validation:[ 0.9225 ]\n",
      "Epoch 5 = Average train loss:[ 0.27783585 ]  Accuracy train:[ 0.92096 ]  Average validation loss: [ 0.25222456 ] Accuracy validation:[ 0.92767 ]\n",
      "Epoch 6 = Average train loss:[ 0.25174737 ]  Accuracy train:[ 0.92833 ]  Average validation loss: [ 0.23231645 ] Accuracy validation:[ 0.93358 ]\n",
      "Epoch 7 = Average train loss:[ 0.23257732 ]  Accuracy train:[ 0.93375 ]  Average validation loss: [ 0.21821539 ] Accuracy validation:[ 0.938 ]\n",
      "Epoch 8 = Average train loss:[ 0.2167343 ]  Accuracy train:[ 0.93792 ]  Average validation loss: [ 0.20394133 ] Accuracy validation:[ 0.94242 ]\n",
      "Epoch 9 = Average train loss:[ 0.20201533 ]  Accuracy train:[ 0.94246 ]  Average validation loss: [ 0.19480696 ] Accuracy validation:[ 0.94467 ]\n",
      "Epoch 10 = Average train loss:[ 0.19059335 ]  Accuracy train:[ 0.94571 ]  Average validation loss: [ 0.1852677 ] Accuracy validation:[ 0.948 ]\n",
      "Epoch 11 = Average train loss:[ 0.17914446 ]  Accuracy train:[ 0.94871 ]  Average validation loss: [ 0.17719665 ] Accuracy validation:[ 0.94908 ]\n",
      "Epoch 12 = Average train loss:[ 0.16988583 ]  Accuracy train:[ 0.95108 ]  Average validation loss: [ 0.1706247 ] Accuracy validation:[ 0.9505 ]\n",
      "Epoch 13 = Average train loss:[ 0.16008021 ]  Accuracy train:[ 0.95433 ]  Average validation loss: [ 0.16263793 ] Accuracy validation:[ 0.95317 ]\n",
      "Epoch 14 = Average train loss:[ 0.15192167 ]  Accuracy train:[ 0.95729 ]  Average validation loss: [ 0.1581954 ] Accuracy validation:[ 0.95392 ]\n",
      "Epoch 15 = Average train loss:[ 0.1437237 ]  Accuracy train:[ 0.95908 ]  Average validation loss: [ 0.15244164 ] Accuracy validation:[ 0.95625 ]\n",
      "Epoch 16 = Average train loss:[ 0.13708393 ]  Accuracy train:[ 0.96131 ]  Average validation loss: [ 0.15062802 ] Accuracy validation:[ 0.95775 ]\n",
      "Epoch 17 = Average train loss:[ 0.13045649 ]  Accuracy train:[ 0.96312 ]  Average validation loss: [ 0.14451595 ] Accuracy validation:[ 0.95808 ]\n",
      "Epoch 18 = Average train loss:[ 0.124466 ]  Accuracy train:[ 0.96458 ]  Average validation loss: [ 0.1390819 ] Accuracy validation:[ 0.96083 ]\n",
      "Epoch 19 = Average train loss:[ 0.11901012 ]  Accuracy train:[ 0.96654 ]  Average validation loss: [ 0.1369973 ] Accuracy validation:[ 0.96083 ]\n",
      "Epoch 20 = Average train loss:[ 0.11327956 ]  Accuracy train:[ 0.96769 ]  Average validation loss: [ 0.13363165 ] Accuracy validation:[ 0.96242 ]\n",
      "Epoch 21 = Average train loss:[ 0.10828427 ]  Accuracy train:[ 0.96952 ]  Average validation loss: [ 0.13169682 ] Accuracy validation:[ 0.96175 ]\n",
      "Epoch 22 = Average train loss:[ 0.10426277 ]  Accuracy train:[ 0.97046 ]  Average validation loss: [ 0.12852389 ] Accuracy validation:[ 0.96358 ]\n",
      "Epoch 23 = Average train loss:[ 0.09978116 ]  Accuracy train:[ 0.9715 ]  Average validation loss: [ 0.12607941 ] Accuracy validation:[ 0.96408 ]\n",
      "Epoch 24 = Average train loss:[ 0.09525305 ]  Accuracy train:[ 0.97344 ]  Average validation loss: [ 0.12254389 ] Accuracy validation:[ 0.96392 ]\n",
      "Epoch 25 = Average train loss:[ 0.09135425 ]  Accuracy train:[ 0.974 ]  Average validation loss: [ 0.1217697 ] Accuracy validation:[ 0.96375 ]\n",
      "Epoch 26 = Average train loss:[ 0.087860085 ]  Accuracy train:[ 0.97521 ]  Average validation loss: [ 0.119957715 ] Accuracy validation:[ 0.9655 ]\n",
      "Epoch 27 = Average train loss:[ 0.083687365 ]  Accuracy train:[ 0.97665 ]  Average validation loss: [ 0.11769365 ] Accuracy validation:[ 0.96608 ]\n",
      "Epoch 28 = Average train loss:[ 0.08071339 ]  Accuracy train:[ 0.97715 ]  Average validation loss: [ 0.11585116 ] Accuracy validation:[ 0.96625 ]\n",
      "Epoch 29 = Average train loss:[ 0.07789413 ]  Accuracy train:[ 0.97806 ]  Average validation loss: [ 0.11364383 ] Accuracy validation:[ 0.96725 ]\n",
      "Epoch 30 = Average train loss:[ 0.07461004 ]  Accuracy train:[ 0.97885 ]  Average validation loss: [ 0.113900006 ] Accuracy validation:[ 0.96683 ]\n",
      "Epoch 31 = Average train loss:[ 0.07181952 ]  Accuracy train:[ 0.97973 ]  Average validation loss: [ 0.11335147 ] Accuracy validation:[ 0.96725 ]\n",
      "Epoch 32 = Average train loss:[ 0.06779632 ]  Accuracy train:[ 0.98117 ]  Average validation loss: [ 0.1103999 ] Accuracy validation:[ 0.96775 ]\n",
      "Epoch 33 = Average train loss:[ 0.065391056 ]  Accuracy train:[ 0.98192 ]  Average validation loss: [ 0.11017654 ] Accuracy validation:[ 0.9675 ]\n",
      "Epoch 34 = Average train loss:[ 0.063797854 ]  Accuracy train:[ 0.98281 ]  Average validation loss: [ 0.111966714 ] Accuracy validation:[ 0.96708 ]\n",
      "Epoch 35 = Average train loss:[ 0.061331093 ]  Accuracy train:[ 0.98283 ]  Average validation loss: [ 0.10922544 ] Accuracy validation:[ 0.96825 ]\n",
      "\n",
      "\n",
      "MODEL 2 \n",
      "\n",
      "Epoch 1 = Average train loss:[ 1.9256588 ]  Accuracy train:[ 0.44215 ]  Average validation loss: [ 1.2473876 ] Accuracy validation:[ 0.72308 ]\n",
      "Epoch 2 = Average train loss:[ 0.94971323 ]  Accuracy train:[ 0.69475 ]  Average validation loss: [ 0.5602682 ] Accuracy validation:[ 0.846 ]\n",
      "Epoch 3 = Average train loss:[ 0.68524027 ]  Accuracy train:[ 0.77865 ]  Average validation loss: [ 0.4764825 ] Accuracy validation:[ 0.87217 ]\n",
      "Epoch 4 = Average train loss:[ 0.59577423 ]  Accuracy train:[ 0.81115 ]  Average validation loss: [ 0.40144637 ] Accuracy validation:[ 0.893 ]\n",
      "Epoch 5 = Average train loss:[ 0.5299422 ]  Accuracy train:[ 0.82992 ]  Average validation loss: [ 0.35616454 ] Accuracy validation:[ 0.90717 ]\n",
      "Epoch 6 = Average train loss:[ 0.47806224 ]  Accuracy train:[ 0.84817 ]  Average validation loss: [ 0.3117626 ] Accuracy validation:[ 0.91883 ]\n",
      "Epoch 7 = Average train loss:[ 0.43260577 ]  Accuracy train:[ 0.86479 ]  Average validation loss: [ 0.27319956 ] Accuracy validation:[ 0.92992 ]\n",
      "Epoch 8 = Average train loss:[ 0.39693233 ]  Accuracy train:[ 0.87483 ]  Average validation loss: [ 0.24162541 ] Accuracy validation:[ 0.938 ]\n",
      "Epoch 9 = Average train loss:[ 0.36173916 ]  Accuracy train:[ 0.88583 ]  Average validation loss: [ 0.21763612 ] Accuracy validation:[ 0.9435 ]\n",
      "Epoch 10 = Average train loss:[ 0.32993123 ]  Accuracy train:[ 0.89623 ]  Average validation loss: [ 0.19311947 ] Accuracy validation:[ 0.94817 ]\n",
      "Epoch 11 = Average train loss:[ 0.30837628 ]  Accuracy train:[ 0.90169 ]  Average validation loss: [ 0.17903689 ] Accuracy validation:[ 0.9525 ]\n",
      "Epoch 12 = Average train loss:[ 0.28964037 ]  Accuracy train:[ 0.90879 ]  Average validation loss: [ 0.1636113 ] Accuracy validation:[ 0.95492 ]\n",
      "Epoch 13 = Average train loss:[ 0.27098176 ]  Accuracy train:[ 0.91473 ]  Average validation loss: [ 0.15241176 ] Accuracy validation:[ 0.95742 ]\n",
      "Epoch 14 = Average train loss:[ 0.25080732 ]  Accuracy train:[ 0.92058 ]  Average validation loss: [ 0.14302127 ] Accuracy validation:[ 0.95908 ]\n",
      "Epoch 15 = Average train loss:[ 0.24195398 ]  Accuracy train:[ 0.92302 ]  Average validation loss: [ 0.13878125 ] Accuracy validation:[ 0.95942 ]\n",
      "Epoch 16 = Average train loss:[ 0.23656042 ]  Accuracy train:[ 0.92585 ]  Average validation loss: [ 0.12799487 ] Accuracy validation:[ 0.96375 ]\n",
      "Epoch 17 = Average train loss:[ 0.22401159 ]  Accuracy train:[ 0.92869 ]  Average validation loss: [ 0.12133912 ] Accuracy validation:[ 0.96483 ]\n",
      "Epoch 18 = Average train loss:[ 0.21624327 ]  Accuracy train:[ 0.93252 ]  Average validation loss: [ 0.11626487 ] Accuracy validation:[ 0.96625 ]\n",
      "Epoch 19 = Average train loss:[ 0.20931967 ]  Accuracy train:[ 0.93383 ]  Average validation loss: [ 0.113501936 ] Accuracy validation:[ 0.96575 ]\n",
      "Epoch 20 = Average train loss:[ 0.20201941 ]  Accuracy train:[ 0.93627 ]  Average validation loss: [ 0.10739505 ] Accuracy validation:[ 0.9685 ]\n",
      "Epoch 21 = Average train loss:[ 0.19461901 ]  Accuracy train:[ 0.9385 ]  Average validation loss: [ 0.10189724 ] Accuracy validation:[ 0.97025 ]\n",
      "Epoch 22 = Average train loss:[ 0.18889856 ]  Accuracy train:[ 0.94052 ]  Average validation loss: [ 0.09909426 ] Accuracy validation:[ 0.97042 ]\n",
      "Epoch 23 = Average train loss:[ 0.18265025 ]  Accuracy train:[ 0.94192 ]  Average validation loss: [ 0.096466236 ] Accuracy validation:[ 0.97067 ]\n",
      "Epoch 24 = Average train loss:[ 0.17818193 ]  Accuracy train:[ 0.94398 ]  Average validation loss: [ 0.09423055 ] Accuracy validation:[ 0.97117 ]\n",
      "Epoch 25 = Average train loss:[ 0.1768095 ]  Accuracy train:[ 0.94321 ]  Average validation loss: [ 0.091294594 ] Accuracy validation:[ 0.97158 ]\n",
      "Epoch 26 = Average train loss:[ 0.1732416 ]  Accuracy train:[ 0.94533 ]  Average validation loss: [ 0.09009916 ] Accuracy validation:[ 0.9725 ]\n",
      "Epoch 27 = Average train loss:[ 0.16605772 ]  Accuracy train:[ 0.94704 ]  Average validation loss: [ 0.08511977 ] Accuracy validation:[ 0.97358 ]\n",
      "Epoch 28 = Average train loss:[ 0.16429761 ]  Accuracy train:[ 0.94719 ]  Average validation loss: [ 0.08524468 ] Accuracy validation:[ 0.97367 ]\n",
      "Epoch 29 = Average train loss:[ 0.16015345 ]  Accuracy train:[ 0.94865 ]  Average validation loss: [ 0.082661174 ] Accuracy validation:[ 0.9755 ]\n",
      "Epoch 30 = Average train loss:[ 0.15657336 ]  Accuracy train:[ 0.95029 ]  Average validation loss: [ 0.08022792 ] Accuracy validation:[ 0.97508 ]\n",
      "Epoch 31 = Average train loss:[ 0.15107158 ]  Accuracy train:[ 0.95192 ]  Average validation loss: [ 0.07863498 ] Accuracy validation:[ 0.976 ]\n",
      "Epoch 32 = Average train loss:[ 0.15243776 ]  Accuracy train:[ 0.95194 ]  Average validation loss: [ 0.07756798 ] Accuracy validation:[ 0.97633 ]\n",
      "Epoch 33 = Average train loss:[ 0.14607312 ]  Accuracy train:[ 0.95329 ]  Average validation loss: [ 0.0760489 ] Accuracy validation:[ 0.97717 ]\n",
      "Epoch 34 = Average train loss:[ 0.14370988 ]  Accuracy train:[ 0.95462 ]  Average validation loss: [ 0.075293 ] Accuracy validation:[ 0.97658 ]\n",
      "Epoch 35 = Average train loss:[ 0.14214587 ]  Accuracy train:[ 0.95438 ]  Average validation loss: [ 0.07345175 ] Accuracy validation:[ 0.97867 ]\n",
      "Epoch 36 = Average train loss:[ 0.14395815 ]  Accuracy train:[ 0.95367 ]  Average validation loss: [ 0.07302305 ] Accuracy validation:[ 0.97733 ]\n",
      "Epoch 37 = Average train loss:[ 0.14003909 ]  Accuracy train:[ 0.95612 ]  Average validation loss: [ 0.07183093 ] Accuracy validation:[ 0.97817 ]\n",
      "Epoch 38 = Average train loss:[ 0.13788685 ]  Accuracy train:[ 0.95642 ]  Average validation loss: [ 0.071598954 ] Accuracy validation:[ 0.97742 ]\n",
      "Epoch 39 = Average train loss:[ 0.13624786 ]  Accuracy train:[ 0.95612 ]  Average validation loss: [ 0.07128561 ] Accuracy validation:[ 0.97758 ]\n",
      "Epoch 40 = Average train loss:[ 0.13246843 ]  Accuracy train:[ 0.95783 ]  Average validation loss: [ 0.06850264 ] Accuracy validation:[ 0.97883 ]\n",
      "Epoch 41 = Average train loss:[ 0.13080181 ]  Accuracy train:[ 0.95858 ]  Average validation loss: [ 0.06745718 ] Accuracy validation:[ 0.97925 ]\n",
      "Epoch 42 = Average train loss:[ 0.12840724 ]  Accuracy train:[ 0.95881 ]  Average validation loss: [ 0.065400556 ] Accuracy validation:[ 0.98075 ]\n",
      "Epoch 43 = Average train loss:[ 0.12644956 ]  Accuracy train:[ 0.95998 ]  Average validation loss: [ 0.06625409 ] Accuracy validation:[ 0.98008 ]\n",
      "Epoch 44 = Average train loss:[ 0.12495627 ]  Accuracy train:[ 0.95948 ]  Average validation loss: [ 0.06389981 ] Accuracy validation:[ 0.9805 ]\n",
      "Epoch 45 = Average train loss:[ 0.12778838 ]  Accuracy train:[ 0.95906 ]  Average validation loss: [ 0.06470497 ] Accuracy validation:[ 0.98108 ]\n",
      "Epoch 46 = Average train loss:[ 0.1250204 ]  Accuracy train:[ 0.96019 ]  Average validation loss: [ 0.06307895 ] Accuracy validation:[ 0.98208 ]\n",
      "Epoch 47 = Average train loss:[ 0.12392095 ]  Accuracy train:[ 0.96006 ]  Average validation loss: [ 0.06286824 ] Accuracy validation:[ 0.98117 ]\n",
      "Epoch 48 = Average train loss:[ 0.1222531 ]  Accuracy train:[ 0.96158 ]  Average validation loss: [ 0.061354548 ] Accuracy validation:[ 0.9815 ]\n",
      "Epoch 49 = Average train loss:[ 0.1205506 ]  Accuracy train:[ 0.96121 ]  Average validation loss: [ 0.06136699 ] Accuracy validation:[ 0.981 ]\n",
      "Epoch 50 = Average train loss:[ 0.11749127 ]  Accuracy train:[ 0.96212 ]  Average validation loss: [ 0.0608167 ] Accuracy validation:[ 0.98175 ]\n",
      "Epoch 51 = Average train loss:[ 0.11836619 ]  Accuracy train:[ 0.96325 ]  Average validation loss: [ 0.059165277 ] Accuracy validation:[ 0.98267 ]\n",
      "Epoch 52 = Average train loss:[ 0.11822382 ]  Accuracy train:[ 0.96219 ]  Average validation loss: [ 0.059003804 ] Accuracy validation:[ 0.98292 ]\n",
      "Epoch 53 = Average train loss:[ 0.11360691 ]  Accuracy train:[ 0.96319 ]  Average validation loss: [ 0.058264848 ] Accuracy validation:[ 0.98225 ]\n",
      "Epoch 54 = Average train loss:[ 0.11200156 ]  Accuracy train:[ 0.96398 ]  Average validation loss: [ 0.0578979 ] Accuracy validation:[ 0.98267 ]\n",
      "Epoch 55 = Average train loss:[ 0.11448595 ]  Accuracy train:[ 0.96331 ]  Average validation loss: [ 0.058205392 ] Accuracy validation:[ 0.98275 ]\n",
      "Epoch 56 = Average train loss:[ 0.10970041 ]  Accuracy train:[ 0.96517 ]  Average validation loss: [ 0.057559576 ] Accuracy validation:[ 0.98233 ]\n",
      "Epoch 57 = Average train loss:[ 0.11037155 ]  Accuracy train:[ 0.96442 ]  Average validation loss: [ 0.05761602 ] Accuracy validation:[ 0.98175 ]\n",
      "Epoch 58 = Average train loss:[ 0.10820788 ]  Accuracy train:[ 0.96598 ]  Average validation loss: [ 0.055664495 ] Accuracy validation:[ 0.9825 ]\n",
      "Epoch 59 = Average train loss:[ 0.10933349 ]  Accuracy train:[ 0.96435 ]  Average validation loss: [ 0.054757755 ] Accuracy validation:[ 0.98383 ]\n",
      "Epoch 60 = Average train loss:[ 0.10696105 ]  Accuracy train:[ 0.9654 ]  Average validation loss: [ 0.054655455 ] Accuracy validation:[ 0.98325 ]\n",
      "Epoch 61 = Average train loss:[ 0.10537883 ]  Accuracy train:[ 0.96592 ]  Average validation loss: [ 0.054671332 ] Accuracy validation:[ 0.98325 ]\n",
      "Epoch 62 = Average train loss:[ 0.10242056 ]  Accuracy train:[ 0.96785 ]  Average validation loss: [ 0.05371947 ] Accuracy validation:[ 0.98425 ]\n",
      "Epoch 63 = Average train loss:[ 0.1074832 ]  Accuracy train:[ 0.96556 ]  Average validation loss: [ 0.053632755 ] Accuracy validation:[ 0.98383 ]\n",
      "Epoch 64 = Average train loss:[ 0.106772214 ]  Accuracy train:[ 0.96529 ]  Average validation loss: [ 0.053790435 ] Accuracy validation:[ 0.98325 ]\n",
      "Epoch 65 = Average train loss:[ 0.10706713 ]  Accuracy train:[ 0.96542 ]  Average validation loss: [ 0.053222932 ] Accuracy validation:[ 0.984 ]\n",
      "Epoch 66 = Average train loss:[ 0.09989643 ]  Accuracy train:[ 0.96933 ]  Average validation loss: [ 0.052662574 ] Accuracy validation:[ 0.98342 ]\n",
      "Epoch 67 = Average train loss:[ 0.10393191 ]  Accuracy train:[ 0.96748 ]  Average validation loss: [ 0.05166031 ] Accuracy validation:[ 0.98408 ]\n",
      "Epoch 68 = Average train loss:[ 0.099887304 ]  Accuracy train:[ 0.96696 ]  Average validation loss: [ 0.05104822 ] Accuracy validation:[ 0.98367 ]\n",
      "Epoch 69 = Average train loss:[ 0.099596895 ]  Accuracy train:[ 0.968 ]  Average validation loss: [ 0.05156628 ] Accuracy validation:[ 0.98425 ]\n",
      "Epoch 70 = Average train loss:[ 0.0973711 ]  Accuracy train:[ 0.96888 ]  Average validation loss: [ 0.051707238 ] Accuracy validation:[ 0.98408 ]\n",
      "Epoch 71 = Average train loss:[ 0.10095247 ]  Accuracy train:[ 0.96712 ]  Average validation loss: [ 0.050586533 ] Accuracy validation:[ 0.9845 ]\n",
      "Epoch 72 = Average train loss:[ 0.10088277 ]  Accuracy train:[ 0.96754 ]  Average validation loss: [ 0.05057455 ] Accuracy validation:[ 0.98425 ]\n",
      "Epoch 73 = Average train loss:[ 0.09775007 ]  Accuracy train:[ 0.96875 ]  Average validation loss: [ 0.050168924 ] Accuracy validation:[ 0.98475 ]\n",
      "Epoch 74 = Average train loss:[ 0.10040933 ]  Accuracy train:[ 0.96848 ]  Average validation loss: [ 0.050073363 ] Accuracy validation:[ 0.98475 ]\n",
      "Epoch 75 = Average train loss:[ 0.09362743 ]  Accuracy train:[ 0.96938 ]  Average validation loss: [ 0.049165368 ] Accuracy validation:[ 0.98558 ]\n",
      "Epoch 76 = Average train loss:[ 0.091235936 ]  Accuracy train:[ 0.97079 ]  Average validation loss: [ 0.04926112 ] Accuracy validation:[ 0.98492 ]\n",
      "Epoch 77 = Average train loss:[ 0.09230697 ]  Accuracy train:[ 0.96985 ]  Average validation loss: [ 0.049593236 ] Accuracy validation:[ 0.98483 ]\n",
      "Epoch 78 = Average train loss:[ 0.09665203 ]  Accuracy train:[ 0.969 ]  Average validation loss: [ 0.049241588 ] Accuracy validation:[ 0.985 ]\n",
      "Epoch 79 = Average train loss:[ 0.09386653 ]  Accuracy train:[ 0.96981 ]  Average validation loss: [ 0.04839787 ] Accuracy validation:[ 0.98492 ]\n",
      "Epoch 80 = Average train loss:[ 0.094416596 ]  Accuracy train:[ 0.96969 ]  Average validation loss: [ 0.048605513 ] Accuracy validation:[ 0.98533 ]\n",
      "\n",
      "\n",
      "MODEL 3 \n",
      "\n",
      "Epoch 1 = Average train loss:[ 2.088288 ]  Accuracy train:[ 0.45138 ]  Average validation loss: [ 1.596678 ] Accuracy validation:[ 0.63492 ]\n",
      "Epoch 2 = Average train loss:[ 0.99123955 ]  Accuracy train:[ 0.7325 ]  Average validation loss: [ 0.5733008 ] Accuracy validation:[ 0.82433 ]\n",
      "Epoch 3 = Average train loss:[ 0.47412595 ]  Accuracy train:[ 0.85771 ]  Average validation loss: [ 0.39118847 ] Accuracy validation:[ 0.8855 ]\n",
      "Epoch 4 = Average train loss:[ 0.3490907 ]  Accuracy train:[ 0.89608 ]  Average validation loss: [ 0.30784574 ] Accuracy validation:[ 0.90842 ]\n",
      "Epoch 5 = Average train loss:[ 0.2887793 ]  Accuracy train:[ 0.91471 ]  Average validation loss: [ 0.26323867 ] Accuracy validation:[ 0.92225 ]\n",
      "Epoch 6 = Average train loss:[ 0.24669683 ]  Accuracy train:[ 0.92721 ]  Average validation loss: [ 0.2300271 ] Accuracy validation:[ 0.93233 ]\n",
      "Epoch 7 = Average train loss:[ 0.21644925 ]  Accuracy train:[ 0.93502 ]  Average validation loss: [ 0.20486934 ] Accuracy validation:[ 0.939 ]\n",
      "Epoch 8 = Average train loss:[ 0.19225864 ]  Accuracy train:[ 0.9425 ]  Average validation loss: [ 0.17934339 ] Accuracy validation:[ 0.94708 ]\n",
      "Epoch 9 = Average train loss:[ 0.17226426 ]  Accuracy train:[ 0.94827 ]  Average validation loss: [ 0.16207567 ] Accuracy validation:[ 0.95183 ]\n",
      "Epoch 10 = Average train loss:[ 0.15680069 ]  Accuracy train:[ 0.95244 ]  Average validation loss: [ 0.14750487 ] Accuracy validation:[ 0.95575 ]\n",
      "Epoch 11 = Average train loss:[ 0.14152904 ]  Accuracy train:[ 0.95765 ]  Average validation loss: [ 0.13715039 ] Accuracy validation:[ 0.95775 ]\n",
      "Epoch 12 = Average train loss:[ 0.13001262 ]  Accuracy train:[ 0.961 ]  Average validation loss: [ 0.12654458 ] Accuracy validation:[ 0.96183 ]\n",
      "Epoch 13 = Average train loss:[ 0.121010244 ]  Accuracy train:[ 0.96375 ]  Average validation loss: [ 0.1200586 ] Accuracy validation:[ 0.96367 ]\n",
      "Epoch 14 = Average train loss:[ 0.11368475 ]  Accuracy train:[ 0.96565 ]  Average validation loss: [ 0.11469683 ] Accuracy validation:[ 0.96475 ]\n",
      "Epoch 15 = Average train loss:[ 0.106173195 ]  Accuracy train:[ 0.96802 ]  Average validation loss: [ 0.10950419 ] Accuracy validation:[ 0.966 ]\n",
      "Epoch 16 = Average train loss:[ 0.10037323 ]  Accuracy train:[ 0.96952 ]  Average validation loss: [ 0.100493655 ] Accuracy validation:[ 0.96808 ]\n",
      "Epoch 17 = Average train loss:[ 0.09550408 ]  Accuracy train:[ 0.971 ]  Average validation loss: [ 0.09577385 ] Accuracy validation:[ 0.96942 ]\n",
      "Epoch 18 = Average train loss:[ 0.09108502 ]  Accuracy train:[ 0.97219 ]  Average validation loss: [ 0.09208321 ] Accuracy validation:[ 0.97108 ]\n",
      "Epoch 19 = Average train loss:[ 0.08605182 ]  Accuracy train:[ 0.97388 ]  Average validation loss: [ 0.09225984 ] Accuracy validation:[ 0.97225 ]\n",
      "Epoch 20 = Average train loss:[ 0.08338163 ]  Accuracy train:[ 0.97425 ]  Average validation loss: [ 0.08738887 ] Accuracy validation:[ 0.97358 ]\n",
      "Epoch 21 = Average train loss:[ 0.07854222 ]  Accuracy train:[ 0.9761 ]  Average validation loss: [ 0.083597675 ] Accuracy validation:[ 0.9735 ]\n",
      "Epoch 22 = Average train loss:[ 0.075526826 ]  Accuracy train:[ 0.97673 ]  Average validation loss: [ 0.08169312 ] Accuracy validation:[ 0.97517 ]\n",
      "Epoch 23 = Average train loss:[ 0.07295603 ]  Accuracy train:[ 0.97808 ]  Average validation loss: [ 0.07682479 ] Accuracy validation:[ 0.97575 ]\n",
      "Epoch 24 = Average train loss:[ 0.06955034 ]  Accuracy train:[ 0.97833 ]  Average validation loss: [ 0.07541365 ] Accuracy validation:[ 0.97683 ]\n",
      "Epoch 25 = Average train loss:[ 0.067688584 ]  Accuracy train:[ 0.97917 ]  Average validation loss: [ 0.07390438 ] Accuracy validation:[ 0.97683 ]\n",
      "\n",
      "\n"
     ]
    }
   ],
   "source": [
    "epochs = [35, 80, 25]\n",
    "all_train_loss = []\n",
    "all_val_loss = []\n",
    "all_acc_train = []\n",
    "all_acc_val = []\n",
    "\n",
    "for k in range(0,len(networks)):     \n",
    "    print(\"MODEL\", k+1 ,\"\\n\")\n",
    "    \n",
    "    if k == 0:\n",
    "      tr_dataloader = train_dataloader_linear\n",
    "      vl_dataloader = val_dataloader_linear\n",
    "    else:\n",
    "      tr_dataloader = train_dataloader\n",
    "      vl_dataloader = val_dataloader\n",
    "\n",
    "\n",
    "    ### TRAINING LOOP\n",
    "    num_epochs = epochs[k]\n",
    "    acc_train = 0\n",
    "    acc_val = 0\n",
    "    train_loss_log = []\n",
    "    val_loss_log = []\n",
    "    for epoch_num in range(num_epochs):\n",
    "        ### TRAIN\n",
    "        acc_t = []\n",
    "        acc_v = []\n",
    "        train_loss= []\n",
    "        # Training mode (e.g. enable dropout)\n",
    "        networks[k].train()\n",
    "        for sample_batched in tr_dataloader:\n",
    "            # Move data to device\n",
    "            x_batch = sample_batched[0].to(device)\n",
    "\n",
    "            if k != 0:\n",
    "              x_batch = x_batch.unsqueeze(1)\n",
    "\n",
    "            label_batch = sample_batched[1].to(device)\n",
    "\n",
    "            # Forward pass\n",
    "            out = networks[k](x_batch)\n",
    "            \n",
    "            # Compute loss\n",
    "            loss = loss_fn(out, label_batch)\n",
    "\n",
    "            # Backpropagation\n",
    "            networks[k].zero_grad()\n",
    "            loss.backward()\n",
    "\n",
    "            # Update the weights\n",
    "            optimizers[k].step()\n",
    "\n",
    "            # Save train loss for this batch\n",
    "            loss_batch = loss.detach().cpu().numpy()\n",
    "            train_loss.append(loss_batch)\n",
    "\n",
    "            #get the accuracy for this batch\n",
    "            pred = np.argmax(out.detach().cpu().numpy(), axis = 1)\n",
    "            right = np.sum(pred == np.array(label_batch.cpu()))\n",
    "            acc_t.append(right)\n",
    "            \n",
    "        \n",
    "        # Save average train loss\n",
    "        train_loss = np.mean(train_loss)\n",
    "        train_loss_log.append(train_loss)\n",
    "\n",
    "        ### VALIDATION\n",
    "        val_loss= []\n",
    "        # Evaluation mode (e.g. disable dropout)\n",
    "        networks[k].eval()\n",
    "        with torch.no_grad(): # Disable gradient tracking\n",
    "          for sample_batched in vl_dataloader:\n",
    "            # Move data to device\n",
    "            x_batch = sample_batched[0].to(device)\n",
    "\n",
    "            if k != 0:\n",
    "              x_batch = x_batch.unsqueeze(1)\n",
    "\n",
    "            label_batch = sample_batched[1].to(device)\n",
    "\n",
    "            # Forward pass\n",
    "            out = networks[k](x_batch)\n",
    "\n",
    "            # Compute loss\n",
    "            loss = loss_fn(out, label_batch)\n",
    "\n",
    "            # Save val loss for this batch\n",
    "            loss_batch = loss.detach().cpu().numpy()\n",
    "            val_loss.append(loss_batch)\n",
    "\n",
    "            #get the accuracy for the val\n",
    "            pred = np.argmax(out.detach().cpu().numpy(), axis = 1)\n",
    "            right = np.sum(pred == np.array(label_batch.cpu()))\n",
    "            acc_v.append(right)\n",
    "\n",
    "          # Save average validation loss\n",
    "          val_loss = np.mean(val_loss)\n",
    "          val_loss_log.append(val_loss)\n",
    "\n",
    "        acc_train = np.sum(acc_t)/tr_dataset.data.shape[0]\n",
    "        acc_val = np.sum(acc_v)/val_dataset.data.shape[0]\n",
    "        print(\"Epoch\", epoch_num + 1, \"= Average train loss:[\", train_loss, \"] \",\"Accuracy train:[\", np.round(acc_train,5),\"] \" ,\"Average validation loss: [\", val_loss, \"]\", \"Accuracy validation:[\",  np.round(acc_val,5),\"]\")\n",
    "\n",
    "    all_train_loss.append(train_loss_log)\n",
    "    all_val_loss.append(val_loss_log)\n",
    "    all_acc_train.append(np.round(acc_train,5))\n",
    "    all_acc_val.append(np.round(acc_val,5))\n",
    "    print(\"\\n\")"
   ]
  },
  {
   "cell_type": "code",
   "execution_count": null,
   "metadata": {
    "colab": {
     "base_uri": "https://localhost:8080/",
     "height": 350
    },
    "id": "xjvKOQ4VN-eO",
    "outputId": "a32c9257-4769-45d3-b5a5-1b48b99cdf51"
   },
   "outputs": [
    {
     "data": {
      "image/png": "[encoded data removed]",
      "text/plain": [
       "<Figure size 1296x360 with 3 Axes>"
      ]
     },
     "metadata": {
      "needs_background": "light",
      "tags": []
     },
     "output_type": "display_data"
    }
   ],
   "source": [
    "# Plot losses\n",
    "figure, axis = plt.subplots(1,3, figsize = (18,5))\n",
    "axis[0].plot(all_train_loss[0], linewidth = 2.0,  label = \"Train loss\", color=\"red\")\n",
    "axis[0].plot(all_val_loss[0],linewidth = 2.0, label = \"Validation loss\", color = \"green\")\n",
    "axis[0].legend(loc=\"upper right\")\n",
    "axis[0].set_title('Loss Curves FCNN Model')\n",
    "axis[0].grid()\n",
    "axis[0].set_xlabel('Epochs')\n",
    "axis[0].set_ylabel('Loss')\n",
    "axis[0].set_ylim([0,1])\n",
    "\n",
    "axis[1].plot(all_train_loss[1], linewidth = 2.0,  label = \"Train loss\", color=\"red\")\n",
    "axis[1].plot(all_val_loss[1],linewidth = 2.0, label = \"Validation loss\", color = \"green\")\n",
    "axis[1].legend(loc=\"upper right\")\n",
    "axis[1].set_title('Loss Curves Conv Model with Dropout layers')\n",
    "axis[1].grid()\n",
    "axis[1].set_xlabel('Epochs')\n",
    "axis[1].set_ylabel('Loss')\n",
    "axis[1].set_ylim([0,1])\n",
    "\n",
    "axis[2].plot(all_train_loss[2], linewidth = 2.0,  label = \"Train loss\", color=\"red\")\n",
    "axis[2].plot(all_val_loss[2],linewidth = 2.0, label = \"Validation loss\", color = \"green\")\n",
    "axis[2].legend(loc=\"upper right\")\n",
    "axis[2].set_title('Loss Curves Conv Model without Dropout layers')\n",
    "axis[2].grid()\n",
    "axis[2].set_xlabel('Epochs')\n",
    "axis[2].set_ylabel('Loss')\n",
    "axis[2].set_ylim([0,1])\n",
    "\n",
    "plt.show()"
   ]
  },
  {
   "cell_type": "code",
   "execution_count": null,
   "metadata": {
    "colab": {
     "base_uri": "https://localhost:8080/"
    },
    "id": "MiRPodti4lFF",
    "outputId": "1aa2b43c-02e5-487e-d51b-36f3d3c4d15e"
   },
   "outputs": [
    {
     "name": "stdout",
     "output_type": "stream",
     "text": [
      "MODEL 1\n",
      "  Final train loss:[ 0.061331093 ]  Final validation loss: [ 0.10922544 ]\n",
      "  Final train accuracy:[ 0.98283 ]  Final validation accuracy: [ 0.96825 ]\n",
      "\n",
      "\n",
      "MODEL 2\n",
      "  Final train loss:[ 0.094416596 ]  Final validation loss: [ 0.048605513 ]\n",
      "  Final train accuracy:[ 0.96969 ]  Final validation accuracy: [ 0.98533 ]\n",
      "\n",
      "\n",
      "MODEL 3\n",
      "  Final train loss:[ 0.067688584 ]  Final validation loss: [ 0.07390438 ]\n",
      "  Final train accuracy:[ 0.97917 ]  Final validation accuracy: [ 0.97683 ]\n",
      "\n",
      "\n"
     ]
    }
   ],
   "source": [
    "#show the metrics reached by the models\n",
    "for k in range(0,len(networks)):\n",
    "  print('MODEL' ,k+1)\n",
    "  print(\"  Final train loss:[\", all_train_loss[k][len(all_train_loss[k])-1], \"] \",\"Final validation loss: [\", all_val_loss[k][len(all_val_loss[k])-1], \"]\")\n",
    "  print(\"  Final train accuracy:[\", all_acc_train[k], \"] \",\"Final validation accuracy: [\", all_acc_val[k], \"]\")\n",
    "  print('\\n')"
   ]
  },
  {
   "cell_type": "markdown",
   "metadata": {
    "id": "NNxBcjOGlJLb"
   },
   "source": [
    "According to the metrics obtained comparing the three models the CNN with dropout seems to lead to better results.<br>\n",
    "The simple FCNN at a certain point stop to learn and seems to overfit over the train data.<br>\n",
    "In the same way the CNN without dropout, which seems to learn quickly, at a certain point overfit the data.<br>\n",
    "For this reason also if the metrics reached by the three models are pretty the same the one selected is the CNN with dropout."
   ]
  },
  {
   "cell_type": "markdown",
   "metadata": {
    "id": "ilyI1rogmrcq"
   },
   "source": [
    "### Models with different optimizer"
   ]
  },
  {
   "cell_type": "markdown",
   "metadata": {
    "id": "-6-p6Q8NmzH2"
   },
   "source": [
    "Starting from the CNN with dropout, now we try different strategies of optimization to see which one is better for this classfication probelm."
   ]
  },
  {
   "cell_type": "code",
   "execution_count": null,
   "metadata": {
    "id": "X7UNXWUzpxWm"
   },
   "outputs": [],
   "source": [
    "#store the metrics of the previous selected network\n",
    "conv_drop_train = all_train_loss[1]\n",
    "conv_drop_val = all_val_loss[1]\n",
    "conv_drop_acc_train = all_acc_train[1]\n",
    "conv_drop_acc_val = all_acc_val[1]"
   ]
  },
  {
   "cell_type": "code",
   "execution_count": null,
   "metadata": {
    "colab": {
     "base_uri": "https://localhost:8080/"
    },
    "id": "AxFlh9TZmwzE",
    "outputId": "639ed081-babc-4e79-907d-e25386a81f01"
   },
   "outputs": [
    {
     "name": "stdout",
     "output_type": "stream",
     "text": [
      "Network initialized\n",
      "Network initialized\n",
      "Training device: cuda\n"
     ]
    }
   ],
   "source": [
    "#initialize CNN networks\n",
    "Ni = 1\n",
    "Nh1 = 8\n",
    "Nh2 = 16\n",
    "Nl1 = Nh2*8*8 \n",
    "Nl2 = 64\n",
    "No = 10\n",
    "\n",
    "conv_drop_opt_SGD = Net(Ni, Nh1, Nh2, Nl1, Nl2, No)\n",
    "conv_drop_opt_RMS = Net(Ni, Nh1, Nh2, Nl1, Nl2, No)\n",
    "\n",
    "\n",
    "# Check if the GPU is available\n",
    "device = torch.device(\"cuda\") if torch.cuda.is_available() else torch.device(\"cpu\")\n",
    "print(f\"Training device: {device}\")\n",
    "\n",
    "conv_drop_opt_SGD.to(device)\n",
    "conv_drop_opt_RMS.to(device)\n",
    "\n",
    "\n",
    "# Define the loss function\n",
    "loss_fn = nn.CrossEntropyLoss()\n",
    "\n",
    "# Define the optimizer\n",
    "optimizer_opt_SGD = optim.SGD(conv_drop_opt_SGD.parameters(), lr=1e-3, momentum=0.9)\n",
    "optimizer_opt_RMS = optim.RMSprop(conv_drop_opt_RMS.parameters(), alpha=0.9, eps=1e-08 ,lr=1e-3 , momentum=0.9)\n",
    "\n",
    "\n",
    "#create a list which elements point to one of the network created\n",
    "networks = [conv_drop_opt_SGD, conv_drop_opt_RMS]\n",
    "\n",
    "#create a list containing the optimizer for each model\n",
    "optimizers = [optimizer_opt_SGD, optimizer_opt_RMS]"
   ]
  },
  {
   "cell_type": "code",
   "execution_count": null,
   "metadata": {
    "colab": {
     "base_uri": "https://localhost:8080/"
    },
    "id": "ppnXje9dmwiz",
    "outputId": "2cc1e055-a611-4b26-b2be-1d8a6a1340e2"
   },
   "outputs": [
    {
     "name": "stdout",
     "output_type": "stream",
     "text": [
      "MODEL 1 \n",
      "\n",
      "Epoch 1 = Average train loss:[ 2.3029308 ]  Accuracy train:[ 0.11925 ]  Average validation loss: [ 2.303443 ] Accuracy validation:[ 0.096 ]\n",
      "Epoch 2 = Average train loss:[ 2.2995732 ]  Accuracy train:[ 0.12506 ]  Average validation loss: [ 2.300284 ] Accuracy validation:[ 0.10908 ]\n",
      "Epoch 3 = Average train loss:[ 2.2955625 ]  Accuracy train:[ 0.13712 ]  Average validation loss: [ 2.296727 ] Accuracy validation:[ 0.14183 ]\n",
      "Epoch 4 = Average train loss:[ 2.2905283 ]  Accuracy train:[ 0.14342 ]  Average validation loss: [ 2.292443 ] Accuracy validation:[ 0.16175 ]\n",
      "Epoch 5 = Average train loss:[ 2.2853172 ]  Accuracy train:[ 0.15275 ]  Average validation loss: [ 2.2871947 ] Accuracy validation:[ 0.16875 ]\n",
      "Epoch 6 = Average train loss:[ 2.2777967 ]  Accuracy train:[ 0.16267 ]  Average validation loss: [ 2.2806327 ] Accuracy validation:[ 0.17108 ]\n",
      "Epoch 7 = Average train loss:[ 2.2694495 ]  Accuracy train:[ 0.1749 ]  Average validation loss: [ 2.2724333 ] Accuracy validation:[ 0.17358 ]\n",
      "Epoch 8 = Average train loss:[ 2.2580721 ]  Accuracy train:[ 0.18983 ]  Average validation loss: [ 2.261777 ] Accuracy validation:[ 0.18683 ]\n",
      "Epoch 9 = Average train loss:[ 2.242815 ]  Accuracy train:[ 0.21027 ]  Average validation loss: [ 2.2470264 ] Accuracy validation:[ 0.2265 ]\n",
      "Epoch 10 = Average train loss:[ 2.2226403 ]  Accuracy train:[ 0.23481 ]  Average validation loss: [ 2.2262874 ] Accuracy validation:[ 0.2795 ]\n",
      "Epoch 11 = Average train loss:[ 2.1938713 ]  Accuracy train:[ 0.26252 ]  Average validation loss: [ 2.1959507 ] Accuracy validation:[ 0.32467 ]\n",
      "Epoch 12 = Average train loss:[ 2.1523826 ]  Accuracy train:[ 0.29392 ]  Average validation loss: [ 2.150493 ] Accuracy validation:[ 0.371 ]\n",
      "Epoch 13 = Average train loss:[ 2.093098 ]  Accuracy train:[ 0.33165 ]  Average validation loss: [ 2.081689 ] Accuracy validation:[ 0.42367 ]\n",
      "Epoch 14 = Average train loss:[ 2.0046363 ]  Accuracy train:[ 0.39085 ]  Average validation loss: [ 1.9779031 ] Accuracy validation:[ 0.54033 ]\n",
      "Epoch 15 = Average train loss:[ 1.8825388 ]  Accuracy train:[ 0.44669 ]  Average validation loss: [ 1.8269707 ] Accuracy validation:[ 0.61383 ]\n",
      "Epoch 16 = Average train loss:[ 1.7223502 ]  Accuracy train:[ 0.49892 ]  Average validation loss: [ 1.630945 ] Accuracy validation:[ 0.66033 ]\n",
      "Epoch 17 = Average train loss:[ 1.551212 ]  Accuracy train:[ 0.53929 ]  Average validation loss: [ 1.4183778 ] Accuracy validation:[ 0.69292 ]\n",
      "Epoch 18 = Average train loss:[ 1.3914967 ]  Accuracy train:[ 0.56877 ]  Average validation loss: [ 1.2289438 ] Accuracy validation:[ 0.71683 ]\n",
      "Epoch 19 = Average train loss:[ 1.2604681 ]  Accuracy train:[ 0.59727 ]  Average validation loss: [ 1.0822215 ] Accuracy validation:[ 0.73808 ]\n",
      "Epoch 20 = Average train loss:[ 1.1724067 ]  Accuracy train:[ 0.61965 ]  Average validation loss: [ 0.9765661 ] Accuracy validation:[ 0.75725 ]\n",
      "Epoch 21 = Average train loss:[ 1.1009084 ]  Accuracy train:[ 0.63727 ]  Average validation loss: [ 0.89691097 ] Accuracy validation:[ 0.77442 ]\n",
      "Epoch 22 = Average train loss:[ 1.0508678 ]  Accuracy train:[ 0.65488 ]  Average validation loss: [ 0.8406441 ] Accuracy validation:[ 0.7805 ]\n",
      "Epoch 23 = Average train loss:[ 1.0132768 ]  Accuracy train:[ 0.66548 ]  Average validation loss: [ 0.801267 ] Accuracy validation:[ 0.79233 ]\n",
      "Epoch 24 = Average train loss:[ 0.9784734 ]  Accuracy train:[ 0.67948 ]  Average validation loss: [ 0.7670478 ] Accuracy validation:[ 0.80183 ]\n",
      "Epoch 25 = Average train loss:[ 0.9495263 ]  Accuracy train:[ 0.68944 ]  Average validation loss: [ 0.7393102 ] Accuracy validation:[ 0.81017 ]\n",
      "Epoch 26 = Average train loss:[ 0.9251047 ]  Accuracy train:[ 0.69669 ]  Average validation loss: [ 0.7133408 ] Accuracy validation:[ 0.81308 ]\n",
      "Epoch 27 = Average train loss:[ 0.90106565 ]  Accuracy train:[ 0.70554 ]  Average validation loss: [ 0.6945821 ] Accuracy validation:[ 0.818 ]\n",
      "Epoch 28 = Average train loss:[ 0.88754374 ]  Accuracy train:[ 0.71002 ]  Average validation loss: [ 0.67586523 ] Accuracy validation:[ 0.82483 ]\n",
      "Epoch 29 = Average train loss:[ 0.86805207 ]  Accuracy train:[ 0.71725 ]  Average validation loss: [ 0.66211236 ] Accuracy validation:[ 0.82833 ]\n",
      "Epoch 30 = Average train loss:[ 0.8543485 ]  Accuracy train:[ 0.72235 ]  Average validation loss: [ 0.6481167 ] Accuracy validation:[ 0.82767 ]\n",
      "Epoch 31 = Average train loss:[ 0.8448217 ]  Accuracy train:[ 0.72488 ]  Average validation loss: [ 0.6352967 ] Accuracy validation:[ 0.8355 ]\n",
      "Epoch 32 = Average train loss:[ 0.82798404 ]  Accuracy train:[ 0.73052 ]  Average validation loss: [ 0.6237779 ] Accuracy validation:[ 0.84033 ]\n",
      "Epoch 33 = Average train loss:[ 0.8120225 ]  Accuracy train:[ 0.73806 ]  Average validation loss: [ 0.6138418 ] Accuracy validation:[ 0.84158 ]\n",
      "Epoch 34 = Average train loss:[ 0.8041803 ]  Accuracy train:[ 0.74106 ]  Average validation loss: [ 0.6050898 ] Accuracy validation:[ 0.84067 ]\n",
      "Epoch 35 = Average train loss:[ 0.79488784 ]  Accuracy train:[ 0.74198 ]  Average validation loss: [ 0.596842 ] Accuracy validation:[ 0.84625 ]\n",
      "Epoch 36 = Average train loss:[ 0.7795121 ]  Accuracy train:[ 0.74923 ]  Average validation loss: [ 0.5845057 ] Accuracy validation:[ 0.84958 ]\n",
      "Epoch 37 = Average train loss:[ 0.77468675 ]  Accuracy train:[ 0.74835 ]  Average validation loss: [ 0.5791507 ] Accuracy validation:[ 0.8495 ]\n",
      "Epoch 38 = Average train loss:[ 0.7680113 ]  Accuracy train:[ 0.75192 ]  Average validation loss: [ 0.5686359 ] Accuracy validation:[ 0.8515 ]\n",
      "Epoch 39 = Average train loss:[ 0.7545686 ]  Accuracy train:[ 0.75846 ]  Average validation loss: [ 0.5632504 ] Accuracy validation:[ 0.85283 ]\n",
      "Epoch 40 = Average train loss:[ 0.7456384 ]  Accuracy train:[ 0.76052 ]  Average validation loss: [ 0.55416405 ] Accuracy validation:[ 0.85758 ]\n",
      "Epoch 41 = Average train loss:[ 0.7392505 ]  Accuracy train:[ 0.76417 ]  Average validation loss: [ 0.5524192 ] Accuracy validation:[ 0.85667 ]\n",
      "Epoch 42 = Average train loss:[ 0.7368484 ]  Accuracy train:[ 0.76254 ]  Average validation loss: [ 0.54741377 ] Accuracy validation:[ 0.85667 ]\n",
      "Epoch 43 = Average train loss:[ 0.7245299 ]  Accuracy train:[ 0.76735 ]  Average validation loss: [ 0.5356082 ] Accuracy validation:[ 0.86017 ]\n",
      "Epoch 44 = Average train loss:[ 0.7162967 ]  Accuracy train:[ 0.77025 ]  Average validation loss: [ 0.5332495 ] Accuracy validation:[ 0.86275 ]\n",
      "Epoch 45 = Average train loss:[ 0.7129679 ]  Accuracy train:[ 0.77135 ]  Average validation loss: [ 0.5263415 ] Accuracy validation:[ 0.86375 ]\n",
      "Epoch 46 = Average train loss:[ 0.7065937 ]  Accuracy train:[ 0.77444 ]  Average validation loss: [ 0.51981384 ] Accuracy validation:[ 0.86283 ]\n",
      "Epoch 47 = Average train loss:[ 0.69406253 ]  Accuracy train:[ 0.77592 ]  Average validation loss: [ 0.51648253 ] Accuracy validation:[ 0.86467 ]\n",
      "Epoch 48 = Average train loss:[ 0.6957698 ]  Accuracy train:[ 0.77581 ]  Average validation loss: [ 0.51100945 ] Accuracy validation:[ 0.86458 ]\n",
      "Epoch 49 = Average train loss:[ 0.68895704 ]  Accuracy train:[ 0.77921 ]  Average validation loss: [ 0.5027069 ] Accuracy validation:[ 0.87275 ]\n",
      "Epoch 50 = Average train loss:[ 0.68444616 ]  Accuracy train:[ 0.78131 ]  Average validation loss: [ 0.50291604 ] Accuracy validation:[ 0.86767 ]\n",
      "\n",
      "\n",
      "MODEL 2 \n",
      "\n",
      "Epoch 1 = Average train loss:[ 1.204213 ]  Accuracy train:[ 0.62662 ]  Average validation loss: [ 0.45132065 ] Accuracy validation:[ 0.88642 ]\n",
      "Epoch 2 = Average train loss:[ 0.43439135 ]  Accuracy train:[ 0.86683 ]  Average validation loss: [ 0.19698012 ] Accuracy validation:[ 0.94492 ]\n",
      "Epoch 3 = Average train loss:[ 0.2798892 ]  Accuracy train:[ 0.91262 ]  Average validation loss: [ 0.12865347 ] Accuracy validation:[ 0.96317 ]\n",
      "Epoch 4 = Average train loss:[ 0.21341103 ]  Accuracy train:[ 0.93346 ]  Average validation loss: [ 0.11007766 ] Accuracy validation:[ 0.969 ]\n",
      "Epoch 5 = Average train loss:[ 0.17946942 ]  Accuracy train:[ 0.94367 ]  Average validation loss: [ 0.08410426 ] Accuracy validation:[ 0.97467 ]\n",
      "Epoch 6 = Average train loss:[ 0.16325103 ]  Accuracy train:[ 0.94877 ]  Average validation loss: [ 0.072553515 ] Accuracy validation:[ 0.97858 ]\n",
      "Epoch 7 = Average train loss:[ 0.1486037 ]  Accuracy train:[ 0.9531 ]  Average validation loss: [ 0.07041629 ] Accuracy validation:[ 0.98033 ]\n",
      "Epoch 8 = Average train loss:[ 0.13437803 ]  Accuracy train:[ 0.95779 ]  Average validation loss: [ 0.062757 ] Accuracy validation:[ 0.98142 ]\n",
      "Epoch 9 = Average train loss:[ 0.12993602 ]  Accuracy train:[ 0.95921 ]  Average validation loss: [ 0.056874 ] Accuracy validation:[ 0.98367 ]\n",
      "Epoch 10 = Average train loss:[ 0.1192592 ]  Accuracy train:[ 0.96185 ]  Average validation loss: [ 0.06095414 ] Accuracy validation:[ 0.98208 ]\n",
      "\n",
      "\n"
     ]
    }
   ],
   "source": [
    "epochs = [50, 10]\n",
    "all_train_loss = []\n",
    "all_val_loss = []\n",
    "all_acc_train = []\n",
    "all_acc_val = []\n",
    "\n",
    "for k in range(0,len(networks)):     \n",
    "    print(\"MODEL\", k+1 ,\"\\n\")\n",
    "    \n",
    "    ### TRAINING LOOP\n",
    "    num_epochs = epochs[k]\n",
    "    acc_train = 0\n",
    "    acc_val = 0\n",
    "    train_loss_log = []\n",
    "    val_loss_log = []\n",
    "    for epoch_num in range(num_epochs):\n",
    "        ### TRAIN\n",
    "        acc_t = []\n",
    "        acc_v = []\n",
    "        train_loss= []\n",
    "        # Training mode (e.g. enable dropout)\n",
    "        networks[k].train()\n",
    "        for sample_batched in train_dataloader:\n",
    "            # Move data to device\n",
    "            x_batch = sample_batched[0].to(device)\n",
    "            x_batch = x_batch.unsqueeze(1)\n",
    "            label_batch = sample_batched[1].to(device)\n",
    "\n",
    "            # Forward pass\n",
    "            out = networks[k](x_batch)\n",
    "            \n",
    "            # Compute loss\n",
    "            loss = loss_fn(out, label_batch)\n",
    "\n",
    "            # Backpropagation\n",
    "            networks[k].zero_grad()\n",
    "            loss.backward()\n",
    "\n",
    "            # Update the weights\n",
    "            optimizers[k].step()\n",
    "\n",
    "            # Save train loss for this batch\n",
    "            loss_batch = loss.detach().cpu().numpy()\n",
    "            train_loss.append(loss_batch)\n",
    "\n",
    "            #get the accuracy for this batch\n",
    "            pred = np.argmax(out.detach().cpu().numpy(), axis = 1)\n",
    "            right = np.sum(pred == np.array(label_batch.cpu()))\n",
    "            acc_t.append(right)\n",
    "            \n",
    "        \n",
    "        # Save average train loss\n",
    "        train_loss = np.mean(train_loss)\n",
    "        train_loss_log.append(train_loss)\n",
    "\n",
    "        ### VALIDATION\n",
    "        val_loss= []\n",
    "        # Evaluation mode (e.g. disable dropout)\n",
    "        networks[k].eval()\n",
    "        with torch.no_grad(): # Disable gradient tracking\n",
    "          for sample_batched in val_dataloader:\n",
    "            # Move data to device\n",
    "            x_batch = sample_batched[0].to(device)\n",
    "            x_batch = x_batch.unsqueeze(1)\n",
    "            label_batch = sample_batched[1].to(device)\n",
    "\n",
    "            # Forward pass\n",
    "            out = networks[k](x_batch)\n",
    "\n",
    "            # Compute loss\n",
    "            loss = loss_fn(out, label_batch)\n",
    "\n",
    "            # Save val loss for this batch\n",
    "            loss_batch = loss.detach().cpu().numpy()\n",
    "            val_loss.append(loss_batch)\n",
    "\n",
    "            #get the accuracy for the val\n",
    "            pred = np.argmax(out.detach().cpu().numpy(), axis = 1)\n",
    "            right = np.sum(pred == np.array(label_batch.cpu()))\n",
    "            acc_v.append(right)\n",
    "\n",
    "          # Save average validation loss\n",
    "          val_loss = np.mean(val_loss)\n",
    "          val_loss_log.append(val_loss)\n",
    "\n",
    "        acc_train = np.sum(acc_t)/tr_dataset.data.shape[0]\n",
    "        acc_val = np.sum(acc_v)/val_dataset.data.shape[0]\n",
    "        print(\"Epoch\", epoch_num + 1, \"= Average train loss:[\", train_loss, \"] \",\"Accuracy train:[\", np.round(acc_train,5),\"] \" ,\"Average validation loss: [\", val_loss, \"]\", \"Accuracy validation:[\",  np.round(acc_val,5),\"]\")\n",
    "\n",
    "    all_train_loss.append(train_loss_log)\n",
    "    all_val_loss.append(val_loss_log)\n",
    "    all_acc_train.append(np.round(acc_train,5))\n",
    "    all_acc_val.append(np.round(acc_val,5))\n",
    "    print(\"\\n\")"
   ]
  },
  {
   "cell_type": "code",
   "execution_count": null,
   "metadata": {
    "colab": {
     "base_uri": "https://localhost:8080/",
     "height": 350
    },
    "id": "0f8JZw0pwyQh",
    "outputId": "d015a9c6-32b9-483f-86ad-b7d3a8df8eb7"
   },
   "outputs": [
    {
     "data": {
      "image/png": "[encoded data removed]",
      "text/plain": [
       "<Figure size 1296x360 with 3 Axes>"
      ]
     },
     "metadata": {
      "needs_background": "light",
      "tags": []
     },
     "output_type": "display_data"
    }
   ],
   "source": [
    "# Plot losses\n",
    "figure, axis = plt.subplots(1,3, figsize = (18,5))\n",
    "axis[0].plot(all_train_loss[0], linewidth = 2.0,  label = \"Train loss\", color=\"red\")\n",
    "axis[0].plot(all_val_loss[0],linewidth = 2.0, label = \"Validation loss\", color = \"green\")\n",
    "axis[0].legend(loc=\"upper right\")\n",
    "axis[0].set_title('Loss Curves SGD Model')\n",
    "axis[0].grid()\n",
    "axis[0].set_xlabel('Epochs')\n",
    "axis[0].set_ylabel('Loss')\n",
    "axis[0].set_ylim([0,1])\n",
    "\n",
    "axis[1].plot(all_train_loss[1], linewidth = 2.0,  label = \"Train loss\", color=\"red\")\n",
    "axis[1].plot(all_val_loss[1],linewidth = 2.0, label = \"Validation loss\", color = \"green\")\n",
    "axis[1].legend(loc=\"upper right\")\n",
    "axis[1].set_title('Loss Curves RMSprop model')\n",
    "axis[1].grid()\n",
    "axis[1].set_xlabel('Epochs')\n",
    "axis[1].set_ylabel('Loss')\n",
    "axis[1].set_ylim([0,1])\n",
    "\n",
    "axis[2].plot(conv_drop_train, linewidth = 2.0,  label = \"Train loss\", color=\"red\")\n",
    "axis[2].plot(conv_drop_val,linewidth = 2.0, label = \"Validation loss\", color = \"green\")\n",
    "axis[2].legend(loc=\"upper right\")\n",
    "axis[2].set_title('Loss Curves Conv Model with Dropout layers')\n",
    "axis[2].grid()\n",
    "axis[2].set_xlabel('Epochs')\n",
    "axis[2].set_ylabel('Loss')\n",
    "axis[2].set_ylim([0,1])\n",
    "\n",
    "plt.show()"
   ]
  },
  {
   "cell_type": "code",
   "execution_count": null,
   "metadata": {
    "colab": {
     "base_uri": "https://localhost:8080/"
    },
    "id": "VvhWY-QL9on7",
    "outputId": "13b4344b-6d1f-424d-fb8c-0684c1c9d03f"
   },
   "outputs": [
    {
     "name": "stdout",
     "output_type": "stream",
     "text": [
      "MODEL 1\n",
      "  Final train loss:[ 0.68444616 ]  Final validation loss: [ 0.50291604 ]\n",
      "  Final train accuracy:[ 0.78131 ]  Final validation accuracy: [ 0.86767 ]\n",
      "\n",
      "\n",
      "MODEL 2\n",
      "  Final train loss:[ 0.1192592 ]  Final validation loss: [ 0.06095414 ]\n",
      "  Final train accuracy:[ 0.96185 ]  Final validation accuracy: [ 0.98208 ]\n",
      "\n",
      "\n",
      "MODEL 3\n",
      "  Final train loss:[ 0.094416596 ]  Final validation loss: [ 0.048605513 ]\n",
      "  Final train accuracy:[ 0.96969 ]  Final validation accuracy: [ 0.98533 ]\n"
     ]
    }
   ],
   "source": [
    "#show the metrics reached by the models\n",
    "for k in range(0,len(networks)):\n",
    "  print('MODEL' ,k+1)\n",
    "  print(\"  Final train loss:[\", all_train_loss[k][len(all_train_loss[k])-1], \"] \",\"Final validation loss: [\", all_val_loss[k][len(all_val_loss[k])-1], \"]\")\n",
    "  print(\"  Final train accuracy:[\", all_acc_train[k], \"] \",\"Final validation accuracy: [\", all_acc_val[k], \"]\")\n",
    "  print('\\n')\n",
    "\n",
    "print('MODEL 3')\n",
    "print(\"  Final train loss:[\", conv_drop_train[len(conv_drop_train)-1], \"] \",\"Final validation loss: [\", conv_drop_val[len(conv_drop_val)-1], \"]\")\n",
    "print(\"  Final train accuracy:[\", conv_drop_acc_train, \"] \",\"Final validation accuracy: [\", conv_drop_acc_val, \"]\")"
   ]
  },
  {
   "cell_type": "markdown",
   "metadata": {
    "id": "WCEPdPSpIDpd"
   },
   "source": [
    "##Network Evaluation"
   ]
  },
  {
   "cell_type": "markdown",
   "metadata": {
    "id": "TW70nmYqVvxH"
   },
   "source": [
    "We evalute the convolutional network with dropout with Adam as optimizer. It seem to lead to better results."
   ]
  },
  {
   "cell_type": "code",
   "execution_count": null,
   "metadata": {
    "colab": {
     "base_uri": "https://localhost:8080/"
    },
    "id": "KDUlYNUsOFDG",
    "outputId": "380bba2e-6414-4bab-8f35-e28fb9ab567b"
   },
   "outputs": [
    {
     "name": "stdout",
     "output_type": "stream",
     "text": [
      "Test loss MODEL:[ 0.04360423982143402 ]  Accuracy of MODEL:[ 0.9865 ]\n"
     ]
    }
   ],
   "source": [
    "loss_mean = []\n",
    "prediction =[]\n",
    "true_label = []\n",
    "acc = 0\n",
    "#move the input to the GPU and predict the output\n",
    "for i in range(0,test_dataset.__len__()):\n",
    "  x = test_dataset.__getitem__(i)[0].to(device)\n",
    "  y = test_dataset.__getitem__(i)[1].unsqueeze(0).to(device)\n",
    "  true_label.append(y.cpu()[0])\n",
    "  conv_drop.eval()\n",
    "  with torch.no_grad():\n",
    "      x = x.unsqueeze(0)\n",
    "      x = x.unsqueeze(0)\n",
    "      pred = conv_drop(x)\n",
    "      loss = loss_fn(pred, y)\n",
    "      loss = loss.detach().cpu().numpy()\n",
    "      loss_mean.append(loss)\n",
    "\n",
    "      pred = np.argmax(pred.detach().cpu().numpy(), axis = 1)\n",
    "      prediction.append(pred)\n",
    "      right = np.sum(pred == np.array(y.cpu()))\n",
    "      acc = acc + right\n",
    "      \n",
    "\n",
    "loss_mean = np.mean(loss_mean)\n",
    "print(\"Test loss MODEL:[\", float(loss_mean),\"]\", \" Accuracy of MODEL:[\", np.round(acc/len(test_dataset),5),\"]\")"
   ]
  },
  {
   "cell_type": "code",
   "execution_count": null,
   "metadata": {
    "colab": {
     "base_uri": "https://localhost:8080/",
     "height": 289
    },
    "id": "tJrh1uzsK6Lr",
    "outputId": "af0a5e3e-fc52-4dac-a899-cf9d2879d196"
   },
   "outputs": [
    {
     "data": {
      "image/png": "[encoded data removed]",
      "text/plain": [
       "<Figure size 720x360 with 10 Axes>"
      ]
     },
     "metadata": {
      "tags": []
     },
     "output_type": "display_data"
    }
   ],
   "source": [
    "#example of some predicted samples\n",
    "plt.figure(figsize=(10,5))\n",
    "\n",
    "for i in range(1, 11):\n",
    "    plt.subplot(2,5,i)\n",
    "    plt.xticks([])\n",
    "    plt.yticks([])\n",
    "    plt.grid(False)\n",
    "    \n",
    "    label = 'true:' + str(true_label[i+10].item()) + ' - pred:' + str(prediction[i+10][0])\n",
    "    plt.imshow(test_dataset.__getitem__(i+10)[0].reshape(width, heigth), cmap='gray')\n",
    "    plt.xlabel(label)\n"
   ]
  },
  {
   "cell_type": "markdown",
   "metadata": {
    "id": "JP8S-dh0dHgq"
   },
   "source": [
    "##Confusion matrix"
   ]
  },
  {
   "cell_type": "code",
   "execution_count": null,
   "metadata": {
    "colab": {
     "base_uri": "https://localhost:8080/",
     "height": 458
    },
    "id": "O0O8AStWLy8U",
    "outputId": "65d37ae1-3871-4d3b-bfd7-3d40639812c5"
   },
   "outputs": [
    {
     "data": {
      "image/png": "[encoded data removed]",
      "text/plain": [
       "<Figure size 504x504 with 2 Axes>"
      ]
     },
     "metadata": {
      "needs_background": "light",
      "tags": []
     },
     "output_type": "display_data"
    }
   ],
   "source": [
    "labels = ['0', '1', '2','3', '4', '5','6', '7', '8','9']\n",
    "cm = confusion_matrix(true_label, prediction, [0, 1, 2, 3, 4, 5, 6, 7, 8, 9])\n",
    "\n",
    "f,ax= plt.subplots(figsize=(7,7))\n",
    "sas.heatmap(cm, annot=True, ax = ax, linewidths=1, fmt = 'd', cmap = \"Blues\")\n",
    "bottom, top = ax.get_ylim()\n",
    "ax.set_ylim(bottom + 0.5, top - 0.5)\n",
    "\n",
    "ax.set_xlabel('Predicted labels')\n",
    "ax.set_ylabel('True labels')\n",
    "ax.set_title('Confusion Matrix MODEL')\n",
    "ax.xaxis.set_ticklabels(labels)\n",
    "ax.yaxis.set_ticklabels(labels)\n",
    "\n",
    "plt.show()"
   ]
  },
  {
   "cell_type": "markdown",
   "metadata": {
    "id": "PxO2unz7eozT"
   },
   "source": [
    "##Filters and Feature maps"
   ]
  },
  {
   "cell_type": "code",
   "execution_count": null,
   "metadata": {
    "colab": {
     "base_uri": "https://localhost:8080/",
     "height": 667
    },
    "id": "NWeHfZTlKHyD",
    "outputId": "2e457e11-6761-474a-d0c5-93279c8c068d"
   },
   "outputs": [
    {
     "data": {
      "image/png": "[encoded data removed]",
      "text/plain": [
       "<Figure size 1080x360 with 8 Axes>"
      ]
     },
     "metadata": {
      "tags": []
     },
     "output_type": "display_data"
    },
    {
     "data": {
      "image/png": "[encoded data removed]",
      "text/plain": [
       "<Figure size 1080x360 with 8 Axes>"
      ]
     },
     "metadata": {
      "tags": []
     },
     "output_type": "display_data"
    }
   ],
   "source": [
    "#first we collect the filters of the first convolutional layer \n",
    "#these are 8 as the number of neurons of the layer\n",
    "filters_1 = conv_drop.fc1.weight\n",
    "filters_1 = torch.squeeze(filters_1,1)\n",
    "\n",
    "filters_1  = filters_1.cpu().detach().numpy()\n",
    "\n",
    "#get the feature maps generated by the first convolutional layer\n",
    "#this are generated using the first image of the test set\n",
    "#we expect 8 different featur maps  \n",
    "\n",
    "features = []\n",
    "input = test_dataset.__getitem__(0)[0].unsqueeze(0).unsqueeze(0).to(device)\n",
    "\n",
    "#define a funcion that return the squeezed output of the called layer\n",
    "def get_features_map(self, input, output):\n",
    "    features.append(output.squeeze(0))\n",
    "\n",
    "#used the method register_forward_hook to get the features maps\n",
    "hook_handle = conv_drop.fc1.register_forward_hook(get_features_map)\n",
    "conv_drop.eval()\n",
    "out = conv_drop(input)\n",
    "### Remove hook\n",
    "hook_handle.remove()\n",
    "\n",
    "#plot the filters and their relative feature maps for the first sample of the test_dataset\n",
    "plt.figure(figsize=(15,5))\n",
    "for i in range(1, 9):\n",
    "    plt.subplot(2,4,i)\n",
    "    plt.xticks([])\n",
    "    plt.yticks([])\n",
    "    plt.grid(False)\n",
    "    plt.imshow(filters_1[i-1], cmap='gray')\n",
    "plt.suptitle('Filters of the first convolutional layer') \n",
    "\n",
    "\n",
    "act = nn.ReLU()\n",
    "\n",
    "plt.figure(figsize=(15,5))\n",
    "for i in range(1, 9):\n",
    "    plt.subplot(2,4,i)\n",
    "    plt.xticks([])\n",
    "    plt.yticks([])\n",
    "    plt.grid(False)\n",
    "    plt.imshow(act(features[0][i-1]).cpu().detach().numpy(), cmap='gray')\n",
    "plt.suptitle('\\n Feature maps of the first convolutional layer') \n",
    "plt.show()"
   ]
  },
  {
   "cell_type": "code",
   "execution_count": null,
   "metadata": {
    "colab": {
     "base_uri": "https://localhost:8080/",
     "height": 535
    },
    "id": "TMa3s91YNASV",
    "outputId": "5a7e1a93-e3f1-4111-82f3-2275767f25f9"
   },
   "outputs": [
    {
     "data": {
      "image/png": "[encoded data removed]",
      "text/plain": [
       "<Figure size 1080x288 with 16 Axes>"
      ]
     },
     "metadata": {
      "tags": []
     },
     "output_type": "display_data"
    },
    {
     "data": {
      "image/png": "[encoded data removed]",
      "text/plain": [
       "<Figure size 1080x288 with 16 Axes>"
      ]
     },
     "metadata": {
      "tags": []
     },
     "output_type": "display_data"
    }
   ],
   "source": [
    "#first we collect the filters of the first convolutional layer \n",
    "#these are 16 as the number of neurons of the layer\n",
    "filters_2 = conv_drop.fc2.weight\n",
    "filters_2 = torch.squeeze(filters_2,1)\n",
    "\n",
    "filters_2  = filters_2.cpu().detach().numpy()\n",
    "\n",
    "features_2 = []\n",
    "input = test_dataset.__getitem__(0)[0].unsqueeze(0).unsqueeze(0).to(device)\n",
    "\n",
    "#define a function that return the squeezed output of the called layer\n",
    "def get_features_map(self, input, output):\n",
    "    features_2.append(output.squeeze(0))\n",
    "\n",
    "#used the method register_forward_hook to get the features maps\n",
    "hook_handle = conv_drop.fc2.register_forward_hook(get_features_map)\n",
    "conv_drop.eval()\n",
    "out = conv_drop(input)\n",
    "### Remove hook\n",
    "hook_handle.remove()\n",
    "\n",
    "\n",
    "plt.figure(figsize=(15,4))\n",
    "for i in range(1, 17):\n",
    "    plt.subplot(2,8,i)\n",
    "    plt.xticks([])\n",
    "    plt.yticks([])\n",
    "    plt.grid(False)\n",
    "    plt.imshow(filters_2[i-1][0], cmap='gray')\n",
    "plt.suptitle('Filters of the second convolutional layer') \n",
    "\n",
    "act = nn.ReLU()\n",
    "\n",
    "plt.figure(figsize=(15,4))\n",
    "for i in range(1, 17):\n",
    "    plt.subplot(2,8,i)\n",
    "    plt.xticks([])\n",
    "    plt.yticks([])\n",
    "    plt.grid(False)\n",
    "    plt.imshow(act(features_2[0][i-1]).cpu().detach().numpy(), cmap='gray')\n",
    "plt.suptitle('\\n Feature maps of the second convolutional layer') \n",
    "plt.show()"
   ]
  },
  {
   "cell_type": "code",
   "execution_count": null,
   "metadata": {
    "id": "5PkkNbI5cNdt"
   },
   "outputs": [],
   "source": [
    "#create an image with random uniform distributed noise\n",
    "img = np.uint8(np.random.uniform(0, 255, (width, heigth, 1)))/255"
   ]
  },
  {
   "cell_type": "code",
   "execution_count": null,
   "metadata": {
    "colab": {
     "base_uri": "https://localhost:8080/",
     "height": 283
    },
    "id": "MYO850bs1_5c",
    "outputId": "afd8958f-4f02-40cf-f4df-3f7bdc84fdc5"
   },
   "outputs": [
    {
     "data": {
      "text/plain": [
       "<matplotlib.image.AxesImage at 0x7f3cce90e358>"
      ]
     },
     "execution_count": 28,
     "metadata": {
      "tags": []
     },
     "output_type": "execute_result"
    },
    {
     "data": {
      "image/png": "[encoded data removed]",
      "text/plain": [
       "<Figure size 432x288 with 1 Axes>"
      ]
     },
     "metadata": {
      "needs_background": "light",
      "tags": []
     },
     "output_type": "display_data"
    }
   ],
   "source": [
    "#show the generated noisy image\n",
    "plt.imshow(img.squeeze(2),cmap = \"gray\")"
   ]
  },
  {
   "cell_type": "code",
   "execution_count": null,
   "metadata": {
    "id": "9aN4tJLkG35l"
   },
   "outputs": [],
   "source": [
    "img = torch.tensor(img.swapaxes(0, 2)).unsqueeze(0).float().to(device)\n",
    "img = img.clone().detach().requires_grad_(True)\n",
    "\n",
    "y = []\n",
    "act = nn.Softmax(dim=1)\n",
    "\n",
    "# Define optimizer for the image\n",
    "optimizer1 = optim.Adam([img], lr=0.01)\n",
    "\n",
    "\n",
    "conv_drop.eval()\n",
    "for i in range(0,150):\n",
    "    \n",
    "    output = conv_drop(img)\n",
    "\n",
    "    # Target specific class\n",
    "    class_loss = -output[0, 0]\n",
    "    \n",
    "    # Zero grads\n",
    "    conv_drop.zero_grad()\n",
    "    # Backward\n",
    "    class_loss.backward()\n",
    "    # Update image\n",
    "    optimizer1.step()\n",
    "\n",
    "    if i%10 == 0:\n",
    "      y.append(img.cpu())"
   ]
  },
  {
   "cell_type": "code",
   "execution_count": null,
   "metadata": {
    "colab": {
     "base_uri": "https://localhost:8080/",
     "height": 454
    },
    "id": "x3azwEUeKEZx",
    "outputId": "553f8cef-e69c-4558-eb64-c4f2b394ec5f"
   },
   "outputs": [
    {
     "name": "stdout",
     "output_type": "stream",
     "text": [
      "Softmax result of the interested class over the last ouput:  1.0\n"
     ]
    },
    {
     "data": {
      "image/png": "[encoded data removed]",
      "text/plain": [
       "<Figure size 1080x720 with 13 Axes>"
      ]
     },
     "metadata": {
      "tags": []
     },
     "output_type": "display_data"
    }
   ],
   "source": [
    "plt.figure(figsize=(15,10))\n",
    "\n",
    "for i in range(1, len(y)-1):\n",
    "    plt.subplot(4,5,i)\n",
    "    plt.xticks([])\n",
    "    plt.yticks([])\n",
    "    plt.grid(False)\n",
    "\n",
    "    plt.imshow(y[i-1].squeeze(0).squeeze(0).detach().numpy()*255, cmap='gray')\n",
    "\n",
    "\n",
    "print(\"Softmax result of the interested class over the last ouput: \", act(output)[0][0].item())"
   ]
  }
 ],
 "metadata": {
  "accelerator": "GPU",
  "colab": {
   "collapsed_sections": [],
   "name": "Giovanni_Gazzola_CLASSIFICATION_HMW1.ipynb",
   "provenance": [],
   "toc_visible": true
  },
  "kernelspec": {
   "display_name": "Python 3",
   "language": "python",
   "name": "python3"
  },
  "language_info": {
   "codemirror_mode": {
    "name": "ipython",
    "version": 3
   },
   "file_extension": ".py",
   "mimetype": "text/x-python",
   "name": "python",
   "nbconvert_exporter": "python",
   "pygments_lexer": "ipython3",
   "version": "3.7.7"
  }
 },
 "nbformat": 4,
 "nbformat_minor": 1
}
