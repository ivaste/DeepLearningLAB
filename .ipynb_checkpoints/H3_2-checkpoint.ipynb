{
 "cells": [
  {
   "cell_type": "markdown",
   "metadata": {
    "id": "zYncZVOyF8Rb"
   },
   "source": [
    "#NEURAL NETWORKS AND DEEP LEARNING\n",
    "> M.Sc. ICT FOR LIFE AND HEALTH\n",
    "> \n",
    "> Department of Information Engineering\n",
    "\n",
    "> M.Sc. COMPUTER ENGINEERING\n",
    ">\n",
    "> Department of Information Engineering\n",
    "\n",
    "> M.Sc. AUTOMATION ENGINEERING\n",
    ">\n",
    "> Department of Information Engineering\n",
    " \n",
    "> M.Sc. PHYSICS OF DATA\n",
    ">\n",
    "> Department of Physics and Astronomy\n",
    " \n",
    "> M.Sc. COGNITIVE NEUROSCIENCE AND CLINICAL NEUROPSYCHOLOGY\n",
    ">\n",
    "> Department of General Psychology\n",
    "\n",
    "---\n",
    "A.A. 2020/21 (6 CFU) - Dr. Alberto Testolin, Dr. Matteo Gadaleta\n",
    "---\n"
   ]
  },
  {
   "cell_type": "markdown",
   "metadata": {
    "id": "AgHJFDwYvgHg"
   },
   "source": [
    "# Homework 3 - Deep Reinforcement Learning\n",
    "# Simone Trevisan 1238612"
   ]
  },
  {
   "cell_type": "markdown",
   "metadata": {
    "id": "B_sYOS17V-IC"
   },
   "source": [
    "# DQN"
   ]
  },
  {
   "cell_type": "markdown",
   "metadata": {
    "id": "ri36Y2AP33G3"
   },
   "source": [
    "## Envinronment initialization"
   ]
  },
  {
   "cell_type": "code",
   "execution_count": 1,
   "metadata": {
    "colab": {
     "base_uri": "https://localhost:8080/"
    },
    "id": "jBelL8nBZVsn",
    "outputId": "ee550217-23d9-4d11-cfcf-8c5d029e5e72"
   },
   "outputs": [
    {
     "name": "stdout",
     "output_type": "stream",
     "text": [
      "Requirement already satisfied: gym in /usr/local/lib/python3.6/dist-packages (0.17.3)\n",
      "Requirement already satisfied: pyglet<=1.5.0,>=1.4.0 in /usr/local/lib/python3.6/dist-packages (from gym) (1.5.0)\n",
      "Requirement already satisfied: scipy in /usr/local/lib/python3.6/dist-packages (from gym) (1.4.1)\n",
      "Requirement already satisfied: numpy>=1.10.4 in /usr/local/lib/python3.6/dist-packages (from gym) (1.19.5)\n",
      "Requirement already satisfied: cloudpickle<1.7.0,>=1.2.0 in /usr/local/lib/python3.6/dist-packages (from gym) (1.3.0)\n",
      "Requirement already satisfied: future in /usr/local/lib/python3.6/dist-packages (from pyglet<=1.5.0,>=1.4.0->gym) (0.16.0)\n"
     ]
    }
   ],
   "source": [
    "!pip install gym"
   ]
  },
  {
   "cell_type": "code",
   "execution_count": 2,
   "metadata": {
    "id": "a7EkHQ0VsNnJ"
   },
   "outputs": [],
   "source": [
    "import random\n",
    "import torch\n",
    "import numpy as np\n",
    "import gym\n",
    "import matplotlib.pyplot as plt\n",
    "from tqdm.notebook import tqdm\n",
    "\n",
    "from torch import nn\n",
    "from collections import deque # this python module implements exactly what we need for the replay memeory\n",
    "import torchvision.transforms as T\n",
    "from PIL import Image"
   ]
  },
  {
   "cell_type": "code",
   "execution_count": 3,
   "metadata": {
    "colab": {
     "base_uri": "https://localhost:8080/"
    },
    "id": "V0HIwpatSteb",
    "outputId": "9b0813be-ab5a-4236-df3d-f216dd9e17ce"
   },
   "outputs": [
    {
     "name": "stdout",
     "output_type": "stream",
     "text": [
      "Hit:1 https://cloud.r-project.org/bin/linux/ubuntu bionic-cran40/ InRelease\n",
      "Ign:2 https://developer.download.nvidia.com/compute/cuda/repos/ubuntu1804/x86_64  InRelease\n",
      "Ign:3 https://developer.download.nvidia.com/compute/machine-learning/repos/ubuntu1804/x86_64  InRelease\n",
      "Hit:4 https://developer.download.nvidia.com/compute/cuda/repos/ubuntu1804/x86_64  Release\n",
      "Hit:5 https://developer.download.nvidia.com/compute/machine-learning/repos/ubuntu1804/x86_64  Release\n",
      "Hit:6 http://security.ubuntu.com/ubuntu bionic-security InRelease\n",
      "Hit:9 http://archive.ubuntu.com/ubuntu bionic InRelease\n",
      "Hit:10 http://archive.ubuntu.com/ubuntu bionic-updates InRelease\n",
      "Hit:11 http://archive.ubuntu.com/ubuntu bionic-backports InRelease\n",
      "Hit:12 http://ppa.launchpad.net/c2d4u.team/c2d4u4.0+/ubuntu bionic InRelease\n",
      "Hit:13 http://ppa.launchpad.net/cran/libgit2/ubuntu bionic InRelease\n",
      "Hit:14 http://ppa.launchpad.net/graphics-drivers/ppa/ubuntu bionic InRelease\n",
      "Reading package lists... Done\n",
      "Building dependency tree       \n",
      "Reading state information... Done\n",
      "51 packages can be upgraded. Run 'apt list --upgradable' to see them.\n",
      "Reading package lists... Done\n",
      "Building dependency tree       \n",
      "Reading state information... Done\n",
      "python-opengl is already the newest version (3.1.0+dfsg-1).\n",
      "0 upgraded, 0 newly installed, 0 to remove and 51 not upgraded.\n",
      "Reading package lists... Done\n",
      "Building dependency tree       \n",
      "Reading state information... Done\n",
      "xvfb is already the newest version (2:1.19.6-1ubuntu4.8).\n",
      "0 upgraded, 0 newly installed, 0 to remove and 51 not upgraded.\n",
      "Requirement already satisfied: pyvirtualdisplay in /usr/local/lib/python3.6/dist-packages (2.0)\n",
      "Requirement already satisfied: EasyProcess in /usr/local/lib/python3.6/dist-packages (from pyvirtualdisplay) (0.3)\n",
      "Requirement already satisfied: piglet in /usr/local/lib/python3.6/dist-packages (1.0.0)\n",
      "Requirement already satisfied: piglet-templates in /usr/local/lib/python3.6/dist-packages (from piglet) (1.1.0)\n",
      "Requirement already satisfied: astunparse in /usr/local/lib/python3.6/dist-packages (from piglet-templates->piglet) (1.6.3)\n",
      "Requirement already satisfied: attrs in /usr/local/lib/python3.6/dist-packages (from piglet-templates->piglet) (20.3.0)\n",
      "Requirement already satisfied: Parsley in /usr/local/lib/python3.6/dist-packages (from piglet-templates->piglet) (1.3)\n",
      "Requirement already satisfied: markupsafe in /usr/local/lib/python3.6/dist-packages (from piglet-templates->piglet) (1.1.1)\n",
      "Requirement already satisfied: wheel<1.0,>=0.23.0 in /usr/local/lib/python3.6/dist-packages (from astunparse->piglet-templates->piglet) (0.36.2)\n",
      "Requirement already satisfied: six<2.0,>=1.6.1 in /usr/local/lib/python3.6/dist-packages (from astunparse->piglet-templates->piglet) (1.15.0)\n"
     ]
    }
   ],
   "source": [
    "!apt update\n",
    "!apt-get install python-opengl -y\n",
    "!apt install xvfb -y\n",
    "!pip install pyvirtualdisplay\n",
    "!pip install piglet"
   ]
  },
  {
   "cell_type": "code",
   "execution_count": 4,
   "metadata": {
    "id": "jxM-vHKz1r_M"
   },
   "outputs": [],
   "source": [
    "import glob\n",
    "import io\n",
    "import base64\n",
    "import os\n",
    "from IPython.display import HTML\n",
    "from IPython import display as ipythondisplay\n",
    "from pyvirtualdisplay import Display\n",
    "from gym.wrappers import Monitor"
   ]
  },
  {
   "cell_type": "code",
   "execution_count": 5,
   "metadata": {
    "colab": {
     "base_uri": "https://localhost:8080/"
    },
    "id": "E0oXbzI2ZAfv",
    "outputId": "0fcee65c-de86-490c-a05d-df49c740f510"
   },
   "outputs": [
    {
     "data": {
      "text/plain": [
       "<pyvirtualdisplay.display.Display at 0x7f2763df84a8>"
      ]
     },
     "execution_count": 5,
     "metadata": {
      "tags": []
     },
     "output_type": "execute_result"
    }
   ],
   "source": [
    "display = Display(visible=0, size=(1400, 900))\n",
    "display.start()"
   ]
  },
  {
   "cell_type": "code",
   "execution_count": 6,
   "metadata": {
    "id": "yr5j5rz0ZEJf"
   },
   "outputs": [],
   "source": [
    "# This code creates a virtual display to draw game images on. \n",
    "# If you are running locally, just ignore it\n",
    "if type(os.environ.get(\"DISPLAY\")) is not str or len(os.environ.get(\"DISPLAY\"))==0:\n",
    "    !bash ../xvfb start\n",
    "    %env DISPLAY=:1"
   ]
  },
  {
   "cell_type": "code",
   "execution_count": 7,
   "metadata": {
    "id": "StaxWEA0Z-O1"
   },
   "outputs": [],
   "source": [
    "\"\"\"\n",
    "Utility functions to enable video recording of gym environment and displaying it\n",
    "To enable video, just do \"env = wrap_env(env)\"\"\n",
    "\"\"\"\n",
    "\n",
    "def show_videos():\n",
    "  mp4list = glob.glob('video/*.mp4')\n",
    "  mp4list.sort()\n",
    "  for mp4 in mp4list:\n",
    "    print(f\"\\nSHOWING VIDEO {mp4}\")\n",
    "    video = io.open(mp4, 'r+b').read()\n",
    "    encoded = base64.b64encode(video)\n",
    "    ipythondisplay.display(HTML(data='''<video alt=\"test\" autoplay \n",
    "                loop controls style=\"height: 400px;\">\n",
    "                <source src=\"data:video/mp4;base64,{0}\" type=\"video/mp4\" />\n",
    "             </video>'''.format(encoded.decode('ascii'))))\n",
    "    \n",
    "def wrap_env(env, video_callable=None):\n",
    "  env = Monitor(env, './video', force=True, video_callable=video_callable)\n",
    "  return env"
   ]
  },
  {
   "cell_type": "code",
   "execution_count": 8,
   "metadata": {
    "id": "-tfIw-taGBAP"
   },
   "outputs": [],
   "source": [
    "device = torch.device(\"cuda\") if torch.cuda.is_available() else torch.device(\"cpu\")"
   ]
  },
  {
   "cell_type": "markdown",
   "metadata": {
    "id": "wA_0gAmJfFlT"
   },
   "source": [
    "## Memories"
   ]
  },
  {
   "cell_type": "code",
   "execution_count": 9,
   "metadata": {
    "id": "1axKWEBl8uik"
   },
   "outputs": [],
   "source": [
    "class ReplayMemory(object):\n",
    "\n",
    "    def __init__(self, capacity):\n",
    "        self.memory = deque(maxlen=capacity) # Define a queue with maxlen \"capacity\"\n",
    "\n",
    "    def push(self, state, action, next_state, reward):\n",
    "        self.memory.append( (state, action, next_state, reward) ) # Add the tuple (state, action, next_state, reward) to the queue\n",
    "\n",
    "    def sample(self, batch_size):\n",
    "        batch_size = min(batch_size, len(self)) # Get all the samples if the requested batch_size is higher than the number of sample currently in the memory\n",
    "        return random.sample(self.memory, batch_size) # Randomly select \"batch_size\" samples\n",
    "\n",
    "    def __len__(self):\n",
    "        return len(self.memory) # Return the number of samples currently stored in the memory"
   ]
  },
  {
   "cell_type": "code",
   "execution_count": 10,
   "metadata": {
    "id": "o-JrWITSlh5i"
   },
   "outputs": [],
   "source": [
    "class ShortMemory(object):\n",
    "\n",
    "    def __init__(self, capacity):\n",
    "        self.memory = deque(maxlen=capacity) # Define a queue with maxlen \"capacity\"\n",
    "        for _ in range(capacity):\n",
    "          self.memory.append(torch.zeros((1,80,80)))\n",
    "\n",
    "    def push(self, state):\n",
    "      self.memory.append(state) # Add the last state to the queue\n",
    "\n",
    "    def get(self):\n",
    "      if self.memory[2] is None:\n",
    "        return None\n",
    "      else:\n",
    "        ch4_im = torch.stack((\n",
    "                            torch.squeeze(self.memory[2]),\n",
    "                            torch.squeeze(self.memory[1]),\n",
    "                            torch.squeeze(self.memory[0])))\n",
    "        return ch4_im\n",
    "\n",
    "    def __len__(self):\n",
    "        return len(self.memory) # Return the number of samples currently stored in the memory"
   ]
  },
  {
   "cell_type": "markdown",
   "metadata": {
    "id": "Y-nBdx6KfKNE"
   },
   "source": [
    "## Policy network"
   ]
  },
  {
   "cell_type": "markdown",
   "metadata": {
    "id": "-rdsRx6wfZw1"
   },
   "source": [
    "### Input sample"
   ]
  },
  {
   "cell_type": "code",
   "execution_count": 11,
   "metadata": {
    "colab": {
     "base_uri": "https://localhost:8080/",
     "height": 404
    },
    "id": "7cxgVl3aPplP",
    "outputId": "8dd44528-2a9f-4936-ea44-e9c6679326ac"
   },
   "outputs": [
    {
     "name": "stdout",
     "output_type": "stream",
     "text": [
      "torch.Size([1, 80, 80])\n",
      "tensor([[[-2.2222, -2.2222, -2.2222,  ..., -2.2222, -2.2222, -2.2222],\n",
      "         [-2.2222, -2.2222, -2.2222,  ..., -2.2222, -2.2222, -2.2222],\n",
      "         [-2.2222, -2.2222, -2.2222,  ..., -2.2222, -2.2222, -2.2222],\n",
      "         ...,\n",
      "         [-2.2222, -2.2222, -2.2222,  ..., -2.2222, -2.2222, -2.2222],\n",
      "         [-2.2222, -2.2222, -2.2222,  ..., -2.2222, -2.2222, -2.2222],\n",
      "         [-2.2222, -2.2222, -2.2222,  ..., -2.2222, -2.2222, -2.2222]]])\n"
     ]
    },
    {
     "data": {
      "image/png": "[encoded data removed]",
      "text/plain": [
       "<Figure size 432x288 with 1 Axes>"
      ]
     },
     "metadata": {
      "needs_background": "light",
      "tags": []
     },
     "output_type": "display_data"
    }
   ],
   "source": [
    "### Create environment\n",
    "env = gym.make('CartPole-v1') # Initialize the Gym environment\n",
    "env.seed(0) # Set a random seed for the environment (reproducible results)\n",
    "state = env.reset()\n",
    "for _ in range(7):\n",
    "  state = env.step(1)\n",
    "\n",
    "fig = env.render(mode='rgb_array')\n",
    "resize = T.Compose([T.ToPILImage(),\n",
    "                    T.Grayscale(),         \n",
    "                    T.Resize((160,240), interpolation=Image.CUBIC),\n",
    "                    T.ToTensor(),\n",
    "                    T.Normalize(mean=[0.5],\n",
    "                            std=[0.225]),\n",
    "                    lambda x: x<1,\n",
    "                    lambda x: x.float(),\n",
    "                    T.Normalize(mean=[0.5],\n",
    "                            std=[0.225])])\n",
    "fig = resize(fig)\n",
    "center = state[0][0]*25+120\n",
    "fig = T.functional.crop(fig,top=60,left=int(center-40),height=80,width=80)\n",
    "print(fig.shape)\n",
    "plt.imshow(np.squeeze(fig), 'gray')\n",
    "env.close()\n",
    "print(fig)"
   ]
  },
  {
   "cell_type": "markdown",
   "metadata": {
    "id": "oxeLBfPlFzsv"
   },
   "source": [
    "### Network definition"
   ]
  },
  {
   "cell_type": "code",
   "execution_count": 12,
   "metadata": {
    "id": "W41rXekb8x7K"
   },
   "outputs": [],
   "source": [
    "class DQN(nn.Module):\n",
    "\n",
    "    def __init__(self, channels, action_space_dim):\n",
    "        super().__init__()\n",
    "\n",
    "        self.conv = nn.Sequential(\n",
    "            # Size = 1x128x192\n",
    "                nn.Conv2d(in_channels = channels, out_channels = 64, kernel_size = 4, stride = 2, padding=0),\n",
    "                #nn.LeakyReLU(0.2, inplace=True),\n",
    "                nn.ReLU(),\n",
    "\n",
    "                #Size 64x64x96\n",
    "                nn.Conv2d(in_channels=64, out_channels=64, kernel_size=4, stride=2, padding=0),\n",
    "                #nn.BatchNorm2d(128),\n",
    "                #nn.LeakyReLU(0.2, inplace=True),\n",
    "                nn.ReLU(),\n",
    "\n",
    "                #Size 128x32x48\n",
    "                nn.Conv2d(in_channels=64, out_channels=64, kernel_size=3, stride=1, padding=0),\n",
    "                #nn.BatchNorm2d(256),\n",
    "                #nn.LeakyReLU(0.2, inplace=True),\n",
    "                nn.ReLU(),\n",
    "\n",
    "                #Size 128x16x24\n",
    "                #nn.Conv2d(in_channels=64, out_channels=16, kernel_size=4, stride=4, padding=1),\n",
    "                #nn.BatchNorm2d(16),\n",
    "                #nn.LeakyReLU(0.2, inplace=True),\n",
    "\n",
    "                #Size 16x4x6\n",
    "                )\n",
    "        self.linear = nn.Sequential(\n",
    "            nn.Flatten(),\n",
    "            nn.Linear(in_features=16384, out_features=512),\n",
    "            #nn.Tanh(),\n",
    "            nn.ReLU(),\n",
    "            nn.Linear(in_features=512, out_features=256),\n",
    "            nn.ReLU(),\n",
    "            nn.Linear(in_features=256, out_features=64),\n",
    "            nn.ReLU(),\n",
    "            nn.Linear(in_features=64, out_features=action_space_dim)\n",
    "        )\n",
    "\n",
    "    def forward(self, x):\n",
    "        return self.linear(self.conv(x))"
   ]
  },
  {
   "cell_type": "code",
   "execution_count": 13,
   "metadata": {
    "colab": {
     "base_uri": "https://localhost:8080/"
    },
    "id": "tLPAsTT4gpeW",
    "outputId": "d67c59b0-0b85-4345-8803-843ede9648a8"
   },
   "outputs": [
    {
     "name": "stdout",
     "output_type": "stream",
     "text": [
      "----------------------------------------------------------------\n",
      "        Layer (type)               Output Shape         Param #\n",
      "================================================================\n",
      "            Conv2d-1           [-1, 64, 39, 39]           3,136\n",
      "              ReLU-2           [-1, 64, 39, 39]               0\n",
      "            Conv2d-3           [-1, 64, 18, 18]          65,600\n",
      "              ReLU-4           [-1, 64, 18, 18]               0\n",
      "            Conv2d-5           [-1, 64, 16, 16]          36,928\n",
      "              ReLU-6           [-1, 64, 16, 16]               0\n",
      "           Flatten-7                [-1, 16384]               0\n",
      "            Linear-8                  [-1, 512]       8,389,120\n",
      "              ReLU-9                  [-1, 512]               0\n",
      "           Linear-10                  [-1, 256]         131,328\n",
      "             ReLU-11                  [-1, 256]               0\n",
      "           Linear-12                   [-1, 64]          16,448\n",
      "             ReLU-13                   [-1, 64]               0\n",
      "           Linear-14                    [-1, 2]             130\n",
      "================================================================\n",
      "Total params: 8,642,690\n",
      "Trainable params: 8,642,690\n",
      "Non-trainable params: 0\n",
      "----------------------------------------------------------------\n",
      "Input size (MB): 0.07\n",
      "Forward/backward pass size (MB): 2.19\n",
      "Params size (MB): 32.97\n",
      "Estimated Total Size (MB): 35.23\n",
      "----------------------------------------------------------------\n"
     ]
    }
   ],
   "source": [
    "dqn = DQN(3,2)\n",
    "\n",
    "from torchsummary import summary\n",
    "dqn.to(device)\n",
    "summary(dqn, input_size=(3,80,80))"
   ]
  },
  {
   "cell_type": "markdown",
   "metadata": {
    "id": "ynfEXqjGfbpl"
   },
   "source": [
    "### Exploration Policy"
   ]
  },
  {
   "cell_type": "markdown",
   "metadata": {
    "id": "3x-kRJbQfqBR"
   },
   "source": [
    "#### Epsilon-greedy policy\n"
   ]
  },
  {
   "cell_type": "code",
   "execution_count": 14,
   "metadata": {
    "id": "ZXfh_Ub1fv4c"
   },
   "outputs": [],
   "source": [
    "def choose_action_epsilon_greedy(net, state, epsilon):\n",
    "    \n",
    "    if epsilon > 1 or epsilon < 0:\n",
    "        raise Exception('The epsilon value must be between 0 and 1')\n",
    "                \n",
    "    # Evaluate the network output from the current state\n",
    "    with torch.no_grad():\n",
    "        net.eval()\n",
    "        state = torch.tensor(state, dtype=torch.float32) # Convert the state to tensor\n",
    "        state = torch.tensor(state, dtype=torch.float32).to(device)\n",
    "        net_out = net(state)\n",
    "\n",
    "    # Get the best action (argmax of the network output)\n",
    "    best_action = int(net_out.cpu().argmax())\n",
    "    # Get the number of possible actions\n",
    "    action_space_dim = net_out.shape[-1]\n",
    "\n",
    "    # Select a non optimal action with probability epsilon, otherwise choose the best action\n",
    "    if random.random() < epsilon:\n",
    "        # List of non-optimal actions\n",
    "        non_optimal_actions = [a for a in range(action_space_dim) if a != best_action]\n",
    "        # Select randomly\n",
    "        action = random.choice(non_optimal_actions)\n",
    "    else:\n",
    "        # Select best action\n",
    "        action = best_action\n",
    "        \n",
    "    return action, net_out.cpu().numpy()"
   ]
  },
  {
   "cell_type": "markdown",
   "metadata": {
    "id": "Vvxi7b82f0g4"
   },
   "source": [
    "#### Softmax policy"
   ]
  },
  {
   "cell_type": "code",
   "execution_count": 15,
   "metadata": {
    "id": "taW_cjBsf4sW"
   },
   "outputs": [],
   "source": [
    "def choose_action_softmax(net, state, temperature):\n",
    "    \n",
    "    if temperature < 0:\n",
    "        raise Exception('The temperature value must be greater than or equal to 0 ')\n",
    "        \n",
    "    # If the temperature is 0, just select the best action using the eps-greedy policy with epsilon = 0\n",
    "    if temperature == 0:\n",
    "        return choose_action_epsilon_greedy(net, state, 0)\n",
    "    \n",
    "    # Evaluate the network output from the current state\n",
    "    with torch.no_grad():\n",
    "        net.eval()\n",
    "        state = torch.tensor(state, dtype=torch.float32).to(device)\n",
    "        net_out = net(state)\n",
    "        #print(net_out)\n",
    "\n",
    "    # Apply softmax with temp\n",
    "    temperature = max(temperature, 1e-8) # set a minimum to the temperature for numerical stability\n",
    "    softmax_out = nn.functional.softmax(net_out.cpu()[0] / temperature, dim=0).numpy()\n",
    "    #print(softmax_out)            \n",
    "    # Sample the action using softmax output as mass pdf\n",
    "    all_possible_actions = np.arange(0, softmax_out.shape[-1])\n",
    "    #print(len(all_possible_actions))\n",
    "    action = np.random.choice(all_possible_actions, p=softmax_out) # this samples a random element from \"all_possible_actions\" with the probability distribution p (softmax_out in this case)\n",
    "    \n",
    "    return action, net_out.cpu().numpy()"
   ]
  },
  {
   "cell_type": "markdown",
   "metadata": {
    "id": "QMXhJfZcpqIA"
   },
   "source": [
    "#### Exploration profile"
   ]
  },
  {
   "cell_type": "code",
   "execution_count": 16,
   "metadata": {
    "colab": {
     "base_uri": "https://localhost:8080/",
     "height": 531
    },
    "id": "G-f78CC3ptt2",
    "outputId": "09b065cb-e229-407d-cec5-30d0b02b00fb"
   },
   "outputs": [
    {
     "name": "stderr",
     "output_type": "stream",
     "text": [
      "No handles with labels found to put in legend.\n"
     ]
    },
    {
     "data": {
      "text/plain": [
       "Text(0, 0.5, 'Exploration profile')"
      ]
     },
     "execution_count": 16,
     "metadata": {
      "tags": []
     },
     "output_type": "execute_result"
    },
    {
     "data": {
      "image/png": "[encoded data removed]",
      "text/plain": [
       "<Figure size 864x576 with 1 Axes>"
      ]
     },
     "metadata": {
      "needs_background": "light",
      "tags": []
     },
     "output_type": "display_data"
    }
   ],
   "source": [
    "### Define exploration profile\n",
    "initial_value = 5\n",
    "num_iterations = 250\n",
    "def gaussian(x, mu, sig):\n",
    "    return np.exp(-np.power(x - mu, 2.) / (2 * np.power(sig, 2.)))\n",
    "exp_decay = np.exp(-np.log(initial_value) / num_iterations * 6) # We compute the exponential decay in such a way the shape of the exploration profile does not depend on the number of iterations\n",
    "exp_profile = [initial_value * (exp_decay ** i) for i in range(num_iterations)]\n",
    "\n",
    "### Plot exp exploration profile\n",
    "plt.figure(figsize=(12,8))\n",
    "\n",
    "plt.plot(exp_profile)\n",
    "plt.legend()\n",
    "plt.grid()\n",
    "plt.xlabel('Iteration')\n",
    "plt.ylabel('Exploration profile')"
   ]
  },
  {
   "cell_type": "markdown",
   "metadata": {
    "id": "zjKmdFhowRbj"
   },
   "source": [
    "## Gym Environment (CartPole-v1)"
   ]
  },
  {
   "cell_type": "code",
   "execution_count": 17,
   "metadata": {
    "colab": {
     "base_uri": "https://localhost:8080/"
    },
    "id": "Ar0yNaNrCnjn",
    "outputId": "1d8e3d43-0c50-415c-d108-5577cc6b2e17"
   },
   "outputs": [
    {
     "name": "stdout",
     "output_type": "stream",
     "text": [
      "STATE SPACE SIZE: 4\n",
      "ACTION SPACE SIZE: 2\n"
     ]
    }
   ],
   "source": [
    "### Create environment\n",
    "env = gym.make('CartPole-v1') # Initialize the Gym environment\n",
    "env.seed(0) # Set a random seed for the environment (reproducible results)\n",
    "\n",
    "# Get the shapes of the state space (observation_space) and action space (action_space)\n",
    "state_space_dim = env.observation_space.shape[0]\n",
    "action_space_dim = env.action_space.n\n",
    "\n",
    "print(f\"STATE SPACE SIZE: {state_space_dim}\")\n",
    "print(f\"ACTION SPACE SIZE: {action_space_dim}\")"
   ]
  },
  {
   "cell_type": "markdown",
   "metadata": {
    "id": "9KXpjzf2vdeL"
   },
   "source": [
    "## Network update"
   ]
  },
  {
   "cell_type": "markdown",
   "metadata": {
    "id": "NZ3P9MKjxCAL"
   },
   "source": [
    "### Initialization"
   ]
  },
  {
   "cell_type": "code",
   "execution_count": 18,
   "metadata": {
    "id": "lVpk-g0i9d-B"
   },
   "outputs": [],
   "source": [
    "# Set random seeds\n",
    "torch.manual_seed(0)\n",
    "np.random.seed(0)\n",
    "random.seed(0)\n",
    "\n",
    "### PARAMETERS\n",
    "gamma = 0.99   # gamma parameter for the long term reward\n",
    "replay_memory_capacity = 30000   # Replay memory capacity\n",
    "lr = 1e-4   # Optimizer learning rate\n",
    "target_net_update_steps = 1   # Number of episodes to wait before updating the target network\n",
    "batch_size = 128   # Number of samples to take from the replay memory for each update\n",
    "bad_state_penalty = 0   # Penalty to the reward when we are in a bad state (in this case when the pole falls down) \n",
    "min_samples_for_training = 1000   # Minimum samples in the replay memory to enable the training"
   ]
  },
  {
   "cell_type": "code",
   "execution_count": 19,
   "metadata": {
    "id": "2k3ZQuh8xHo7"
   },
   "outputs": [],
   "source": [
    "### Initialize the replay memory\n",
    "replay_mem = ReplayMemory(replay_memory_capacity)  \n",
    "short_mem = ShortMemory(3)\n",
    "\n",
    "### Initialize the policy network\n",
    "policy_net = DQN(3, 2)\n",
    "policy_net.to(device)\n",
    "### Initialize the target network with the same weights of the policy network\n",
    "target_net = DQN(3, 2)\n",
    "target_net.to(device)\n",
    "target_net.load_state_dict(policy_net.state_dict()) # This will copy the weights of the policy network to the target network\n",
    "\n",
    "### Initialize the optimizer\n",
    "optimizer = torch.optim.RMSprop(policy_net.parameters(), lr=lr) # The optimizer will update ONLY the parameters of the policy network\n",
    "\n",
    "### Initialize the loss function (Huber loss)\n",
    "loss_fn = nn.SmoothL1Loss()"
   ]
  },
  {
   "cell_type": "markdown",
   "metadata": {
    "id": "LQUTrt8DzJXO"
   },
   "source": [
    "### Update function"
   ]
  },
  {
   "cell_type": "code",
   "execution_count": 20,
   "metadata": {
    "id": "Sj1hEvPOvkBX"
   },
   "outputs": [],
   "source": [
    "def update_step(policy_net, target_net, replay_mem, gamma, optimizer, loss_fn, batch_size):\n",
    "        \n",
    "    # Sample the data from the replay memory\n",
    "    batch = replay_mem.sample(batch_size)\n",
    "    batch_size = len(batch)\n",
    "\n",
    "    # Create tensors for each element of the batch\n",
    "    states = []\n",
    "    for i in range(len(batch)):\n",
    "      states.append(batch[i][0])\n",
    "    states = torch.stack(states)\n",
    "    states = states.squeeze()\n",
    "    actions     = torch.tensor([s[1] for s in batch], dtype=torch.int64)\n",
    "    rewards     = torch.tensor([s[3] for s in batch], dtype=torch.float32)\n",
    "\n",
    "    # Compute a mask of non-final states (all the elements where the next state is not None)\n",
    "    non_final_next_states = []\n",
    "    non_final_mask = []\n",
    "    for i in range(len(batch)):\n",
    "        if batch[i][2] is None:\n",
    "          non_final_mask.append(False)\n",
    "        else:\n",
    "          non_final_next_states.append(batch[i][2])\n",
    "          non_final_mask.append(True)\n",
    "    non_final_next_states = torch.stack(non_final_next_states).to(device)\n",
    "    non_final_mask = torch.tensor(non_final_mask,dtype=torch.bool)\n",
    "\n",
    "\n",
    "    # Compute all the Q values (forward pass)\n",
    "    policy_net.train()\n",
    "    states = states.to(device)\n",
    "    q_values = policy_net(states)\n",
    "    # Select the proper Q value for the corresponding action taken Q(s_t, a)\n",
    "    state_action_values = q_values.cpu().gather(1, actions.unsqueeze(1))\n",
    "\n",
    "    # Compute the value function of the next states using the target network V(s_{t+1}) = max_a( Q_target(s_{t+1}, a)) )\n",
    "    with torch.no_grad():\n",
    "      target_net.eval()\n",
    "      q_values_target = target_net(non_final_next_states)\n",
    "    next_state_max_q_values = torch.zeros(batch_size).to(device)\n",
    "    next_state_max_q_values[non_final_mask] = q_values_target.max(dim=1)[0]\n",
    "\n",
    "    # Compute the expected Q values\n",
    "    expected_state_action_values = rewards.cpu() + (next_state_max_q_values.cpu() * gamma)\n",
    "    expected_state_action_values = expected_state_action_values.unsqueeze(1) # Set the required tensor shape\n",
    "\n",
    "    # Compute the Huber loss\n",
    "    loss = loss_fn(state_action_values, expected_state_action_values)\n",
    "\n",
    "    # Optimize the model\n",
    "    optimizer.zero_grad()\n",
    "    loss.backward()\n",
    "    # Apply gradient clipping (clip all the gradients greater than 2 for training stability)\n",
    "    nn.utils.clip_grad_norm_(policy_net.parameters(), 2)\n",
    "    optimizer.step()"
   ]
  },
  {
   "cell_type": "markdown",
   "metadata": {
    "id": "03Ab0RMB5CCC"
   },
   "source": [
    "### Training loop"
   ]
  },
  {
   "cell_type": "code",
   "execution_count": 21,
   "metadata": {
    "colab": {
     "base_uri": "https://localhost:8080/",
     "height": 1000,
     "referenced_widgets": [
      "83b8f26b379843d8bc813b43e52989a3",
      "bb5edf936ec846c2b54f804e835a7ed9",
      "feedc5b13a244d848dc6f82dc27bc9c1",
      "abe557e207f64722aefbb0cfdfc1c22e",
      "a69d45a5f67546009397b23b4c5e2af1",
      "edcc60f4dd3b40288f1ec46b2a8c1731",
      "6f44b59d633147838391cb3f79cbea46",
      "07b04a1882cb426e9b6a47236177a6e1"
     ]
    },
    "id": "WF6Zf53FoRDZ",
    "outputId": "10c72387-7055-45e0-d3df-7ad6d93b1d83"
   },
   "outputs": [
    {
     "data": {
      "application/vnd.jupyter.widget-view+json": {
       "model_id": "83b8f26b379843d8bc813b43e52989a3",
       "version_major": 2,
       "version_minor": 0
      },
      "text/plain": [
       "HBox(children=(FloatProgress(value=0.0, max=250.0), HTML(value='')))"
      ]
     },
     "metadata": {
      "tags": []
     },
     "output_type": "display_data"
    },
    {
     "name": "stderr",
     "output_type": "stream",
     "text": [
      "/usr/local/lib/python3.6/dist-packages/ipykernel_launcher.py:9: UserWarning: To copy construct from a tensor, it is recommended to use sourceTensor.clone().detach() or sourceTensor.clone().detach().requires_grad_(True), rather than torch.tensor(sourceTensor).\n",
      "  if __name__ == '__main__':\n",
      "/usr/local/lib/python3.6/dist-packages/ipykernel_launcher.py:10: UserWarning: To copy construct from a tensor, it is recommended to use sourceTensor.clone().detach() or sourceTensor.clone().detach().requires_grad_(True), rather than torch.tensor(sourceTensor).\n",
      "  # Remove the CWD from sys.path while we load stuff.\n"
     ]
    },
    {
     "name": "stdout",
     "output_type": "stream",
     "text": [
      "Updating target network...\n",
      "EPISODE: 1 - FINAL SCORE: 22 - Epsilon: 0.5\n",
      "Updating target network...\n",
      "EPISODE: 2 - FINAL SCORE: 11 - Epsilon: 0.48105499030220605\n",
      "Updating target network...\n",
      "EPISODE: 3 - FINAL SCORE: 9 - Epsilon: 0.4628278073893112\n",
      "Updating target network...\n",
      "EPISODE: 4 - FINAL SCORE: 20 - Epsilon: 0.4452912527905129\n",
      "Updating target network...\n",
      "EPISODE: 5 - FINAL SCORE: 8 - Epsilon: 0.42841915858559476\n",
      "Updating target network...\n",
      "EPISODE: 6 - FINAL SCORE: 21 - Epsilon: 0.4121863483573452\n",
      "Updating target network...\n",
      "EPISODE: 7 - FINAL SCORE: 60 - Epsilon: 0.39656859962348884\n",
      "Updating target network...\n",
      "EPISODE: 8 - FINAL SCORE: 35 - Epsilon: 0.38154260769207377\n",
      "Updating target network...\n",
      "EPISODE: 9 - FINAL SCORE: 11 - Epsilon: 0.36708595088637797\n",
      "Updating target network...\n",
      "EPISODE: 10 - FINAL SCORE: 13 - Epsilon: 0.3531770570874453\n",
      "Updating target network...\n",
      "EPISODE: 11 - FINAL SCORE: 16 - Epsilon: 0.3397951715443254\n",
      "Updating target network...\n",
      "EPISODE: 12 - FINAL SCORE: 20 - Epsilon: 0.32692032590398384\n",
      "Updating target network...\n",
      "EPISODE: 13 - FINAL SCORE: 12 - Epsilon: 0.31453330841467003\n",
      "Updating target network...\n",
      "EPISODE: 14 - FINAL SCORE: 12 - Epsilon: 0.3026156352582798\n",
      "Updating target network...\n",
      "EPISODE: 15 - FINAL SCORE: 13 - Epsilon: 0.2911495229689354\n",
      "Updating target network...\n",
      "EPISODE: 16 - FINAL SCORE: 9 - Epsilon: 0.28011786189662635\n",
      "Updating target network...\n",
      "EPISODE: 17 - FINAL SCORE: 35 - Epsilon: 0.2695041906763126\n",
      "Updating target network...\n",
      "EPISODE: 18 - FINAL SCORE: 13 - Epsilon: 0.2592926716643949\n",
      "Updating target network...\n",
      "EPISODE: 19 - FINAL SCORE: 9 - Epsilon: 0.24946806730589718\n",
      "Updating target network...\n",
      "EPISODE: 20 - FINAL SCORE: 13 - Epsilon: 0.24001571739709698\n",
      "Updating target network...\n",
      "EPISODE: 21 - FINAL SCORE: 13 - Epsilon: 0.23092151720967508\n",
      "Updating target network...\n",
      "EPISODE: 22 - FINAL SCORE: 19 - Epsilon: 0.22217189644374188\n",
      "Updating target network...\n",
      "EPISODE: 23 - FINAL SCORE: 11 - Epsilon: 0.21375379897833396\n",
      "Updating target network...\n",
      "EPISODE: 24 - FINAL SCORE: 11 - Epsilon: 0.20565466338916435\n",
      "Updating target network...\n",
      "EPISODE: 25 - FINAL SCORE: 9 - Epsilon: 0.19786240420455584\n",
      "Updating target network...\n",
      "EPISODE: 26 - FINAL SCORE: 13 - Epsilon: 0.1903653938715876\n",
      "Updating target network...\n",
      "EPISODE: 27 - FINAL SCORE: 19 - Epsilon: 0.18315244540554443\n",
      "Updating target network...\n",
      "EPISODE: 28 - FINAL SCORE: 9 - Epsilon: 0.17621279569677903\n",
      "Updating target network...\n",
      "EPISODE: 29 - FINAL SCORE: 9 - Epsilon: 0.1695360894500773\n",
      "Updating target network...\n",
      "EPISODE: 30 - FINAL SCORE: 16 - Epsilon: 0.16311236373256177\n",
      "Updating target network...\n",
      "EPISODE: 31 - FINAL SCORE: 14 - Epsilon: 0.15693203310707485\n",
      "Updating target network...\n",
      "EPISODE: 32 - FINAL SCORE: 13 - Epsilon: 0.15098587532885877\n",
      "Updating target network...\n",
      "EPISODE: 33 - FINAL SCORE: 10 - Epsilon: 0.1452650175841885\n",
      "Updating target network...\n",
      "EPISODE: 34 - FINAL SCORE: 10 - Epsilon: 0.1397609232504232\n",
      "Updating target network...\n",
      "EPISODE: 35 - FINAL SCORE: 11 - Epsilon: 0.13446537915771942\n",
      "Updating target network...\n",
      "EPISODE: 36 - FINAL SCORE: 11 - Epsilon: 0.12937048333339835\n",
      "Updating target network...\n",
      "EPISODE: 37 - FINAL SCORE: 9 - Epsilon: 0.12446863321067932\n",
      "Updating target network...\n",
      "EPISODE: 38 - FINAL SCORE: 19 - Epsilon: 0.11975251428418439\n",
      "Updating target network...\n",
      "EPISODE: 39 - FINAL SCORE: 10 - Epsilon: 0.11521508919528625\n",
      "Updating target network...\n",
      "EPISODE: 40 - FINAL SCORE: 11 - Epsilon: 0.11084958723101246\n",
      "Updating target network...\n",
      "EPISODE: 41 - FINAL SCORE: 9 - Epsilon: 0.1066494942208365\n",
      "Updating target network...\n",
      "EPISODE: 42 - FINAL SCORE: 9 - Epsilon: 0.10260854281627937\n",
      "Updating target network...\n",
      "EPISODE: 43 - FINAL SCORE: 10 - Epsilon: 0.09872070313881755\n",
      "Updating target network...\n",
      "EPISODE: 44 - FINAL SCORE: 10 - Epsilon: 0.09498017378214169\n",
      "Updating target network...\n",
      "EPISODE: 45 - FINAL SCORE: 10 - Epsilon: 0.09138137315534005\n",
      "Updating target network...\n",
      "EPISODE: 46 - FINAL SCORE: 9 - Epsilon: 0.08791893115408876\n",
      "Updating target network...\n",
      "EPISODE: 47 - FINAL SCORE: 11 - Epsilon: 0.08458768114742099\n",
      "Updating target network...\n",
      "EPISODE: 48 - FINAL SCORE: 21 - Epsilon: 0.08138265226811742\n",
      "Updating target network...\n",
      "EPISODE: 49 - FINAL SCORE: 9 - Epsilon: 0.07829906199521408\n",
      "Updating target network...\n",
      "EPISODE: 50 - FINAL SCORE: 11 - Epsilon: 0.07533230901755908\n",
      "Updating target network...\n",
      "EPISODE: 51 - FINAL SCORE: 10 - Epsilon: 0.07247796636776936\n",
      "Updating target network...\n",
      "EPISODE: 52 - FINAL SCORE: 15 - Epsilon: 0.06973177481634182\n",
      "Updating target network...\n",
      "EPISODE: 53 - FINAL SCORE: 9 - Epsilon: 0.06708963651606187\n",
      "Updating target network...\n",
      "EPISODE: 54 - FINAL SCORE: 12 - Epsilon: 0.06454760888722534\n",
      "Updating target network...\n",
      "EPISODE: 55 - FINAL SCORE: 10 - Epsilon: 0.06210189873454956\n",
      "Updating target network...\n",
      "EPISODE: 56 - FINAL SCORE: 10 - Epsilon: 0.05974885658699465\n",
      "Updating target network...\n",
      "EPISODE: 57 - FINAL SCORE: 11 - Epsilon: 0.05748497125204923\n",
      "Updating target network...\n",
      "EPISODE: 58 - FINAL SCORE: 8 - Epsilon: 0.055306864576354274\n",
      "Updating target network...\n",
      "EPISODE: 59 - FINAL SCORE: 10 - Epsilon: 0.05321128640484707\n",
      "Updating target network...\n",
      "EPISODE: 60 - FINAL SCORE: 9 - Epsilon: 0.05119510973090323\n",
      "Updating target network...\n",
      "EPISODE: 61 - FINAL SCORE: 9 - Epsilon: 0.04925532603024007\n",
      "Updating target network...\n",
      "EPISODE: 62 - FINAL SCORE: 12 - Epsilon: 0.04738904077161828\n",
      "Updating target network...\n",
      "EPISODE: 63 - FINAL SCORE: 9 - Epsilon: 0.045593469097643356\n",
      "Updating target network...\n",
      "EPISODE: 64 - FINAL SCORE: 9 - Epsilon: 0.04386593166922152\n",
      "Updating target network...\n",
      "EPISODE: 65 - FINAL SCORE: 10 - Epsilon: 0.042203850667469185\n",
      "Updating target network...\n",
      "EPISODE: 66 - FINAL SCORE: 10 - Epsilon: 0.04060474594711029\n",
      "Updating target network...\n",
      "EPISODE: 67 - FINAL SCORE: 10 - Epsilon: 0.039066231335621364\n",
      "Updating target network...\n",
      "EPISODE: 68 - FINAL SCORE: 10 - Epsilon: 0.037586011072602156\n",
      "Updating target network...\n",
      "EPISODE: 69 - FINAL SCORE: 10 - Epsilon: 0.03616187638405848\n",
      "Updating target network...\n",
      "EPISODE: 70 - FINAL SCORE: 10 - Epsilon: 0.034791702186485654\n",
      "Updating target network...\n",
      "EPISODE: 71 - FINAL SCORE: 8 - Epsilon: 0.0334734439158342\n",
      "Updating target network...\n",
      "EPISODE: 72 - FINAL SCORE: 9 - Epsilon: 0.032205134476626124\n",
      "Updating target network...\n",
      "EPISODE: 73 - FINAL SCORE: 10 - Epsilon: 0.030984881306669248\n",
      "Updating target network...\n",
      "EPISODE: 74 - FINAL SCORE: 10 - Epsilon: 0.029810863552989564\n",
      "Updating target network...\n",
      "EPISODE: 75 - FINAL SCORE: 11 - Epsilon: 0.02868132935476757\n",
      "Updating target network...\n",
      "EPISODE: 76 - FINAL SCORE: 9 - Epsilon: 0.027594593229224185\n",
      "Updating target network...\n",
      "EPISODE: 77 - FINAL SCORE: 9 - Epsilon: 0.026549033556555524\n",
      "Updating target network...\n",
      "EPISODE: 78 - FINAL SCORE: 9 - Epsilon: 0.02554309016016353\n",
      "Updating target network...\n",
      "EPISODE: 79 - FINAL SCORE: 10 - Epsilon: 0.024575261978571683\n",
      "Updating target network...\n",
      "EPISODE: 80 - FINAL SCORE: 9 - Epsilon: 0.02364410482555195\n",
      "Updating target network...\n",
      "EPISODE: 81 - FINAL SCORE: 11 - Epsilon: 0.022748229235120477\n",
      "Updating target network...\n",
      "EPISODE: 82 - FINAL SCORE: 22 - Epsilon: 0.021886298388186485\n",
      "Updating target network...\n",
      "EPISODE: 83 - FINAL SCORE: 35 - Epsilon: 0.021057026117760478\n",
      "Updating target network...\n",
      "EPISODE: 84 - FINAL SCORE: 13 - Epsilon: 0.020259174989745134\n",
      "Updating target network...\n",
      "EPISODE: 85 - FINAL SCORE: 29 - Epsilon: 0.019491554456445084\n",
      "Updating target network...\n",
      "EPISODE: 86 - FINAL SCORE: 10 - Epsilon: 0.018753019080040224\n",
      "Updating target network...\n",
      "EPISODE: 87 - FINAL SCORE: 9 - Epsilon: 0.018042466823371673\n",
      "Updating target network...\n",
      "EPISODE: 88 - FINAL SCORE: 11 - Epsilon: 0.01735883740548987\n",
      "Updating target network...\n",
      "EPISODE: 89 - FINAL SCORE: 18 - Epsilon: 0.016701110719511005\n",
      "Updating target network...\n",
      "EPISODE: 90 - FINAL SCORE: 8 - Epsilon: 0.016068305310420875\n",
      "Updating target network...\n",
      "EPISODE: 91 - FINAL SCORE: 15 - Epsilon: 0.015459476910554801\n",
      "Updating target network...\n",
      "EPISODE: 92 - FINAL SCORE: 27 - Epsilon: 0.014873717030568237\n",
      "Updating target network...\n",
      "EPISODE: 93 - FINAL SCORE: 14 - Epsilon: 0.014310151603795524\n",
      "Updating target network...\n",
      "EPISODE: 94 - FINAL SCORE: 10 - Epsilon: 0.01376793968197391\n",
      "Updating target network...\n",
      "EPISODE: 95 - FINAL SCORE: 11 - Epsilon: 0.013246272180386634\n",
      "Updating target network...\n",
      "EPISODE: 96 - FINAL SCORE: 26 - Epsilon: 0.012744370670552552\n",
      "Updating target network...\n",
      "EPISODE: 97 - FINAL SCORE: 15 - Epsilon: 0.012261486218660755\n",
      "Updating target network...\n",
      "EPISODE: 98 - FINAL SCORE: 21 - Epsilon: 0.011796898268016966\n",
      "Updating target network...\n",
      "EPISODE: 99 - FINAL SCORE: 33 - Epsilon: 0.011349913563834028\n",
      "Updating target network...\n",
      "EPISODE: 100 - FINAL SCORE: 19 - Epsilon: 0.01091986511876211\n",
      "Updating target network...\n",
      "EPISODE: 101 - FINAL SCORE: 15 - Epsilon: 0.010506111217615011\n",
      "Updating target network...\n",
      "EPISODE: 102 - FINAL SCORE: 17 - Epsilon: 0.010108034459807376\n",
      "Updating target network...\n",
      "EPISODE: 103 - FINAL SCORE: 14 - Epsilon: 0.009725040838074005\n",
      "Updating target network...\n",
      "EPISODE: 104 - FINAL SCORE: 29 - Epsilon: 0.009356558852096498\n",
      "Updating target network...\n",
      "EPISODE: 105 - FINAL SCORE: 14 - Epsilon: 0.009002038655714603\n",
      "Updating target network...\n",
      "EPISODE: 106 - FINAL SCORE: 14 - Epsilon: 0.008660951236449747\n",
      "Updating target network...\n",
      "EPISODE: 107 - FINAL SCORE: 13 - Epsilon: 0.008332787626116426\n",
      "Updating target network...\n",
      "EPISODE: 108 - FINAL SCORE: 17 - Epsilon: 0.00801705814134356\n",
      "Updating target network...\n",
      "EPISODE: 109 - FINAL SCORE: 12 - Epsilon: 0.007713291652872498\n",
      "Updating target network...\n",
      "EPISODE: 110 - FINAL SCORE: 15 - Epsilon: 0.007421034882541333\n",
      "Updating target network...\n",
      "EPISODE: 111 - FINAL SCORE: 13 - Epsilon: 0.007139851726906508\n",
      "Updating target network...\n",
      "EPISODE: 112 - FINAL SCORE: 22 - Epsilon: 0.0068693226064924\n",
      "Updating target network...\n",
      "EPISODE: 113 - FINAL SCORE: 12 - Epsilon: 0.006609043839697853\n",
      "Updating target network...\n",
      "EPISODE: 114 - FINAL SCORE: 12 - Epsilon: 0.006358627040425412\n",
      "Updating target network...\n",
      "EPISODE: 115 - FINAL SCORE: 12 - Epsilon: 0.006117698538534384\n",
      "Updating target network...\n",
      "EPISODE: 116 - FINAL SCORE: 11 - Epsilon: 0.005885898822252957\n",
      "Updating target network...\n",
      "EPISODE: 117 - FINAL SCORE: 11 - Epsilon: 0.005662882001717325\n",
      "Updating target network...\n",
      "EPISODE: 118 - FINAL SCORE: 14 - Epsilon: 0.005448315292837331\n",
      "Updating target network...\n",
      "EPISODE: 119 - FINAL SCORE: 11 - Epsilon: 0.005241878520718447\n",
      "Updating target network...\n",
      "EPISODE: 120 - FINAL SCORE: 24 - Epsilon: 0.00504326364189911\n",
      "Updating target network...\n",
      "EPISODE: 121 - FINAL SCORE: 10 - Epsilon: 0.00485217428469049\n",
      "Updating target network...\n",
      "EPISODE: 122 - FINAL SCORE: 10 - Epsilon: 0.004668325306932795\n",
      "Updating target network...\n",
      "EPISODE: 123 - FINAL SCORE: 12 - Epsilon: 0.004491442370508199\n",
      "Updating target network...\n",
      "EPISODE: 124 - FINAL SCORE: 12 - Epsilon: 0.004321261531975478\n",
      "Updating target network...\n",
      "EPISODE: 125 - FINAL SCORE: 11 - Epsilon: 0.0041575288487155195\n",
      "Updating target network...\n",
      "EPISODE: 126 - FINAL SCORE: 14 - Epsilon: 0.003999999999999973\n",
      "Updating target network...\n",
      "EPISODE: 127 - FINAL SCORE: 12 - Epsilon: 0.0038484399224176227\n",
      "Updating target network...\n",
      "EPISODE: 128 - FINAL SCORE: 11 - Epsilon: 0.0037026224591144652\n",
      "Updating target network...\n",
      "EPISODE: 129 - FINAL SCORE: 10 - Epsilon: 0.003562330022324078\n",
      "Updating target network...\n",
      "EPISODE: 130 - FINAL SCORE: 11 - Epsilon: 0.0034273532686847344\n",
      "Updating target network...\n",
      "EPISODE: 131 - FINAL SCORE: 8 - Epsilon: 0.003297490786858739\n",
      "Updating target network...\n",
      "EPISODE: 132 - FINAL SCORE: 13 - Epsilon: 0.0031725487969878887\n",
      "Updating target network...\n",
      "EPISODE: 133 - FINAL SCORE: 10 - Epsilon: 0.0030523408615365697\n",
      "Updating target network...\n",
      "EPISODE: 134 - FINAL SCORE: 10 - Epsilon: 0.0029366876070910037\n",
      "Updating target network...\n",
      "EPISODE: 135 - FINAL SCORE: 10 - Epsilon: 0.0028254164566995435\n",
      "Updating target network...\n",
      "EPISODE: 136 - FINAL SCORE: 10 - Epsilon: 0.002718361372354585\n",
      "Updating target network...\n",
      "EPISODE: 137 - FINAL SCORE: 10 - Epsilon: 0.002615362607231853\n",
      "Updating target network...\n",
      "EPISODE: 138 - FINAL SCORE: 10 - Epsilon: 0.002516266467317343\n",
      "Updating target network...\n",
      "EPISODE: 139 - FINAL SCORE: 10 - Epsilon: 0.002420925082066222\n",
      "Updating target network...\n",
      "EPISODE: 140 - FINAL SCORE: 9 - Epsilon: 0.0023291961837514676\n",
      "Updating target network...\n",
      "EPISODE: 141 - FINAL SCORE: 13 - Epsilon: 0.0022409428951729953\n",
      "Updating target network...\n",
      "EPISODE: 142 - FINAL SCORE: 10 - Epsilon: 0.002156033525410486\n",
      "Updating target network...\n",
      "EPISODE: 143 - FINAL SCORE: 9 - Epsilon: 0.0020743413733151452\n",
      "Updating target network...\n",
      "EPISODE: 144 - FINAL SCORE: 8 - Epsilon: 0.0019957445384471643\n",
      "Updating target network...\n",
      "EPISODE: 145 - FINAL SCORE: 9 - Epsilon: 0.0019201257391767627\n",
      "Updating target network...\n",
      "EPISODE: 146 - FINAL SCORE: 11 - Epsilon: 0.0018473721376773878\n",
      "Updating target network...\n",
      "EPISODE: 147 - FINAL SCORE: 10 - Epsilon: 0.0017773751715499234\n",
      "Updating target network...\n",
      "EPISODE: 148 - FINAL SCORE: 52 - Epsilon: 0.0017100303918266605\n",
      "Updating target network...\n",
      "EPISODE: 149 - FINAL SCORE: 12 - Epsilon: 0.0016452373071133037\n",
      "Updating target network...\n",
      "EPISODE: 150 - FINAL SCORE: 13 - Epsilon: 0.001582899233636436\n",
      "Updating target network...\n",
      "EPISODE: 151 - FINAL SCORE: 31 - Epsilon: 0.0015229231509726903\n",
      "Updating target network...\n",
      "EPISODE: 152 - FINAL SCORE: 11 - Epsilon: 0.0014652195632443455\n",
      "Updating target network...\n",
      "EPISODE: 153 - FINAL SCORE: 52 - Epsilon: 0.0014097023655742227\n",
      "Updating target network...\n",
      "EPISODE: 154 - FINAL SCORE: 106 - Epsilon: 0.0013562887156006093\n",
      "Updating target network...\n",
      "EPISODE: 155 - FINAL SCORE: 94 - Epsilon: 0.0013048989098604854\n",
      "Updating target network...\n",
      "EPISODE: 156 - FINAL SCORE: 41 - Epsilon: 0.0012554562648565903\n",
      "Updating target network...\n",
      "EPISODE: 157 - FINAL SCORE: 64 - Epsilon: 0.0012078870026308618\n",
      "Updating target network...\n",
      "EPISODE: 158 - FINAL SCORE: 38 - Epsilon: 0.0011621201406735002\n",
      "Updating target network...\n",
      "EPISODE: 159 - FINAL SCORE: 54 - Epsilon: 0.001118087386003378\n",
      "Updating target network...\n",
      "EPISODE: 160 - FINAL SCORE: 27 - Epsilon: 0.001075723033261748\n",
      "Updating target network...\n",
      "EPISODE: 161 - FINAL SCORE: 62 - Epsilon: 0.0010349638666671797\n",
      "Updating target network...\n",
      "EPISODE: 162 - FINAL SCORE: 229 - Epsilon: 0.0009957490656854278\n",
      "Updating target network...\n",
      "EPISODE: 163 - FINAL SCORE: 66 - Epsilon: 0.0009580201142734685\n",
      "Updating target network...\n",
      "EPISODE: 164 - FINAL SCORE: 47 - Epsilon: 0.0009217207135622836\n",
      "Updating target network...\n",
      "EPISODE: 165 - FINAL SCORE: 170 - Epsilon: 0.0008867966978480937\n",
      "Updating target network...\n",
      "EPISODE: 166 - FINAL SCORE: 74 - Epsilon: 0.0008531959537666862\n",
      "Updating target network...\n",
      "EPISODE: 167 - FINAL SCORE: 41 - Epsilon: 0.0008208683425302294\n",
      "Updating target network...\n",
      "EPISODE: 168 - FINAL SCORE: 69 - Epsilon: 0.0007897656251105352\n",
      "Updating target network...\n",
      "EPISODE: 169 - FINAL SCORE: 56 - Epsilon: 0.0007598413902571284\n",
      "Updating target network...\n",
      "EPISODE: 170 - FINAL SCORE: 63 - Epsilon: 0.0007310509852427154\n",
      "Updating target network...\n",
      "EPISODE: 171 - FINAL SCORE: 129 - Epsilon: 0.0007033514492327054\n",
      "Updating target network...\n",
      "EPISODE: 172 - FINAL SCORE: 99 - Epsilon: 0.0006767014491793633\n",
      "Updating target network...\n",
      "EPISODE: 173 - FINAL SCORE: 55 - Epsilon: 0.0006510612181449349\n",
      "Updating target network...\n",
      "EPISODE: 174 - FINAL SCORE: 64 - Epsilon: 0.0006263924959617084\n",
      "Updating target network...\n",
      "EPISODE: 175 - FINAL SCORE: 103 - Epsilon: 0.0006026584721404686\n",
      "Updating target network...\n",
      "EPISODE: 176 - FINAL SCORE: 137 - Epsilon: 0.0005798237309421509\n",
      "Updating target network...\n",
      "EPISODE: 177 - FINAL SCORE: 38 - Epsilon: 0.0005578541985307308\n",
      "Updating target network...\n",
      "EPISODE: 178 - FINAL SCORE: 96 - Epsilon: 0.0005367170921284913\n",
      "Updating target network...\n",
      "EPISODE: 179 - FINAL SCORE: 85 - Epsilon: 0.0005163808710977992\n",
      "Updating target network...\n",
      "EPISODE: 180 - FINAL SCORE: 56 - Epsilon: 0.0004968151898763932\n",
      "Updating target network...\n",
      "EPISODE: 181 - FINAL SCORE: 52 - Epsilon: 0.00047799085269595407\n",
      "Updating target network...\n",
      "EPISODE: 182 - FINAL SCORE: 65 - Epsilon: 0.00045987977001639077\n",
      "Updating target network...\n",
      "EPISODE: 183 - FINAL SCORE: 94 - Epsilon: 0.0004424549166108313\n",
      "Updating target network...\n",
      "EPISODE: 184 - FINAL SCORE: 96 - Epsilon: 0.0004256902912387737\n",
      "Updating target network...\n",
      "EPISODE: 185 - FINAL SCORE: 46 - Epsilon: 0.0004095608778472232\n",
      "Updating target network...\n",
      "EPISODE: 186 - FINAL SCORE: 58 - Epsilon: 0.0003940426082419179\n",
      "Updating target network...\n",
      "EPISODE: 187 - FINAL SCORE: 130 - Epsilon: 0.00037911232617294366\n",
      "Updating target network...\n",
      "EPISODE: 188 - FINAL SCORE: 57 - Epsilon: 0.0003647477527811444\n",
      "Updating target network...\n",
      "EPISODE: 189 - FINAL SCORE: 45 - Epsilon: 0.0003509274533537698\n",
      "Updating target network...\n",
      "EPISODE: 190 - FINAL SCORE: 107 - Epsilon: 0.0003376308053397512\n",
      "Updating target network...\n",
      "EPISODE: 191 - FINAL SCORE: 36 - Epsilon: 0.00032483796757688013\n",
      "Updating target network...\n",
      "EPISODE: 192 - FINAL SCORE: 136 - Epsilon: 0.00031252985068496884\n",
      "Updating target network...\n",
      "EPISODE: 193 - FINAL SCORE: 162 - Epsilon: 0.0003006880885808152\n",
      "Updating target network...\n",
      "EPISODE: 194 - FINAL SCORE: 48 - Epsilon: 0.0002892950110724659\n",
      "Updating target network...\n",
      "EPISODE: 195 - FINAL SCORE: 95 - Epsilon: 0.0002783336174918834\n",
      "Updating target network...\n",
      "EPISODE: 196 - FINAL SCORE: 47 - Epsilon: 0.0002677875513266718\n",
      "Updating target network...\n",
      "EPISODE: 197 - FINAL SCORE: 119 - Epsilon: 0.00025764107581300726\n",
      "Updating target network...\n",
      "EPISODE: 198 - FINAL SCORE: 96 - Epsilon: 0.00024787905045335233\n",
      "Updating target network...\n",
      "EPISODE: 199 - FINAL SCORE: 139 - Epsilon: 0.00023848690842391491\n",
      "Updating target network...\n",
      "EPISODE: 200 - FINAL SCORE: 41 - Epsilon: 0.000229450634838139\n",
      "Updating target network...\n",
      "EPISODE: 201 - FINAL SCORE: 256 - Epsilon: 0.00022075674583379198\n",
      "Updating target network...\n",
      "EPISODE: 202 - FINAL SCORE: 69 - Epsilon: 0.00021239226845244275\n",
      "Updating target network...\n",
      "EPISODE: 203 - FINAL SCORE: 222 - Epsilon: 0.00020434472128130684\n",
      "Updating target network...\n",
      "EPISODE: 204 - FINAL SCORE: 115 - Epsilon: 0.00019660209582857214\n",
      "Updating target network...\n",
      "EPISODE: 205 - FINAL SCORE: 77 - Epsilon: 0.0001891528386044143\n",
      "Updating target network...\n",
      "EPISODE: 206 - FINAL SCORE: 64 - Epsilon: 0.00018198583388096259\n",
      "Updating target network...\n",
      "EPISODE: 207 - FINAL SCORE: 302 - Epsilon: 0.00017509038710549068\n",
      "Updating target network...\n",
      "EPISODE: 208 - FINAL SCORE: 120 - Epsilon: 0.00016845620894208267\n",
      "Updating target network...\n",
      "EPISODE: 209 - FINAL SCORE: 68 - Epsilon: 0.00016207339991795996\n",
      "Updating target network...\n",
      "EPISODE: 210 - FINAL SCORE: 28 - Epsilon: 0.00015593243565155962\n",
      "Updating target network...\n",
      "EPISODE: 211 - FINAL SCORE: 330 - Epsilon: 0.00015002415264032078\n",
      "Updating target network...\n",
      "EPISODE: 212 - FINAL SCORE: 135 - Epsilon: 0.0001443397345869724\n",
      "Updating target network...\n",
      "EPISODE: 213 - FINAL SCORE: 284 - Epsilon: 0.00013887069924391803\n",
      "Updating target network...\n",
      "EPISODE: 214 - FINAL SCORE: 113 - Epsilon: 0.00013360888575608714\n",
      "Updating target network...\n",
      "EPISODE: 215 - FINAL SCORE: 215 - Epsilon: 0.0001285464424833661\n",
      "Updating target network...\n",
      "EPISODE: 216 - FINAL SCORE: 126 - Epsilon: 0.00012367581528443757\n",
      "Updating target network...\n",
      "EPISODE: 217 - FINAL SCORE: 226 - Epsilon: 0.00011898973624454509\n",
      "Updating target network...\n",
      "EPISODE: 218 - FINAL SCORE: 430 - Epsilon: 0.0001144812128303634\n",
      "Updating target network...\n",
      "EPISODE: 219 - FINAL SCORE: 99 - Epsilon: 0.00011014351745579053\n",
      "Updating target network...\n",
      "EPISODE: 220 - FINAL SCORE: 126 - Epsilon: 0.00010597017744309235\n",
      "Updating target network...\n",
      "EPISODE: 221 - FINAL SCORE: 150 - Epsilon: 0.00010195496536441972\n",
      "Updating target network...\n",
      "EPISODE: 222 - FINAL SCORE: 111 - Epsilon: 9.809188974928536e-05\n",
      "Updating target network...\n",
      "EPISODE: 223 - FINAL SCORE: 31 - Epsilon: 9.437518614413509e-05\n",
      "Updating target network...\n",
      "EPISODE: 224 - FINAL SCORE: 125 - Epsilon: 9.079930851067161e-05\n",
      "Updating target network...\n",
      "EPISODE: 225 - FINAL SCORE: 278 - Epsilon: 8.73589209500963e-05\n",
      "Updating target network...\n",
      "EPISODE: 226 - FINAL SCORE: 55 - Epsilon: 8.404888974091952e-05\n",
      "Updating target network...\n",
      "EPISODE: 227 - FINAL SCORE: 74 - Epsilon: 8.086427567845847e-05\n",
      "Updating target network...\n",
      "EPISODE: 228 - FINAL SCORE: 132 - Epsilon: 7.780032670459152e-05\n",
      "Updating target network...\n",
      "EPISODE: 229 - FINAL SCORE: 80 - Epsilon: 7.485247081677148e-05\n",
      "Updating target network...\n",
      "EPISODE: 230 - FINAL SCORE: 127 - Epsilon: 7.201630924571634e-05\n",
      "Updating target network...\n",
      "EPISODE: 231 - FINAL SCORE: 168 - Epsilon: 6.92876098915975e-05\n",
      "Updating target network...\n",
      "EPISODE: 232 - FINAL SCORE: 165 - Epsilon: 6.666230100893095e-05\n",
      "Updating target network...\n",
      "EPISODE: 233 - FINAL SCORE: 91 - Epsilon: 6.413646513074804e-05\n",
      "Updating target network...\n",
      "EPISODE: 234 - FINAL SCORE: 215 - Epsilon: 6.170633322297956e-05\n",
      "Updating target network...\n",
      "EPISODE: 235 - FINAL SCORE: 134 - Epsilon: 5.936827906033027e-05\n",
      "Updating target network...\n",
      "EPISODE: 236 - FINAL SCORE: 60 - Epsilon: 5.711881381525168e-05\n",
      "Updating target network...\n",
      "EPISODE: 237 - FINAL SCORE: 85 - Epsilon: 5.495458085193883e-05\n",
      "Updating target network...\n",
      "EPISODE: 238 - FINAL SCORE: 51 - Epsilon: 5.287235071758247e-05\n",
      "Updating target network...\n",
      "EPISODE: 239 - FINAL SCORE: 113 - Epsilon: 5.086901632340295e-05\n",
      "Updating target network...\n",
      "EPISODE: 240 - FINAL SCORE: 61 - Epsilon: 4.894158830827474e-05\n",
      "Updating target network...\n",
      "EPISODE: 241 - FINAL SCORE: 75 - Epsilon: 4.708719057802334e-05\n",
      "Updating target network...\n",
      "EPISODE: 242 - FINAL SCORE: 121 - Epsilon: 4.5303056013738295e-05\n",
      "Updating target network...\n",
      "EPISODE: 243 - FINAL SCORE: 118 - Epsilon: 4.358652234269836e-05\n",
      "Updating target network...\n",
      "EPISODE: 244 - FINAL SCORE: 45 - Epsilon: 4.193502816574729e-05\n",
      "Updating target network...\n",
      "EPISODE: 245 - FINAL SCORE: 98 - Epsilon: 4.0346109135192606e-05\n",
      "Updating target network...\n",
      "EPISODE: 246 - FINAL SCORE: 90 - Epsilon: 3.881739427752366e-05\n",
      "Updating target network...\n",
      "EPISODE: 247 - FINAL SCORE: 60 - Epsilon: 3.734660245546211e-05\n",
      "Updating target network...\n",
      "EPISODE: 248 - FINAL SCORE: 18 - Epsilon: 3.5931538964065345e-05\n",
      "Updating target network...\n",
      "EPISODE: 249 - FINAL SCORE: 274 - Epsilon: 3.457009225580359e-05\n",
      "Updating target network...\n",
      "EPISODE: 250 - FINAL SCORE: 226 - Epsilon: 3.326023078972393e-05\n",
      "\n"
     ]
    },
    {
     "data": {
      "text/plain": [
       "Text(0, 0.5, 'Scores')"
      ]
     },
     "execution_count": 21,
     "metadata": {
      "tags": []
     },
     "output_type": "execute_result"
    },
    {
     "data": {
      "image/png": "[encoded data removed]",
      "text/plain": [
       "<Figure size 864x576 with 1 Axes>"
      ]
     },
     "metadata": {
      "needs_background": "light",
      "tags": []
     },
     "output_type": "display_data"
    }
   ],
   "source": [
    "# Initialize the Gym environment\n",
    "import math\n",
    "env = gym.make('CartPole-v1') \n",
    "env.seed(0) # Set a random seed for the environment (reproducible results)\n",
    "# This is for creating the output video in Colab, not required outside Colab\n",
    "#env = wrap_env(env, video_callable=lambda episode_id: episode_id % 100 == 0) # Save a video every 100 episodes\n",
    "scores_l = []\n",
    "for episode_num, tau in enumerate(tqdm(exp_profile)):\n",
    "\n",
    "    # Reset the environment and get the initial state\n",
    "    #state = env.reset()\n",
    "    num_states = env.reset()\n",
    "    short_mem = ShortMemory(3)\n",
    "    fig = env.render(mode='rgb_array')\n",
    "    state = resize(fig)\n",
    "    center = num_states[0]*25+120\n",
    "    state = T.functional.crop(state,top=60,left=int(center-40),height=80,width=80)\n",
    "    short_mem.push(state)\n",
    "    last4_states = short_mem.get()\n",
    "    last4_states = last4_states.unsqueeze(0)\n",
    "\n",
    "    # Reset the score. The final score will be the total amount of steps before the pole falls\n",
    "    score = 0\n",
    "    done = False\n",
    "\n",
    "    # Go on until the pole falls off\n",
    "    while not done:\n",
    "      # Choose the action following the policy\n",
    "      action, q_values = choose_action_epsilon_greedy(policy_net, last4_states, epsilon = tau/10)\n",
    "      \n",
    "      # Apply the action and get the next state, the reward and a flag \"done\" that is True if the game is ended\n",
    "      next_state, reward, done, info = env.step(action)\n",
    "\n",
    "      # Update the final score (+1 for each step)\n",
    "      score += 1\n",
    "\n",
    "      # Apply penalty for bad state\n",
    "      if done: # if the pole has fallen down\n",
    "        #if episode_num < 30: \n",
    "        #  reward = reward/3\n",
    "        next_state = None\n",
    "      \n",
    "      # We apply a (linear) penalty when the cart is far from center\n",
    "      pos_weight = 1\n",
    "      reward = reward - pos_weight * np.abs(num_states[0]) \n",
    "      num_states = next_state\n",
    "      if next_state is not None:\n",
    "        fig = env.render(mode='rgb_array')\n",
    "        next_state = resize(fig)\n",
    "        center = num_states[0]*25+120\n",
    "        next_state = T.functional.crop(next_state,top=60,left=int(center-40),height=80,width=80)\n",
    "        short_mem.push(next_state)\n",
    "        next4_states = short_mem.get()\n",
    "        replay_mem.push(last4_states, action, next4_states, reward)\n",
    "        next4_states = next4_states.unsqueeze(0)\n",
    "      else:\n",
    "        replay_mem.push(last4_states, action, next_state, reward)\n",
    "      \n",
    "\n",
    "      # Update the network\n",
    "      if len(replay_mem) > min_samples_for_training: # we enable the training only if we have enough samples in the replay memory, otherwise the training will use the same samples too often\n",
    "          update_step(policy_net, target_net, replay_mem, gamma, optimizer, loss_fn, batch_size)\n",
    "          \n",
    "\n",
    "      # Visually render the environment (disable to speed up the training)\n",
    "      #env.render()\n",
    "\n",
    "      # Set the current state for the next iteration\n",
    "      last4_states = next4_states\n",
    "\n",
    "    # Update the target network every target_net_update_steps episodes\n",
    "    if episode_num % target_net_update_steps == 0:\n",
    "        print('Updating target network...')\n",
    "        target_net.load_state_dict(policy_net.state_dict()) # This will copy the weights of the policy network to the target network\n",
    "\n",
    "    # Print the final score\n",
    "    scores_l.append(score)\n",
    "    print(f\"EPISODE: {episode_num + 1} - FINAL SCORE: {score} - Epsilon: {tau/10}\") # Print the final score\n",
    "\n",
    "env.close()\n",
    "### Plot exp exploration profile\n",
    "plt.figure(figsize=(12,8))\n",
    "plt.plot(scores_l, label='exp profile scores')\n",
    "plt.legend()\n",
    "plt.grid()\n",
    "plt.xlabel('Iteration')\n",
    "plt.ylabel('Scores')"
   ]
  },
  {
   "cell_type": "code",
   "execution_count": 22,
   "metadata": {
    "id": "7FQjjVTiP2T6"
   },
   "outputs": [],
   "source": [
    "# Display the videos, not required outside Colab\n",
    "show_videos()"
   ]
  },
  {
   "cell_type": "markdown",
   "metadata": {
    "id": "JkG9iDZTIhzc"
   },
   "source": [
    "## Final test"
   ]
  },
  {
   "cell_type": "code",
   "execution_count": 23,
   "metadata": {
    "colab": {
     "base_uri": "https://localhost:8080/"
    },
    "id": "vJKgnu3_IjWE",
    "outputId": "a7646843-a343-414d-e59a-fe69c69f2a0a"
   },
   "outputs": [
    {
     "name": "stderr",
     "output_type": "stream",
     "text": [
      "/usr/local/lib/python3.6/dist-packages/ipykernel_launcher.py:9: UserWarning: To copy construct from a tensor, it is recommended to use sourceTensor.clone().detach() or sourceTensor.clone().detach().requires_grad_(True), rather than torch.tensor(sourceTensor).\n",
      "  if __name__ == '__main__':\n",
      "/usr/local/lib/python3.6/dist-packages/ipykernel_launcher.py:10: UserWarning: To copy construct from a tensor, it is recommended to use sourceTensor.clone().detach() or sourceTensor.clone().detach().requires_grad_(True), rather than torch.tensor(sourceTensor).\n",
      "  # Remove the CWD from sys.path while we load stuff.\n"
     ]
    },
    {
     "name": "stdout",
     "output_type": "stream",
     "text": [
      "EPISODE 1 - FINAL SCORE: 23.0\n",
      "EPISODE 2 - FINAL SCORE: 59.0\n",
      "EPISODE 3 - FINAL SCORE: 46.0\n",
      "EPISODE 4 - FINAL SCORE: 88.0\n",
      "EPISODE 5 - FINAL SCORE: 55.0\n",
      "EPISODE 6 - FINAL SCORE: 44.0\n",
      "EPISODE 7 - FINAL SCORE: 37.0\n",
      "EPISODE 8 - FINAL SCORE: 46.0\n",
      "EPISODE 9 - FINAL SCORE: 111.0\n",
      "EPISODE 10 - FINAL SCORE: 49.0\n"
     ]
    }
   ],
   "source": [
    "# Initialize the Gym environment\n",
    "env = gym.make('CartPole-v1') \n",
    "env.seed(1) # Set a random seed for the environment (reproducible results)\n",
    "\n",
    "# This is for creating the output video in Colab, not required outside Colab\n",
    "#env = wrap_env(env, video_callable=lambda episode_id: True) # Save a video every episode\n",
    "\n",
    "# Let's try for a total of 10 episodes\n",
    "for num_episode in range(10): \n",
    "    # Reset the environment and get the initial state\n",
    "    num_states = env.reset()\n",
    "    short_mem = ShortMemory(3)\n",
    "    fig = env.render(mode='rgb_array')\n",
    "    state = resize(fig)\n",
    "    center = num_states[0]*25+120\n",
    "    state = T.functional.crop(state,top=60,left=int(center-40),height=80,width=80)\n",
    "    short_mem.push(state)\n",
    "    last4_states = short_mem.get()\n",
    "    last4_states = last4_states.unsqueeze(0)\n",
    "    # Reset the score. The final score will be the total amount of steps before the pole falls\n",
    "    score = 0\n",
    "    done = False\n",
    "    # Go on until the pole falls off or the score reach 490\n",
    "    while not done:\n",
    "      # Choose the best action (temperature 0)\n",
    "      action, q_values = choose_action_epsilon_greedy(policy_net, last4_states, epsilon = 0)\n",
    "      #print(action)\n",
    "      # Apply the action and get the next state, the reward and a flag \"done\" that is True if the game is ended\n",
    "      next_state, reward, done, info = env.step(action)\n",
    "      # Visually render the environment\n",
    "      #env.render()\n",
    "      # Update the final score (+1 for each step)\n",
    "      score += reward \n",
    "      fig = env.render(mode='rgb_array')\n",
    "      num_states = next_state\n",
    "      next_state = resize(fig)\n",
    "      center = num_states[0]*25+120\n",
    "      next_state = T.functional.crop(next_state,top=60,left=int(center-40),height=80,width=80)\n",
    "      short_mem.push(next_state)\n",
    "      next4_states = short_mem.get()\n",
    "      next4_states = next4_states.unsqueeze(0)\n",
    "      #next_state = next_state.unsqueeze(0)\n",
    "      # Set the current state for the next iteration\n",
    "      last4_states = next4_states\n",
    "      # Check if the episode ended (the pole fell down)\n",
    "    # Print the final score\n",
    "    print(f\"EPISODE {num_episode + 1} - FINAL SCORE: {score}\") \n",
    "env.close()"
   ]
  },
  {
   "cell_type": "code",
   "execution_count": 24,
   "metadata": {
    "id": "mxdtGJutLqlw"
   },
   "outputs": [],
   "source": [
    "# Display the videos, not required outside Colab\n",
    "show_videos()"
   ]
  },
  {
   "cell_type": "code",
   "execution_count": 25,
   "metadata": {
    "id": "v5IG3HjCWEeW"
   },
   "outputs": [],
   "source": [
    "torch.save(policy_net.state_dict(), 'policy_params.pth')\n",
    "torch.save(target_net.state_dict(), 'target_params.pth')"
   ]
  }
 ],
 "metadata": {
  "accelerator": "GPU",
  "colab": {
   "collapsed_sections": [
    "ri36Y2AP33G3",
    "wA_0gAmJfFlT",
    "Y-nBdx6KfKNE",
    "QMXhJfZcpqIA",
    "zjKmdFhowRbj"
   ],
   "machine_shape": "hm",
   "name": "milestone.ipynb",
   "provenance": [],
   "toc_visible": true
  },
  "kernelspec": {
   "display_name": "Python 3",
   "language": "python",
   "name": "python3"
  },
  "language_info": {
   "codemirror_mode": {
    "name": "ipython",
    "version": 3
   },
   "file_extension": ".py",
   "mimetype": "text/x-python",
   "name": "python",
   "nbconvert_exporter": "python",
   "pygments_lexer": "ipython3",
   "version": "3.7.7"
  },
  "widgets": {
   "application/vnd.jupyter.widget-state+json": {
    "07b04a1882cb426e9b6a47236177a6e1": {
     "model_module": "@jupyter-widgets/base",
     "model_name": "LayoutModel",
     "state": {
      "_model_module": "@jupyter-widgets/base",
      "_model_module_version": "1.2.0",
      "_model_name": "LayoutModel",
      "_view_count": null,
      "_view_module": "@jupyter-widgets/base",
      "_view_module_version": "1.2.0",
      "_view_name": "LayoutView",
      "align_content": null,
      "align_items": null,
      "align_self": null,
      "border": null,
      "bottom": null,
      "display": null,
      "flex": null,
      "flex_flow": null,
      "grid_area": null,
      "grid_auto_columns": null,
      "grid_auto_flow": null,
      "grid_auto_rows": null,
      "grid_column": null,
      "grid_gap": null,
      "grid_row": null,
      "grid_template_areas": null,
      "grid_template_columns": null,
      "grid_template_rows": null,
      "height": null,
      "justify_content": null,
      "justify_items": null,
      "left": null,
      "margin": null,
      "max_height": null,
      "max_width": null,
      "min_height": null,
      "min_width": null,
      "object_fit": null,
      "object_position": null,
      "order": null,
      "overflow": null,
      "overflow_x": null,
      "overflow_y": null,
      "padding": null,
      "right": null,
      "top": null,
      "visibility": null,
      "width": null
     }
    },
    "6f44b59d633147838391cb3f79cbea46": {
     "model_module": "@jupyter-widgets/controls",
     "model_name": "DescriptionStyleModel",
     "state": {
      "_model_module": "@jupyter-widgets/controls",
      "_model_module_version": "1.5.0",
      "_model_name": "DescriptionStyleModel",
      "_view_count": null,
      "_view_module": "@jupyter-widgets/base",
      "_view_module_version": "1.2.0",
      "_view_name": "StyleView",
      "description_width": ""
     }
    },
    "83b8f26b379843d8bc813b43e52989a3": {
     "model_module": "@jupyter-widgets/controls",
     "model_name": "HBoxModel",
     "state": {
      "_dom_classes": [],
      "_model_module": "@jupyter-widgets/controls",
      "_model_module_version": "1.5.0",
      "_model_name": "HBoxModel",
      "_view_count": null,
      "_view_module": "@jupyter-widgets/controls",
      "_view_module_version": "1.5.0",
      "_view_name": "HBoxView",
      "box_style": "",
      "children": [
       "IPY_MODEL_feedc5b13a244d848dc6f82dc27bc9c1",
       "IPY_MODEL_abe557e207f64722aefbb0cfdfc1c22e"
      ],
      "layout": "IPY_MODEL_bb5edf936ec846c2b54f804e835a7ed9"
     }
    },
    "a69d45a5f67546009397b23b4c5e2af1": {
     "model_module": "@jupyter-widgets/controls",
     "model_name": "ProgressStyleModel",
     "state": {
      "_model_module": "@jupyter-widgets/controls",
      "_model_module_version": "1.5.0",
      "_model_name": "ProgressStyleModel",
      "_view_count": null,
      "_view_module": "@jupyter-widgets/base",
      "_view_module_version": "1.2.0",
      "_view_name": "StyleView",
      "bar_color": null,
      "description_width": "initial"
     }
    },
    "abe557e207f64722aefbb0cfdfc1c22e": {
     "model_module": "@jupyter-widgets/controls",
     "model_name": "HTMLModel",
     "state": {
      "_dom_classes": [],
      "_model_module": "@jupyter-widgets/controls",
      "_model_module_version": "1.5.0",
      "_model_name": "HTMLModel",
      "_view_count": null,
      "_view_module": "@jupyter-widgets/controls",
      "_view_module_version": "1.5.0",
      "_view_name": "HTMLView",
      "description": "",
      "description_tooltip": null,
      "layout": "IPY_MODEL_07b04a1882cb426e9b6a47236177a6e1",
      "placeholder": "​",
      "style": "IPY_MODEL_6f44b59d633147838391cb3f79cbea46",
      "value": " 250/250 [07:16&lt;00:00,  1.75s/it]"
     }
    },
    "bb5edf936ec846c2b54f804e835a7ed9": {
     "model_module": "@jupyter-widgets/base",
     "model_name": "LayoutModel",
     "state": {
      "_model_module": "@jupyter-widgets/base",
      "_model_module_version": "1.2.0",
      "_model_name": "LayoutModel",
      "_view_count": null,
      "_view_module": "@jupyter-widgets/base",
      "_view_module_version": "1.2.0",
      "_view_name": "LayoutView",
      "align_content": null,
      "align_items": null,
      "align_self": null,
      "border": null,
      "bottom": null,
      "display": null,
      "flex": null,
      "flex_flow": null,
      "grid_area": null,
      "grid_auto_columns": null,
      "grid_auto_flow": null,
      "grid_auto_rows": null,
      "grid_column": null,
      "grid_gap": null,
      "grid_row": null,
      "grid_template_areas": null,
      "grid_template_columns": null,
      "grid_template_rows": null,
      "height": null,
      "justify_content": null,
      "justify_items": null,
      "left": null,
      "margin": null,
      "max_height": null,
      "max_width": null,
      "min_height": null,
      "min_width": null,
      "object_fit": null,
      "object_position": null,
      "order": null,
      "overflow": null,
      "overflow_x": null,
      "overflow_y": null,
      "padding": null,
      "right": null,
      "top": null,
      "visibility": null,
      "width": null
     }
    },
    "edcc60f4dd3b40288f1ec46b2a8c1731": {
     "model_module": "@jupyter-widgets/base",
     "model_name": "LayoutModel",
     "state": {
      "_model_module": "@jupyter-widgets/base",
      "_model_module_version": "1.2.0",
      "_model_name": "LayoutModel",
      "_view_count": null,
      "_view_module": "@jupyter-widgets/base",
      "_view_module_version": "1.2.0",
      "_view_name": "LayoutView",
      "align_content": null,
      "align_items": null,
      "align_self": null,
      "border": null,
      "bottom": null,
      "display": null,
      "flex": null,
      "flex_flow": null,
      "grid_area": null,
      "grid_auto_columns": null,
      "grid_auto_flow": null,
      "grid_auto_rows": null,
      "grid_column": null,
      "grid_gap": null,
      "grid_row": null,
      "grid_template_areas": null,
      "grid_template_columns": null,
      "grid_template_rows": null,
      "height": null,
      "justify_content": null,
      "justify_items": null,
      "left": null,
      "margin": null,
      "max_height": null,
      "max_width": null,
      "min_height": null,
      "min_width": null,
      "object_fit": null,
      "object_position": null,
      "order": null,
      "overflow": null,
      "overflow_x": null,
      "overflow_y": null,
      "padding": null,
      "right": null,
      "top": null,
      "visibility": null,
      "width": null
     }
    },
    "feedc5b13a244d848dc6f82dc27bc9c1": {
     "model_module": "@jupyter-widgets/controls",
     "model_name": "FloatProgressModel",
     "state": {
      "_dom_classes": [],
      "_model_module": "@jupyter-widgets/controls",
      "_model_module_version": "1.5.0",
      "_model_name": "FloatProgressModel",
      "_view_count": null,
      "_view_module": "@jupyter-widgets/controls",
      "_view_module_version": "1.5.0",
      "_view_name": "ProgressView",
      "bar_style": "success",
      "description": "100%",
      "description_tooltip": null,
      "layout": "IPY_MODEL_edcc60f4dd3b40288f1ec46b2a8c1731",
      "max": 250,
      "min": 0,
      "orientation": "horizontal",
      "style": "IPY_MODEL_a69d45a5f67546009397b23b4c5e2af1",
      "value": 250
     }
    }
   }
  }
 },
 "nbformat": 4,
 "nbformat_minor": 1
}
